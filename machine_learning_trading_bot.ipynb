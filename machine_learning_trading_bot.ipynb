{
 "cells": [
  {
   "cell_type": "markdown",
   "metadata": {},
   "source": [
    "# Machine Learning Trading Bot\n",
    "\n",
    "In this Challenge, you’ll assume the role of a financial advisor at one of the top five financial advisory firms in the world. Your firm constantly competes with the other major firms to manage and automatically trade assets in a highly dynamic environment. In recent years, your firm has heavily profited by using computer algorithms that can buy and sell faster than human traders.\n",
    "\n",
    "The speed of these transactions gave your firm a competitive advantage early on. But, people still need to specifically program these systems, which limits their ability to adapt to new data. You’re thus planning to improve the existing algorithmic trading systems and maintain the firm’s competitive advantage in the market. To do so, you’ll enhance the existing trading signals with machine learning algorithms that can adapt to new data.\n",
    "\n",
    "## Instructions:\n",
    "\n",
    "Use the starter code file to complete the steps that the instructions outline. The steps for this Challenge are divided into the following sections:\n",
    "\n",
    "* Establish a Baseline Performance\n",
    "\n",
    "* Tune the Baseline Trading Algorithm\n",
    "\n",
    "* Evaluate a New Machine Learning Classifier\n",
    "\n",
    "* Create an Evaluation Report\n",
    "\n",
    "#### Establish a Baseline Performance\n",
    "\n",
    "In this section, you’ll run the provided starter code to establish a baseline performance for the trading algorithm. To do so, complete the following steps.\n",
    "\n",
    "Open the Jupyter notebook. Restart the kernel, run the provided cells that correspond with the first three steps, and then proceed to step four. \n",
    "\n",
    "1. Import the OHLCV dataset into a Pandas DataFrame.\n",
    "\n",
    "2. Generate trading signals using short- and long-window SMA values. \n",
    "\n",
    "3. Split the data into training and testing datasets.\n",
    "\n",
    "4. Use the `SVC` classifier model from SKLearn's support vector machine (SVM) learning method to fit the training data and make predictions based on the testing data. Review the predictions.\n",
    "\n",
    "5. Review the classification report associated with the `SVC` model predictions. \n",
    "\n",
    "6. Create a predictions DataFrame that contains columns for “Predicted” values, “Actual Returns”, and “Strategy Returns”.\n",
    "\n",
    "7. Create a cumulative return plot that shows the actual returns vs. the strategy returns. Save a PNG image of this plot. This will serve as a baseline against which to compare the effects of tuning the trading algorithm.\n",
    "\n",
    "8. Write your conclusions about the performance of the baseline trading algorithm in the `README.md` file that’s associated with your GitHub repository. Support your findings by using the PNG image that you saved in the previous step.\n",
    "\n",
    "#### Tune the Baseline Trading Algorithm\n",
    "\n",
    "In this section, you’ll tune, or adjust, the model’s input features to find the parameters that result in the best trading outcomes. (You’ll choose the best by comparing the cumulative products of the strategy returns.) To do so, complete the following steps:\n",
    "\n",
    "1. Tune the training algorithm by adjusting the size of the training dataset. To do so, slice your data into different periods. Rerun the notebook with the updated parameters, and record the results in your `README.md` file. Answer the following question: What impact resulted from increasing or decreasing the training window?\n",
    "\n",
    "> **Hint** To adjust the size of the training dataset, you can use a different `DateOffset` value&mdash;for example, six months. Be aware that changing the size of the training dataset also affects the size of the testing dataset.\n",
    "\n",
    "2. Tune the trading algorithm by adjusting the SMA input features. Adjust one or both of the windows for the algorithm. Rerun the notebook with the updated parameters, and record the results in your `README.md` file. Answer the following question: What impact resulted from increasing or decreasing either or both of the SMA windows?\n",
    "\n",
    "3. Choose the set of parameters that best improved the trading algorithm returns. Save a PNG image of the cumulative product of the actual returns vs. the strategy returns, and document your conclusion in your `README.md` file.\n",
    "\n",
    "#### Evaluate a New Machine Learning Classifier\n",
    "\n",
    "In this section, you’ll use the original parameters that the starter code provided. But, you’ll apply them to the performance of a second machine learning model. To do so, complete the following steps:\n",
    "\n",
    "1. Import a new classifier, such as `AdaBoost`, `DecisionTreeClassifier`, or `LogisticRegression`. (For the full list of classifiers, refer to the [Supervised learning page](https://scikit-learn.org/stable/supervised_learning.html) in the scikit-learn documentation.)\n",
    "\n",
    "2. Using the original training data as the baseline model, fit another model with the new classifier.\n",
    "\n",
    "3. Backtest the new model to evaluate its performance. Save a PNG image of the cumulative product of the actual returns vs. the strategy returns for this updated trading algorithm, and write your conclusions in your `README.md` file. Answer the following questions: Did this new model perform better or worse than the provided baseline model? Did this new model perform better or worse than your tuned trading algorithm?\n",
    "\n",
    "#### Create an Evaluation Report\n",
    "\n",
    "In the previous sections, you updated your `README.md` file with your conclusions. To accomplish this section, you need to add a summary evaluation report at the end of the `README.md` file. For this report, express your final conclusions and analysis. Support your findings by using the PNG images that you created.\n"
   ]
  },
  {
   "cell_type": "code",
   "execution_count": 91,
   "metadata": {},
   "outputs": [],
   "source": [
    "# Imports\n",
    "import pandas as pd\n",
    "import numpy as np\n",
    "from pathlib import Path\n",
    "import hvplot.pandas\n",
    "import matplotlib.pyplot as plt\n",
    "from sklearn import svm\n",
    "from sklearn.preprocessing import StandardScaler\n",
    "from pandas.tseries.offsets import DateOffset\n",
    "from sklearn.metrics import classification_report"
   ]
  },
  {
   "cell_type": "markdown",
   "metadata": {},
   "source": [
    "---\n",
    "\n",
    "## Establish a Baseline Performance\n",
    "\n",
    "In this section, you’ll run the provided starter code to establish a baseline performance for the trading algorithm. To do so, complete the following steps.\n",
    "\n",
    "Open the Jupyter notebook. Restart the kernel, run the provided cells that correspond with the first three steps, and then proceed to step four. \n"
   ]
  },
  {
   "cell_type": "markdown",
   "metadata": {},
   "source": [
    "### Step 1: mport the OHLCV dataset into a Pandas DataFrame."
   ]
  },
  {
   "cell_type": "code",
   "execution_count": 92,
   "metadata": {},
   "outputs": [
    {
     "data": {
      "text/html": [
       "<div>\n",
       "<style scoped>\n",
       "    .dataframe tbody tr th:only-of-type {\n",
       "        vertical-align: middle;\n",
       "    }\n",
       "\n",
       "    .dataframe tbody tr th {\n",
       "        vertical-align: top;\n",
       "    }\n",
       "\n",
       "    .dataframe thead th {\n",
       "        text-align: right;\n",
       "    }\n",
       "</style>\n",
       "<table border=\"1\" class=\"dataframe\">\n",
       "  <thead>\n",
       "    <tr style=\"text-align: right;\">\n",
       "      <th></th>\n",
       "      <th>open</th>\n",
       "      <th>high</th>\n",
       "      <th>low</th>\n",
       "      <th>close</th>\n",
       "      <th>volume</th>\n",
       "    </tr>\n",
       "    <tr>\n",
       "      <th>date</th>\n",
       "      <th></th>\n",
       "      <th></th>\n",
       "      <th></th>\n",
       "      <th></th>\n",
       "      <th></th>\n",
       "    </tr>\n",
       "  </thead>\n",
       "  <tbody>\n",
       "    <tr>\n",
       "      <th>2015-01-21 09:30:00</th>\n",
       "      <td>23.83</td>\n",
       "      <td>23.83</td>\n",
       "      <td>23.83</td>\n",
       "      <td>23.83</td>\n",
       "      <td>100</td>\n",
       "    </tr>\n",
       "    <tr>\n",
       "      <th>2015-01-21 11:00:00</th>\n",
       "      <td>23.98</td>\n",
       "      <td>23.98</td>\n",
       "      <td>23.98</td>\n",
       "      <td>23.98</td>\n",
       "      <td>100</td>\n",
       "    </tr>\n",
       "    <tr>\n",
       "      <th>2015-01-22 15:00:00</th>\n",
       "      <td>24.42</td>\n",
       "      <td>24.42</td>\n",
       "      <td>24.42</td>\n",
       "      <td>24.42</td>\n",
       "      <td>100</td>\n",
       "    </tr>\n",
       "    <tr>\n",
       "      <th>2015-01-22 15:15:00</th>\n",
       "      <td>24.42</td>\n",
       "      <td>24.44</td>\n",
       "      <td>24.42</td>\n",
       "      <td>24.44</td>\n",
       "      <td>200</td>\n",
       "    </tr>\n",
       "    <tr>\n",
       "      <th>2015-01-22 15:30:00</th>\n",
       "      <td>24.46</td>\n",
       "      <td>24.46</td>\n",
       "      <td>24.46</td>\n",
       "      <td>24.46</td>\n",
       "      <td>200</td>\n",
       "    </tr>\n",
       "  </tbody>\n",
       "</table>\n",
       "</div>"
      ],
      "text/plain": [
       "                      open   high    low  close  volume\n",
       "date                                                   \n",
       "2015-01-21 09:30:00  23.83  23.83  23.83  23.83     100\n",
       "2015-01-21 11:00:00  23.98  23.98  23.98  23.98     100\n",
       "2015-01-22 15:00:00  24.42  24.42  24.42  24.42     100\n",
       "2015-01-22 15:15:00  24.42  24.44  24.42  24.44     200\n",
       "2015-01-22 15:30:00  24.46  24.46  24.46  24.46     200"
      ]
     },
     "execution_count": 92,
     "metadata": {},
     "output_type": "execute_result"
    }
   ],
   "source": [
    "# Import the OHLCV dataset into a Pandas Dataframe\n",
    "ohlcv_df = pd.read_csv(\n",
    "    Path(\"./Resources_2/emerging_markets_ohlcv.csv\"), \n",
    "    index_col='date', \n",
    "    infer_datetime_format=True, \n",
    "    parse_dates=True\n",
    ")\n",
    "\n",
    "# Review the DataFrame\n",
    "ohlcv_df.head()"
   ]
  },
  {
   "cell_type": "code",
   "execution_count": 93,
   "metadata": {},
   "outputs": [
    {
     "data": {
      "text/html": [
       "<div>\n",
       "<style scoped>\n",
       "    .dataframe tbody tr th:only-of-type {\n",
       "        vertical-align: middle;\n",
       "    }\n",
       "\n",
       "    .dataframe tbody tr th {\n",
       "        vertical-align: top;\n",
       "    }\n",
       "\n",
       "    .dataframe thead th {\n",
       "        text-align: right;\n",
       "    }\n",
       "</style>\n",
       "<table border=\"1\" class=\"dataframe\">\n",
       "  <thead>\n",
       "    <tr style=\"text-align: right;\">\n",
       "      <th></th>\n",
       "      <th>close</th>\n",
       "      <th>Actual Returns</th>\n",
       "    </tr>\n",
       "    <tr>\n",
       "      <th>date</th>\n",
       "      <th></th>\n",
       "      <th></th>\n",
       "    </tr>\n",
       "  </thead>\n",
       "  <tbody>\n",
       "    <tr>\n",
       "      <th>2015-01-21 11:00:00</th>\n",
       "      <td>23.98</td>\n",
       "      <td>0.006295</td>\n",
       "    </tr>\n",
       "    <tr>\n",
       "      <th>2015-01-22 15:00:00</th>\n",
       "      <td>24.42</td>\n",
       "      <td>0.018349</td>\n",
       "    </tr>\n",
       "    <tr>\n",
       "      <th>2015-01-22 15:15:00</th>\n",
       "      <td>24.44</td>\n",
       "      <td>0.000819</td>\n",
       "    </tr>\n",
       "    <tr>\n",
       "      <th>2015-01-22 15:30:00</th>\n",
       "      <td>24.46</td>\n",
       "      <td>0.000818</td>\n",
       "    </tr>\n",
       "    <tr>\n",
       "      <th>2015-01-26 12:30:00</th>\n",
       "      <td>24.33</td>\n",
       "      <td>-0.005315</td>\n",
       "    </tr>\n",
       "  </tbody>\n",
       "</table>\n",
       "</div>"
      ],
      "text/plain": [
       "                     close  Actual Returns\n",
       "date                                      \n",
       "2015-01-21 11:00:00  23.98        0.006295\n",
       "2015-01-22 15:00:00  24.42        0.018349\n",
       "2015-01-22 15:15:00  24.44        0.000819\n",
       "2015-01-22 15:30:00  24.46        0.000818\n",
       "2015-01-26 12:30:00  24.33       -0.005315"
      ]
     },
     "metadata": {},
     "output_type": "display_data"
    },
    {
     "data": {
      "text/html": [
       "<div>\n",
       "<style scoped>\n",
       "    .dataframe tbody tr th:only-of-type {\n",
       "        vertical-align: middle;\n",
       "    }\n",
       "\n",
       "    .dataframe tbody tr th {\n",
       "        vertical-align: top;\n",
       "    }\n",
       "\n",
       "    .dataframe thead th {\n",
       "        text-align: right;\n",
       "    }\n",
       "</style>\n",
       "<table border=\"1\" class=\"dataframe\">\n",
       "  <thead>\n",
       "    <tr style=\"text-align: right;\">\n",
       "      <th></th>\n",
       "      <th>close</th>\n",
       "      <th>Actual Returns</th>\n",
       "    </tr>\n",
       "    <tr>\n",
       "      <th>date</th>\n",
       "      <th></th>\n",
       "      <th></th>\n",
       "    </tr>\n",
       "  </thead>\n",
       "  <tbody>\n",
       "    <tr>\n",
       "      <th>2021-01-22 09:30:00</th>\n",
       "      <td>33.27</td>\n",
       "      <td>-0.006866</td>\n",
       "    </tr>\n",
       "    <tr>\n",
       "      <th>2021-01-22 11:30:00</th>\n",
       "      <td>33.35</td>\n",
       "      <td>0.002405</td>\n",
       "    </tr>\n",
       "    <tr>\n",
       "      <th>2021-01-22 13:45:00</th>\n",
       "      <td>33.42</td>\n",
       "      <td>0.002099</td>\n",
       "    </tr>\n",
       "    <tr>\n",
       "      <th>2021-01-22 14:30:00</th>\n",
       "      <td>33.47</td>\n",
       "      <td>0.001496</td>\n",
       "    </tr>\n",
       "    <tr>\n",
       "      <th>2021-01-22 15:45:00</th>\n",
       "      <td>33.44</td>\n",
       "      <td>-0.000896</td>\n",
       "    </tr>\n",
       "  </tbody>\n",
       "</table>\n",
       "</div>"
      ],
      "text/plain": [
       "                     close  Actual Returns\n",
       "date                                      \n",
       "2021-01-22 09:30:00  33.27       -0.006866\n",
       "2021-01-22 11:30:00  33.35        0.002405\n",
       "2021-01-22 13:45:00  33.42        0.002099\n",
       "2021-01-22 14:30:00  33.47        0.001496\n",
       "2021-01-22 15:45:00  33.44       -0.000896"
      ]
     },
     "metadata": {},
     "output_type": "display_data"
    }
   ],
   "source": [
    "# Filter the date index and close columns\n",
    "signals_df = ohlcv_df.loc[:, [\"close\"]]\n",
    "\n",
    "# Use the pct_change function to generate  returns from close prices\n",
    "signals_df[\"Actual Returns\"] = signals_df[\"close\"].pct_change()\n",
    "\n",
    "# Drop all NaN values from the DataFrame\n",
    "signals_df = signals_df.dropna()\n",
    "\n",
    "# Review the DataFrame\n",
    "display(signals_df.head())\n",
    "display(signals_df.tail())"
   ]
  },
  {
   "cell_type": "markdown",
   "metadata": {},
   "source": [
    "## Step 2: Generate trading signals using short- and long-window SMA values. "
   ]
  },
  {
   "cell_type": "code",
   "execution_count": 94,
   "metadata": {},
   "outputs": [
    {
     "data": {
      "text/html": [
       "<div>\n",
       "<style scoped>\n",
       "    .dataframe tbody tr th:only-of-type {\n",
       "        vertical-align: middle;\n",
       "    }\n",
       "\n",
       "    .dataframe tbody tr th {\n",
       "        vertical-align: top;\n",
       "    }\n",
       "\n",
       "    .dataframe thead th {\n",
       "        text-align: right;\n",
       "    }\n",
       "</style>\n",
       "<table border=\"1\" class=\"dataframe\">\n",
       "  <thead>\n",
       "    <tr style=\"text-align: right;\">\n",
       "      <th></th>\n",
       "      <th>close</th>\n",
       "      <th>Actual Returns</th>\n",
       "      <th>SMA_Fast</th>\n",
       "      <th>SMA_Slow</th>\n",
       "    </tr>\n",
       "    <tr>\n",
       "      <th>date</th>\n",
       "      <th></th>\n",
       "      <th></th>\n",
       "      <th></th>\n",
       "      <th></th>\n",
       "    </tr>\n",
       "  </thead>\n",
       "  <tbody>\n",
       "    <tr>\n",
       "      <th>2015-04-02 14:45:00</th>\n",
       "      <td>24.92</td>\n",
       "      <td>0.000000</td>\n",
       "      <td>24.9175</td>\n",
       "      <td>24.3214</td>\n",
       "    </tr>\n",
       "    <tr>\n",
       "      <th>2015-04-02 15:00:00</th>\n",
       "      <td>24.92</td>\n",
       "      <td>0.000000</td>\n",
       "      <td>24.9200</td>\n",
       "      <td>24.3308</td>\n",
       "    </tr>\n",
       "    <tr>\n",
       "      <th>2015-04-02 15:15:00</th>\n",
       "      <td>24.94</td>\n",
       "      <td>0.000803</td>\n",
       "      <td>24.9250</td>\n",
       "      <td>24.3360</td>\n",
       "    </tr>\n",
       "    <tr>\n",
       "      <th>2015-04-02 15:30:00</th>\n",
       "      <td>24.95</td>\n",
       "      <td>0.000401</td>\n",
       "      <td>24.9325</td>\n",
       "      <td>24.3411</td>\n",
       "    </tr>\n",
       "    <tr>\n",
       "      <th>2015-04-02 15:45:00</th>\n",
       "      <td>24.98</td>\n",
       "      <td>0.001202</td>\n",
       "      <td>24.9475</td>\n",
       "      <td>24.3463</td>\n",
       "    </tr>\n",
       "  </tbody>\n",
       "</table>\n",
       "</div>"
      ],
      "text/plain": [
       "                     close  Actual Returns  SMA_Fast  SMA_Slow\n",
       "date                                                          \n",
       "2015-04-02 14:45:00  24.92        0.000000   24.9175   24.3214\n",
       "2015-04-02 15:00:00  24.92        0.000000   24.9200   24.3308\n",
       "2015-04-02 15:15:00  24.94        0.000803   24.9250   24.3360\n",
       "2015-04-02 15:30:00  24.95        0.000401   24.9325   24.3411\n",
       "2015-04-02 15:45:00  24.98        0.001202   24.9475   24.3463"
      ]
     },
     "metadata": {},
     "output_type": "display_data"
    },
    {
     "data": {
      "text/html": [
       "<div>\n",
       "<style scoped>\n",
       "    .dataframe tbody tr th:only-of-type {\n",
       "        vertical-align: middle;\n",
       "    }\n",
       "\n",
       "    .dataframe tbody tr th {\n",
       "        vertical-align: top;\n",
       "    }\n",
       "\n",
       "    .dataframe thead th {\n",
       "        text-align: right;\n",
       "    }\n",
       "</style>\n",
       "<table border=\"1\" class=\"dataframe\">\n",
       "  <thead>\n",
       "    <tr style=\"text-align: right;\">\n",
       "      <th></th>\n",
       "      <th>close</th>\n",
       "      <th>Actual Returns</th>\n",
       "      <th>SMA_Fast</th>\n",
       "      <th>SMA_Slow</th>\n",
       "    </tr>\n",
       "    <tr>\n",
       "      <th>date</th>\n",
       "      <th></th>\n",
       "      <th></th>\n",
       "      <th></th>\n",
       "      <th></th>\n",
       "    </tr>\n",
       "  </thead>\n",
       "  <tbody>\n",
       "    <tr>\n",
       "      <th>2021-01-22 09:30:00</th>\n",
       "      <td>33.27</td>\n",
       "      <td>-0.006866</td>\n",
       "      <td>33.2025</td>\n",
       "      <td>30.40215</td>\n",
       "    </tr>\n",
       "    <tr>\n",
       "      <th>2021-01-22 11:30:00</th>\n",
       "      <td>33.35</td>\n",
       "      <td>0.002405</td>\n",
       "      <td>33.2725</td>\n",
       "      <td>30.44445</td>\n",
       "    </tr>\n",
       "    <tr>\n",
       "      <th>2021-01-22 13:45:00</th>\n",
       "      <td>33.42</td>\n",
       "      <td>0.002099</td>\n",
       "      <td>33.3850</td>\n",
       "      <td>30.48745</td>\n",
       "    </tr>\n",
       "    <tr>\n",
       "      <th>2021-01-22 14:30:00</th>\n",
       "      <td>33.47</td>\n",
       "      <td>0.001496</td>\n",
       "      <td>33.3775</td>\n",
       "      <td>30.53085</td>\n",
       "    </tr>\n",
       "    <tr>\n",
       "      <th>2021-01-22 15:45:00</th>\n",
       "      <td>33.44</td>\n",
       "      <td>-0.000896</td>\n",
       "      <td>33.4200</td>\n",
       "      <td>30.57495</td>\n",
       "    </tr>\n",
       "  </tbody>\n",
       "</table>\n",
       "</div>"
      ],
      "text/plain": [
       "                     close  Actual Returns  SMA_Fast  SMA_Slow\n",
       "date                                                          \n",
       "2021-01-22 09:30:00  33.27       -0.006866   33.2025  30.40215\n",
       "2021-01-22 11:30:00  33.35        0.002405   33.2725  30.44445\n",
       "2021-01-22 13:45:00  33.42        0.002099   33.3850  30.48745\n",
       "2021-01-22 14:30:00  33.47        0.001496   33.3775  30.53085\n",
       "2021-01-22 15:45:00  33.44       -0.000896   33.4200  30.57495"
      ]
     },
     "metadata": {},
     "output_type": "display_data"
    }
   ],
   "source": [
    "# Set the short window and long window\n",
    "short_window = 4\n",
    "long_window = 100\n",
    "\n",
    "# Generate the fast and slow simple moving averages (4 and 100 days, respectively)\n",
    "signals_df['SMA_Fast'] = signals_df['close'].rolling(window=short_window).mean()\n",
    "signals_df['SMA_Slow'] = signals_df['close'].rolling(window=long_window).mean()\n",
    "\n",
    "signals_df = signals_df.dropna()\n",
    "\n",
    "# Review the DataFrame\n",
    "display(signals_df.head())\n",
    "display(signals_df.tail())"
   ]
  },
  {
   "cell_type": "code",
   "execution_count": 95,
   "metadata": {},
   "outputs": [
    {
     "data": {
      "text/html": [
       "<div>\n",
       "<style scoped>\n",
       "    .dataframe tbody tr th:only-of-type {\n",
       "        vertical-align: middle;\n",
       "    }\n",
       "\n",
       "    .dataframe tbody tr th {\n",
       "        vertical-align: top;\n",
       "    }\n",
       "\n",
       "    .dataframe thead th {\n",
       "        text-align: right;\n",
       "    }\n",
       "</style>\n",
       "<table border=\"1\" class=\"dataframe\">\n",
       "  <thead>\n",
       "    <tr style=\"text-align: right;\">\n",
       "      <th></th>\n",
       "      <th>close</th>\n",
       "      <th>Actual Returns</th>\n",
       "      <th>SMA_Fast</th>\n",
       "      <th>SMA_Slow</th>\n",
       "      <th>Signal</th>\n",
       "    </tr>\n",
       "    <tr>\n",
       "      <th>date</th>\n",
       "      <th></th>\n",
       "      <th></th>\n",
       "      <th></th>\n",
       "      <th></th>\n",
       "      <th></th>\n",
       "    </tr>\n",
       "  </thead>\n",
       "  <tbody>\n",
       "    <tr>\n",
       "      <th>2015-04-02 14:45:00</th>\n",
       "      <td>24.92</td>\n",
       "      <td>0.000000</td>\n",
       "      <td>24.9175</td>\n",
       "      <td>24.3214</td>\n",
       "      <td>1.0</td>\n",
       "    </tr>\n",
       "    <tr>\n",
       "      <th>2015-04-02 15:00:00</th>\n",
       "      <td>24.92</td>\n",
       "      <td>0.000000</td>\n",
       "      <td>24.9200</td>\n",
       "      <td>24.3308</td>\n",
       "      <td>1.0</td>\n",
       "    </tr>\n",
       "    <tr>\n",
       "      <th>2015-04-02 15:15:00</th>\n",
       "      <td>24.94</td>\n",
       "      <td>0.000803</td>\n",
       "      <td>24.9250</td>\n",
       "      <td>24.3360</td>\n",
       "      <td>1.0</td>\n",
       "    </tr>\n",
       "    <tr>\n",
       "      <th>2015-04-02 15:30:00</th>\n",
       "      <td>24.95</td>\n",
       "      <td>0.000401</td>\n",
       "      <td>24.9325</td>\n",
       "      <td>24.3411</td>\n",
       "      <td>1.0</td>\n",
       "    </tr>\n",
       "    <tr>\n",
       "      <th>2015-04-02 15:45:00</th>\n",
       "      <td>24.98</td>\n",
       "      <td>0.001202</td>\n",
       "      <td>24.9475</td>\n",
       "      <td>24.3463</td>\n",
       "      <td>1.0</td>\n",
       "    </tr>\n",
       "  </tbody>\n",
       "</table>\n",
       "</div>"
      ],
      "text/plain": [
       "                     close  Actual Returns  SMA_Fast  SMA_Slow  Signal\n",
       "date                                                                  \n",
       "2015-04-02 14:45:00  24.92        0.000000   24.9175   24.3214     1.0\n",
       "2015-04-02 15:00:00  24.92        0.000000   24.9200   24.3308     1.0\n",
       "2015-04-02 15:15:00  24.94        0.000803   24.9250   24.3360     1.0\n",
       "2015-04-02 15:30:00  24.95        0.000401   24.9325   24.3411     1.0\n",
       "2015-04-02 15:45:00  24.98        0.001202   24.9475   24.3463     1.0"
      ]
     },
     "metadata": {},
     "output_type": "display_data"
    },
    {
     "data": {
      "text/html": [
       "<div>\n",
       "<style scoped>\n",
       "    .dataframe tbody tr th:only-of-type {\n",
       "        vertical-align: middle;\n",
       "    }\n",
       "\n",
       "    .dataframe tbody tr th {\n",
       "        vertical-align: top;\n",
       "    }\n",
       "\n",
       "    .dataframe thead th {\n",
       "        text-align: right;\n",
       "    }\n",
       "</style>\n",
       "<table border=\"1\" class=\"dataframe\">\n",
       "  <thead>\n",
       "    <tr style=\"text-align: right;\">\n",
       "      <th></th>\n",
       "      <th>close</th>\n",
       "      <th>Actual Returns</th>\n",
       "      <th>SMA_Fast</th>\n",
       "      <th>SMA_Slow</th>\n",
       "      <th>Signal</th>\n",
       "    </tr>\n",
       "    <tr>\n",
       "      <th>date</th>\n",
       "      <th></th>\n",
       "      <th></th>\n",
       "      <th></th>\n",
       "      <th></th>\n",
       "      <th></th>\n",
       "    </tr>\n",
       "  </thead>\n",
       "  <tbody>\n",
       "    <tr>\n",
       "      <th>2021-01-22 09:30:00</th>\n",
       "      <td>33.27</td>\n",
       "      <td>-0.006866</td>\n",
       "      <td>33.2025</td>\n",
       "      <td>30.40215</td>\n",
       "      <td>-1.0</td>\n",
       "    </tr>\n",
       "    <tr>\n",
       "      <th>2021-01-22 11:30:00</th>\n",
       "      <td>33.35</td>\n",
       "      <td>0.002405</td>\n",
       "      <td>33.2725</td>\n",
       "      <td>30.44445</td>\n",
       "      <td>1.0</td>\n",
       "    </tr>\n",
       "    <tr>\n",
       "      <th>2021-01-22 13:45:00</th>\n",
       "      <td>33.42</td>\n",
       "      <td>0.002099</td>\n",
       "      <td>33.3850</td>\n",
       "      <td>30.48745</td>\n",
       "      <td>1.0</td>\n",
       "    </tr>\n",
       "    <tr>\n",
       "      <th>2021-01-22 14:30:00</th>\n",
       "      <td>33.47</td>\n",
       "      <td>0.001496</td>\n",
       "      <td>33.3775</td>\n",
       "      <td>30.53085</td>\n",
       "      <td>1.0</td>\n",
       "    </tr>\n",
       "    <tr>\n",
       "      <th>2021-01-22 15:45:00</th>\n",
       "      <td>33.44</td>\n",
       "      <td>-0.000896</td>\n",
       "      <td>33.4200</td>\n",
       "      <td>30.57495</td>\n",
       "      <td>-1.0</td>\n",
       "    </tr>\n",
       "  </tbody>\n",
       "</table>\n",
       "</div>"
      ],
      "text/plain": [
       "                     close  Actual Returns  SMA_Fast  SMA_Slow  Signal\n",
       "date                                                                  \n",
       "2021-01-22 09:30:00  33.27       -0.006866   33.2025  30.40215    -1.0\n",
       "2021-01-22 11:30:00  33.35        0.002405   33.2725  30.44445     1.0\n",
       "2021-01-22 13:45:00  33.42        0.002099   33.3850  30.48745     1.0\n",
       "2021-01-22 14:30:00  33.47        0.001496   33.3775  30.53085     1.0\n",
       "2021-01-22 15:45:00  33.44       -0.000896   33.4200  30.57495    -1.0"
      ]
     },
     "metadata": {},
     "output_type": "display_data"
    }
   ],
   "source": [
    "# Initialize the new Signal column\n",
    "signals_df['Signal'] = 0.0\n",
    "\n",
    "# When Actual Returns are greater than or equal to 0, generate signal to buy stock long\n",
    "signals_df.loc[(signals_df['Actual Returns'] >= 0), 'Signal'] = 1\n",
    "\n",
    "# When Actual Returns are less than 0, generate signal to sell stock short\n",
    "signals_df.loc[(signals_df['Actual Returns'] < 0), 'Signal'] = -1\n",
    "\n",
    "# Review the DataFrame\n",
    "display(signals_df.head())\n",
    "display(signals_df.tail())"
   ]
  },
  {
   "cell_type": "code",
   "execution_count": 96,
   "metadata": {},
   "outputs": [
    {
     "data": {
      "text/plain": [
       " 1.0    2368\n",
       "-1.0    1855\n",
       "Name: Signal, dtype: int64"
      ]
     },
     "execution_count": 96,
     "metadata": {},
     "output_type": "execute_result"
    }
   ],
   "source": [
    "signals_df['Signal'].value_counts()"
   ]
  },
  {
   "cell_type": "code",
   "execution_count": 97,
   "metadata": {},
   "outputs": [
    {
     "data": {
      "text/html": [
       "<div>\n",
       "<style scoped>\n",
       "    .dataframe tbody tr th:only-of-type {\n",
       "        vertical-align: middle;\n",
       "    }\n",
       "\n",
       "    .dataframe tbody tr th {\n",
       "        vertical-align: top;\n",
       "    }\n",
       "\n",
       "    .dataframe thead th {\n",
       "        text-align: right;\n",
       "    }\n",
       "</style>\n",
       "<table border=\"1\" class=\"dataframe\">\n",
       "  <thead>\n",
       "    <tr style=\"text-align: right;\">\n",
       "      <th></th>\n",
       "      <th>close</th>\n",
       "      <th>Actual Returns</th>\n",
       "      <th>SMA_Fast</th>\n",
       "      <th>SMA_Slow</th>\n",
       "      <th>Signal</th>\n",
       "      <th>Strategy Returns</th>\n",
       "    </tr>\n",
       "    <tr>\n",
       "      <th>date</th>\n",
       "      <th></th>\n",
       "      <th></th>\n",
       "      <th></th>\n",
       "      <th></th>\n",
       "      <th></th>\n",
       "      <th></th>\n",
       "    </tr>\n",
       "  </thead>\n",
       "  <tbody>\n",
       "    <tr>\n",
       "      <th>2015-04-02 14:45:00</th>\n",
       "      <td>24.92</td>\n",
       "      <td>0.000000</td>\n",
       "      <td>24.9175</td>\n",
       "      <td>24.3214</td>\n",
       "      <td>1.0</td>\n",
       "      <td>NaN</td>\n",
       "    </tr>\n",
       "    <tr>\n",
       "      <th>2015-04-02 15:00:00</th>\n",
       "      <td>24.92</td>\n",
       "      <td>0.000000</td>\n",
       "      <td>24.9200</td>\n",
       "      <td>24.3308</td>\n",
       "      <td>1.0</td>\n",
       "      <td>0.000000</td>\n",
       "    </tr>\n",
       "    <tr>\n",
       "      <th>2015-04-02 15:15:00</th>\n",
       "      <td>24.94</td>\n",
       "      <td>0.000803</td>\n",
       "      <td>24.9250</td>\n",
       "      <td>24.3360</td>\n",
       "      <td>1.0</td>\n",
       "      <td>0.000803</td>\n",
       "    </tr>\n",
       "    <tr>\n",
       "      <th>2015-04-02 15:30:00</th>\n",
       "      <td>24.95</td>\n",
       "      <td>0.000401</td>\n",
       "      <td>24.9325</td>\n",
       "      <td>24.3411</td>\n",
       "      <td>1.0</td>\n",
       "      <td>0.000401</td>\n",
       "    </tr>\n",
       "    <tr>\n",
       "      <th>2015-04-02 15:45:00</th>\n",
       "      <td>24.98</td>\n",
       "      <td>0.001202</td>\n",
       "      <td>24.9475</td>\n",
       "      <td>24.3463</td>\n",
       "      <td>1.0</td>\n",
       "      <td>0.001202</td>\n",
       "    </tr>\n",
       "  </tbody>\n",
       "</table>\n",
       "</div>"
      ],
      "text/plain": [
       "                     close  Actual Returns  SMA_Fast  SMA_Slow  Signal  \\\n",
       "date                                                                     \n",
       "2015-04-02 14:45:00  24.92        0.000000   24.9175   24.3214     1.0   \n",
       "2015-04-02 15:00:00  24.92        0.000000   24.9200   24.3308     1.0   \n",
       "2015-04-02 15:15:00  24.94        0.000803   24.9250   24.3360     1.0   \n",
       "2015-04-02 15:30:00  24.95        0.000401   24.9325   24.3411     1.0   \n",
       "2015-04-02 15:45:00  24.98        0.001202   24.9475   24.3463     1.0   \n",
       "\n",
       "                     Strategy Returns  \n",
       "date                                   \n",
       "2015-04-02 14:45:00               NaN  \n",
       "2015-04-02 15:00:00          0.000000  \n",
       "2015-04-02 15:15:00          0.000803  \n",
       "2015-04-02 15:30:00          0.000401  \n",
       "2015-04-02 15:45:00          0.001202  "
      ]
     },
     "metadata": {},
     "output_type": "display_data"
    },
    {
     "data": {
      "text/html": [
       "<div>\n",
       "<style scoped>\n",
       "    .dataframe tbody tr th:only-of-type {\n",
       "        vertical-align: middle;\n",
       "    }\n",
       "\n",
       "    .dataframe tbody tr th {\n",
       "        vertical-align: top;\n",
       "    }\n",
       "\n",
       "    .dataframe thead th {\n",
       "        text-align: right;\n",
       "    }\n",
       "</style>\n",
       "<table border=\"1\" class=\"dataframe\">\n",
       "  <thead>\n",
       "    <tr style=\"text-align: right;\">\n",
       "      <th></th>\n",
       "      <th>close</th>\n",
       "      <th>Actual Returns</th>\n",
       "      <th>SMA_Fast</th>\n",
       "      <th>SMA_Slow</th>\n",
       "      <th>Signal</th>\n",
       "      <th>Strategy Returns</th>\n",
       "    </tr>\n",
       "    <tr>\n",
       "      <th>date</th>\n",
       "      <th></th>\n",
       "      <th></th>\n",
       "      <th></th>\n",
       "      <th></th>\n",
       "      <th></th>\n",
       "      <th></th>\n",
       "    </tr>\n",
       "  </thead>\n",
       "  <tbody>\n",
       "    <tr>\n",
       "      <th>2021-01-22 09:30:00</th>\n",
       "      <td>33.27</td>\n",
       "      <td>-0.006866</td>\n",
       "      <td>33.2025</td>\n",
       "      <td>30.40215</td>\n",
       "      <td>-1.0</td>\n",
       "      <td>-0.006866</td>\n",
       "    </tr>\n",
       "    <tr>\n",
       "      <th>2021-01-22 11:30:00</th>\n",
       "      <td>33.35</td>\n",
       "      <td>0.002405</td>\n",
       "      <td>33.2725</td>\n",
       "      <td>30.44445</td>\n",
       "      <td>1.0</td>\n",
       "      <td>-0.002405</td>\n",
       "    </tr>\n",
       "    <tr>\n",
       "      <th>2021-01-22 13:45:00</th>\n",
       "      <td>33.42</td>\n",
       "      <td>0.002099</td>\n",
       "      <td>33.3850</td>\n",
       "      <td>30.48745</td>\n",
       "      <td>1.0</td>\n",
       "      <td>0.002099</td>\n",
       "    </tr>\n",
       "    <tr>\n",
       "      <th>2021-01-22 14:30:00</th>\n",
       "      <td>33.47</td>\n",
       "      <td>0.001496</td>\n",
       "      <td>33.3775</td>\n",
       "      <td>30.53085</td>\n",
       "      <td>1.0</td>\n",
       "      <td>0.001496</td>\n",
       "    </tr>\n",
       "    <tr>\n",
       "      <th>2021-01-22 15:45:00</th>\n",
       "      <td>33.44</td>\n",
       "      <td>-0.000896</td>\n",
       "      <td>33.4200</td>\n",
       "      <td>30.57495</td>\n",
       "      <td>-1.0</td>\n",
       "      <td>-0.000896</td>\n",
       "    </tr>\n",
       "  </tbody>\n",
       "</table>\n",
       "</div>"
      ],
      "text/plain": [
       "                     close  Actual Returns  SMA_Fast  SMA_Slow  Signal  \\\n",
       "date                                                                     \n",
       "2021-01-22 09:30:00  33.27       -0.006866   33.2025  30.40215    -1.0   \n",
       "2021-01-22 11:30:00  33.35        0.002405   33.2725  30.44445     1.0   \n",
       "2021-01-22 13:45:00  33.42        0.002099   33.3850  30.48745     1.0   \n",
       "2021-01-22 14:30:00  33.47        0.001496   33.3775  30.53085     1.0   \n",
       "2021-01-22 15:45:00  33.44       -0.000896   33.4200  30.57495    -1.0   \n",
       "\n",
       "                     Strategy Returns  \n",
       "date                                   \n",
       "2021-01-22 09:30:00         -0.006866  \n",
       "2021-01-22 11:30:00         -0.002405  \n",
       "2021-01-22 13:45:00          0.002099  \n",
       "2021-01-22 14:30:00          0.001496  \n",
       "2021-01-22 15:45:00         -0.000896  "
      ]
     },
     "metadata": {},
     "output_type": "display_data"
    }
   ],
   "source": [
    "# Calculate the strategy returns and add them to the signals_df DataFrame\n",
    "signals_df['Strategy Returns'] = signals_df['Actual Returns'] * signals_df['Signal'].shift()\n",
    "\n",
    "# Review the DataFrame\n",
    "display(signals_df.head())\n",
    "display(signals_df.tail())"
   ]
  },
  {
   "cell_type": "code",
   "execution_count": 98,
   "metadata": {},
   "outputs": [
    {
     "data": {
      "text/plain": [
       "<AxesSubplot:xlabel='date'>"
      ]
     },
     "execution_count": 98,
     "metadata": {},
     "output_type": "execute_result"
    },
    {
     "data": {
      "image/png": "[encoded data removed]",
      "text/plain": [
       "<Figure size 432x288 with 1 Axes>"
      ]
     },
     "metadata": {
      "needs_background": "light"
     },
     "output_type": "display_data"
    }
   ],
   "source": [
    "# Plot Strategy Returns to examine performance\n",
    "(1 + signals_df['Strategy Returns']).cumprod().plot()"
   ]
  },
  {
   "cell_type": "markdown",
   "metadata": {},
   "source": [
    "### Step 3: Split the data into training and testing datasets."
   ]
  },
  {
   "cell_type": "code",
   "execution_count": 99,
   "metadata": {},
   "outputs": [
    {
     "data": {
      "text/html": [
       "<div>\n",
       "<style scoped>\n",
       "    .dataframe tbody tr th:only-of-type {\n",
       "        vertical-align: middle;\n",
       "    }\n",
       "\n",
       "    .dataframe tbody tr th {\n",
       "        vertical-align: top;\n",
       "    }\n",
       "\n",
       "    .dataframe thead th {\n",
       "        text-align: right;\n",
       "    }\n",
       "</style>\n",
       "<table border=\"1\" class=\"dataframe\">\n",
       "  <thead>\n",
       "    <tr style=\"text-align: right;\">\n",
       "      <th></th>\n",
       "      <th>SMA_Fast</th>\n",
       "      <th>SMA_Slow</th>\n",
       "    </tr>\n",
       "    <tr>\n",
       "      <th>date</th>\n",
       "      <th></th>\n",
       "      <th></th>\n",
       "    </tr>\n",
       "  </thead>\n",
       "  <tbody>\n",
       "    <tr>\n",
       "      <th>2015-04-02 15:00:00</th>\n",
       "      <td>24.9175</td>\n",
       "      <td>24.3214</td>\n",
       "    </tr>\n",
       "    <tr>\n",
       "      <th>2015-04-02 15:15:00</th>\n",
       "      <td>24.9200</td>\n",
       "      <td>24.3308</td>\n",
       "    </tr>\n",
       "    <tr>\n",
       "      <th>2015-04-02 15:30:00</th>\n",
       "      <td>24.9250</td>\n",
       "      <td>24.3360</td>\n",
       "    </tr>\n",
       "    <tr>\n",
       "      <th>2015-04-02 15:45:00</th>\n",
       "      <td>24.9325</td>\n",
       "      <td>24.3411</td>\n",
       "    </tr>\n",
       "    <tr>\n",
       "      <th>2015-04-06 09:30:00</th>\n",
       "      <td>24.9475</td>\n",
       "      <td>24.3463</td>\n",
       "    </tr>\n",
       "  </tbody>\n",
       "</table>\n",
       "</div>"
      ],
      "text/plain": [
       "                     SMA_Fast  SMA_Slow\n",
       "date                                   \n",
       "2015-04-02 15:00:00   24.9175   24.3214\n",
       "2015-04-02 15:15:00   24.9200   24.3308\n",
       "2015-04-02 15:30:00   24.9250   24.3360\n",
       "2015-04-02 15:45:00   24.9325   24.3411\n",
       "2015-04-06 09:30:00   24.9475   24.3463"
      ]
     },
     "execution_count": 99,
     "metadata": {},
     "output_type": "execute_result"
    }
   ],
   "source": [
    "# Assign a copy of the sma_fast and sma_slow columns to a features DataFrame called X\n",
    "X = signals_df[['SMA_Fast', 'SMA_Slow']].shift().dropna()\n",
    "\n",
    "# Review the DataFrame\n",
    "X.head()"
   ]
  },
  {
   "cell_type": "code",
   "execution_count": 100,
   "metadata": {},
   "outputs": [
    {
     "data": {
      "text/plain": [
       " 1.0    2368\n",
       "-1.0    1855\n",
       "Name: Signal, dtype: int64"
      ]
     },
     "execution_count": 100,
     "metadata": {},
     "output_type": "execute_result"
    }
   ],
   "source": [
    "# Create the target set selecting the Signal column and assiging it to y\n",
    "y = signals_df['Signal']\n",
    "\n",
    "# Review the value counts\n",
    "y.value_counts()"
   ]
  },
  {
   "cell_type": "code",
   "execution_count": 101,
   "metadata": {},
   "outputs": [
    {
     "name": "stdout",
     "output_type": "stream",
     "text": [
      "2015-04-02 15:00:00\n"
     ]
    }
   ],
   "source": [
    "# Select the start of the training period\n",
    "training_begin = X.index.min()\n",
    "\n",
    "# Display the training begin date\n",
    "print(training_begin)"
   ]
  },
  {
   "cell_type": "code",
   "execution_count": 109,
   "metadata": {},
   "outputs": [
    {
     "name": "stdout",
     "output_type": "stream",
     "text": [
      "2016-10-02 15:00:00\n"
     ]
    }
   ],
   "source": [
    "# Select the ending period for the training data with an offset of 3 months\n",
    "training_end = X.index.min() + DateOffset(months=18)\n",
    "\n",
    "# Display the training end date\n",
    "print(training_end)"
   ]
  },
  {
   "cell_type": "code",
   "execution_count": 110,
   "metadata": {},
   "outputs": [
    {
     "data": {
      "text/html": [
       "<div>\n",
       "<style scoped>\n",
       "    .dataframe tbody tr th:only-of-type {\n",
       "        vertical-align: middle;\n",
       "    }\n",
       "\n",
       "    .dataframe tbody tr th {\n",
       "        vertical-align: top;\n",
       "    }\n",
       "\n",
       "    .dataframe thead th {\n",
       "        text-align: right;\n",
       "    }\n",
       "</style>\n",
       "<table border=\"1\" class=\"dataframe\">\n",
       "  <thead>\n",
       "    <tr style=\"text-align: right;\">\n",
       "      <th></th>\n",
       "      <th>SMA_Fast</th>\n",
       "      <th>SMA_Slow</th>\n",
       "    </tr>\n",
       "    <tr>\n",
       "      <th>date</th>\n",
       "      <th></th>\n",
       "      <th></th>\n",
       "    </tr>\n",
       "  </thead>\n",
       "  <tbody>\n",
       "    <tr>\n",
       "      <th>2015-04-02 15:00:00</th>\n",
       "      <td>24.9175</td>\n",
       "      <td>24.3214</td>\n",
       "    </tr>\n",
       "    <tr>\n",
       "      <th>2015-04-02 15:15:00</th>\n",
       "      <td>24.9200</td>\n",
       "      <td>24.3308</td>\n",
       "    </tr>\n",
       "    <tr>\n",
       "      <th>2015-04-02 15:30:00</th>\n",
       "      <td>24.9250</td>\n",
       "      <td>24.3360</td>\n",
       "    </tr>\n",
       "    <tr>\n",
       "      <th>2015-04-02 15:45:00</th>\n",
       "      <td>24.9325</td>\n",
       "      <td>24.3411</td>\n",
       "    </tr>\n",
       "    <tr>\n",
       "      <th>2015-04-06 09:30:00</th>\n",
       "      <td>24.9475</td>\n",
       "      <td>24.3463</td>\n",
       "    </tr>\n",
       "  </tbody>\n",
       "</table>\n",
       "</div>"
      ],
      "text/plain": [
       "                     SMA_Fast  SMA_Slow\n",
       "date                                   \n",
       "2015-04-02 15:00:00   24.9175   24.3214\n",
       "2015-04-02 15:15:00   24.9200   24.3308\n",
       "2015-04-02 15:30:00   24.9250   24.3360\n",
       "2015-04-02 15:45:00   24.9325   24.3411\n",
       "2015-04-06 09:30:00   24.9475   24.3463"
      ]
     },
     "execution_count": 110,
     "metadata": {},
     "output_type": "execute_result"
    }
   ],
   "source": [
    "# Generate the X_train and y_train DataFrames\n",
    "X_train = X.loc[training_begin:training_end]\n",
    "y_train = y.loc[training_begin:training_end]\n",
    "\n",
    "# Review the X_train DataFrame\n",
    "X_train.head()"
   ]
  },
  {
   "cell_type": "code",
   "execution_count": 111,
   "metadata": {},
   "outputs": [
    {
     "data": {
      "text/html": [
       "<div>\n",
       "<style scoped>\n",
       "    .dataframe tbody tr th:only-of-type {\n",
       "        vertical-align: middle;\n",
       "    }\n",
       "\n",
       "    .dataframe tbody tr th {\n",
       "        vertical-align: top;\n",
       "    }\n",
       "\n",
       "    .dataframe thead th {\n",
       "        text-align: right;\n",
       "    }\n",
       "</style>\n",
       "<table border=\"1\" class=\"dataframe\">\n",
       "  <thead>\n",
       "    <tr style=\"text-align: right;\">\n",
       "      <th></th>\n",
       "      <th>SMA_Fast</th>\n",
       "      <th>SMA_Slow</th>\n",
       "    </tr>\n",
       "    <tr>\n",
       "      <th>date</th>\n",
       "      <th></th>\n",
       "      <th></th>\n",
       "    </tr>\n",
       "  </thead>\n",
       "  <tbody>\n",
       "    <tr>\n",
       "      <th>2016-10-06 10:00:00</th>\n",
       "      <td>22.0850</td>\n",
       "      <td>21.91965</td>\n",
       "    </tr>\n",
       "    <tr>\n",
       "      <th>2016-10-10 11:00:00</th>\n",
       "      <td>22.0825</td>\n",
       "      <td>21.92775</td>\n",
       "    </tr>\n",
       "    <tr>\n",
       "      <th>2016-10-10 12:15:00</th>\n",
       "      <td>22.1450</td>\n",
       "      <td>21.93725</td>\n",
       "    </tr>\n",
       "    <tr>\n",
       "      <th>2016-10-10 13:45:00</th>\n",
       "      <td>22.2475</td>\n",
       "      <td>21.94495</td>\n",
       "    </tr>\n",
       "    <tr>\n",
       "      <th>2016-10-12 10:45:00</th>\n",
       "      <td>22.3450</td>\n",
       "      <td>21.95335</td>\n",
       "    </tr>\n",
       "  </tbody>\n",
       "</table>\n",
       "</div>"
      ],
      "text/plain": [
       "                     SMA_Fast  SMA_Slow\n",
       "date                                   \n",
       "2016-10-06 10:00:00   22.0850  21.91965\n",
       "2016-10-10 11:00:00   22.0825  21.92775\n",
       "2016-10-10 12:15:00   22.1450  21.93725\n",
       "2016-10-10 13:45:00   22.2475  21.94495\n",
       "2016-10-12 10:45:00   22.3450  21.95335"
      ]
     },
     "execution_count": 111,
     "metadata": {},
     "output_type": "execute_result"
    }
   ],
   "source": [
    "# Generate the X_test and y_test DataFrames\n",
    "X_test = X.loc[training_end+DateOffset(hours=1):]\n",
    "y_test = y.loc[training_end+DateOffset(hours=1):]\n",
    "\n",
    "# Review the X_test DataFrame\n",
    "X_test.head()"
   ]
  },
  {
   "cell_type": "code",
   "execution_count": 112,
   "metadata": {},
   "outputs": [],
   "source": [
    "# Scale the features DataFrames\n",
    "\n",
    "# Create a StandardScaler instance\n",
    "scaler = StandardScaler()\n",
    "\n",
    "# Apply the scaler model to fit the X-train data\n",
    "X_scaler = scaler.fit(X_train)\n",
    "\n",
    "# Transform the X_train and X_test DataFrames using the X_scaler\n",
    "X_train_scaled = X_scaler.transform(X_train)\n",
    "X_test_scaled = X_scaler.transform(X_test)"
   ]
  },
  {
   "cell_type": "markdown",
   "metadata": {},
   "source": [
    "### Step 4: Use the `SVC` classifier model from SKLearn's support vector machine (SVM) learning method to fit the training data and make predictions based on the testing data. Review the predictions."
   ]
  },
  {
   "cell_type": "code",
   "execution_count": 113,
   "metadata": {},
   "outputs": [
    {
     "data": {
      "text/plain": [
       "array([1., 1., 1., 1., 1., 1., 1., 1., 1., 1.])"
      ]
     },
     "execution_count": 113,
     "metadata": {},
     "output_type": "execute_result"
    }
   ],
   "source": [
    "# From SVM, instantiate SVC classifier model instance\n",
    "svm_model = svm.SVC()\n",
    " \n",
    "# Fit the model to the data using the training data\n",
    "svm_model = svm_model.fit(X_train_scaled, y_train)\n",
    " \n",
    "# Use the testing data to make the model predictions\n",
    "svm_pred = svm_model.predict(X_test_scaled)\n",
    "\n",
    "# Review the model's predicted values\n",
    "svm_pred[:10]"
   ]
  },
  {
   "cell_type": "code",
   "execution_count": 114,
   "metadata": {},
   "outputs": [
    {
     "data": {
      "text/plain": [
       " 1.0    3269\n",
       "-1.0       4\n",
       "dtype: int64"
      ]
     },
     "execution_count": 114,
     "metadata": {},
     "output_type": "execute_result"
    }
   ],
   "source": [
    "svm_pred_df = pd.DataFrame(svm_pred)\n",
    "svm_pred_df.value_counts()"
   ]
  },
  {
   "cell_type": "markdown",
   "metadata": {},
   "source": [
    "### Step 5: Review the classification report associated with the `SVC` model predictions. "
   ]
  },
  {
   "cell_type": "code",
   "execution_count": 115,
   "metadata": {},
   "outputs": [
    {
     "name": "stdout",
     "output_type": "stream",
     "text": [
      "              precision    recall  f1-score   support\n",
      "\n",
      "        -1.0       0.75      0.00      0.00      1430\n",
      "         1.0       0.56      1.00      0.72      1843\n",
      "\n",
      "    accuracy                           0.56      3273\n",
      "   macro avg       0.66      0.50      0.36      3273\n",
      "weighted avg       0.64      0.56      0.41      3273\n",
      "\n"
     ]
    }
   ],
   "source": [
    "# Use a classification report to evaluate the model using the predictions and testing data\n",
    "svm_testing_report = classification_report(y_test, svm_pred)\n",
    "\n",
    "# Print the classification report\n",
    "print(svm_testing_report)"
   ]
  },
  {
   "cell_type": "markdown",
   "metadata": {},
   "source": [
    "### Step 6: Create a predictions DataFrame that contains columns for “Predicted” values, “Actual Returns”, and “Strategy Returns”."
   ]
  },
  {
   "cell_type": "code",
   "execution_count": 116,
   "metadata": {},
   "outputs": [
    {
     "data": {
      "text/html": [
       "<div>\n",
       "<style scoped>\n",
       "    .dataframe tbody tr th:only-of-type {\n",
       "        vertical-align: middle;\n",
       "    }\n",
       "\n",
       "    .dataframe tbody tr th {\n",
       "        vertical-align: top;\n",
       "    }\n",
       "\n",
       "    .dataframe thead th {\n",
       "        text-align: right;\n",
       "    }\n",
       "</style>\n",
       "<table border=\"1\" class=\"dataframe\">\n",
       "  <thead>\n",
       "    <tr style=\"text-align: right;\">\n",
       "      <th></th>\n",
       "      <th>Predicted</th>\n",
       "      <th>Actual Returns</th>\n",
       "      <th>Strategy Returns</th>\n",
       "    </tr>\n",
       "    <tr>\n",
       "      <th>date</th>\n",
       "      <th></th>\n",
       "      <th></th>\n",
       "      <th></th>\n",
       "    </tr>\n",
       "  </thead>\n",
       "  <tbody>\n",
       "    <tr>\n",
       "      <th>2016-10-06 10:00:00</th>\n",
       "      <td>1.0</td>\n",
       "      <td>0.008167</td>\n",
       "      <td>0.008167</td>\n",
       "    </tr>\n",
       "    <tr>\n",
       "      <th>2016-10-10 11:00:00</th>\n",
       "      <td>1.0</td>\n",
       "      <td>0.006751</td>\n",
       "      <td>0.006751</td>\n",
       "    </tr>\n",
       "    <tr>\n",
       "      <th>2016-10-10 12:15:00</th>\n",
       "      <td>1.0</td>\n",
       "      <td>-0.000447</td>\n",
       "      <td>-0.000447</td>\n",
       "    </tr>\n",
       "    <tr>\n",
       "      <th>2016-10-10 13:45:00</th>\n",
       "      <td>1.0</td>\n",
       "      <td>0.003131</td>\n",
       "      <td>0.003131</td>\n",
       "    </tr>\n",
       "    <tr>\n",
       "      <th>2016-10-12 10:45:00</th>\n",
       "      <td>1.0</td>\n",
       "      <td>-0.020954</td>\n",
       "      <td>-0.020954</td>\n",
       "    </tr>\n",
       "  </tbody>\n",
       "</table>\n",
       "</div>"
      ],
      "text/plain": [
       "                     Predicted  Actual Returns  Strategy Returns\n",
       "date                                                            \n",
       "2016-10-06 10:00:00        1.0        0.008167          0.008167\n",
       "2016-10-10 11:00:00        1.0        0.006751          0.006751\n",
       "2016-10-10 12:15:00        1.0       -0.000447         -0.000447\n",
       "2016-10-10 13:45:00        1.0        0.003131          0.003131\n",
       "2016-10-12 10:45:00        1.0       -0.020954         -0.020954"
      ]
     },
     "metadata": {},
     "output_type": "display_data"
    },
    {
     "data": {
      "text/html": [
       "<div>\n",
       "<style scoped>\n",
       "    .dataframe tbody tr th:only-of-type {\n",
       "        vertical-align: middle;\n",
       "    }\n",
       "\n",
       "    .dataframe tbody tr th {\n",
       "        vertical-align: top;\n",
       "    }\n",
       "\n",
       "    .dataframe thead th {\n",
       "        text-align: right;\n",
       "    }\n",
       "</style>\n",
       "<table border=\"1\" class=\"dataframe\">\n",
       "  <thead>\n",
       "    <tr style=\"text-align: right;\">\n",
       "      <th></th>\n",
       "      <th>Predicted</th>\n",
       "      <th>Actual Returns</th>\n",
       "      <th>Strategy Returns</th>\n",
       "    </tr>\n",
       "    <tr>\n",
       "      <th>date</th>\n",
       "      <th></th>\n",
       "      <th></th>\n",
       "      <th></th>\n",
       "    </tr>\n",
       "  </thead>\n",
       "  <tbody>\n",
       "    <tr>\n",
       "      <th>2021-01-22 09:30:00</th>\n",
       "      <td>1.0</td>\n",
       "      <td>-0.006866</td>\n",
       "      <td>-0.006866</td>\n",
       "    </tr>\n",
       "    <tr>\n",
       "      <th>2021-01-22 11:30:00</th>\n",
       "      <td>1.0</td>\n",
       "      <td>0.002405</td>\n",
       "      <td>0.002405</td>\n",
       "    </tr>\n",
       "    <tr>\n",
       "      <th>2021-01-22 13:45:00</th>\n",
       "      <td>1.0</td>\n",
       "      <td>0.002099</td>\n",
       "      <td>0.002099</td>\n",
       "    </tr>\n",
       "    <tr>\n",
       "      <th>2021-01-22 14:30:00</th>\n",
       "      <td>1.0</td>\n",
       "      <td>0.001496</td>\n",
       "      <td>0.001496</td>\n",
       "    </tr>\n",
       "    <tr>\n",
       "      <th>2021-01-22 15:45:00</th>\n",
       "      <td>1.0</td>\n",
       "      <td>-0.000896</td>\n",
       "      <td>-0.000896</td>\n",
       "    </tr>\n",
       "  </tbody>\n",
       "</table>\n",
       "</div>"
      ],
      "text/plain": [
       "                     Predicted  Actual Returns  Strategy Returns\n",
       "date                                                            \n",
       "2021-01-22 09:30:00        1.0       -0.006866         -0.006866\n",
       "2021-01-22 11:30:00        1.0        0.002405          0.002405\n",
       "2021-01-22 13:45:00        1.0        0.002099          0.002099\n",
       "2021-01-22 14:30:00        1.0        0.001496          0.001496\n",
       "2021-01-22 15:45:00        1.0       -0.000896         -0.000896"
      ]
     },
     "metadata": {},
     "output_type": "display_data"
    }
   ],
   "source": [
    "# Create a new empty predictions DataFrame.\n",
    "\n",
    "# Create a predictions DataFrame\n",
    "predictions_df = pd.DataFrame(index=X_test.index)\n",
    "\n",
    "# Add the SVM model predictions to the DataFrame\n",
    "predictions_df['Predicted'] = svm_pred\n",
    "\n",
    "# Add the actual returns to the DataFrame\n",
    "predictions_df['Actual Returns'] = signals_df['Actual Returns']\n",
    "\n",
    "# Add the strategy returns to the DataFrame\n",
    "predictions_df['Strategy Returns'] = (\n",
    "    predictions_df['Actual Returns'] * predictions_df['Predicted']\n",
    ")\n",
    "\n",
    "# Review the DataFrame\n",
    "display(predictions_df.head())\n",
    "display(predictions_df.tail())"
   ]
  },
  {
   "cell_type": "markdown",
   "metadata": {},
   "source": [
    "### Step 7: Create a cumulative return plot that shows the actual returns vs. the strategy returns. Save a PNG image of this plot. This will serve as a baseline against which to compare the effects of tuning the trading algorithm."
   ]
  },
  {
   "cell_type": "code",
   "execution_count": 117,
   "metadata": {},
   "outputs": [
    {
     "data": {},
     "metadata": {},
     "output_type": "display_data"
    },
    {
     "data": {
      "application/vnd.holoviews_exec.v0+json": "",
      "text/html": [
       "<div id='8504'>\n",
       "\n",
       "\n",
       "\n",
       "\n",
       "\n",
       "  <div class=\"bk-root\" id=\"d241b8ea-bb9f-47fb-b6e9-3d2ec11ffd2d\" data-root-id=\"8504\"></div>\n",
       "</div>\n",
       "<script type=\"application/javascript\">(function(root) {\n",
       "  function embed_document(root) {\n",
       "    var docs_json = {\"8ae01875-6155-4e45-b334-b86f29b732ab\":{\"roots\":{\"references\":[{\"attributes\":{},\"id\":\"8517\",\"type\":\"LinearScale\"},{\"attributes\":{\"data\":{\"Variable\":[\"Actual Returns\",\"Actual Returns\",\"Actual Returns\",\"Actual Returns\",\"Actual Returns\",\"Actual Returns\",\"Actual Returns\",\"Actual Returns\",\"Actual Returns\",\"Actual Returns\",\"Actual Returns\",\"Actual Returns\",\"Actual Returns\",\"Actual Returns\",\"Actual Returns\",\"Actual Returns\",\"Actual Returns\",\"Actual Returns\",\"Actual Returns\",\"Actual Returns\",\"Actual Returns\",\"Actual Returns\",\"Actual Returns\",\"Actual Returns\",\"Actual Returns\",\"Actual Returns\",\"Actual Returns\",\"Actual Returns\",\"Actual Returns\",\"Actual Returns\",\"Actual Returns\",\"Actual Returns\",\"Actual Returns\",\"Actual Returns\",\"Actual Returns\",\"Actual Returns\",\"Actual Returns\",\"Actual Returns\",\"Actual Returns\",\"Actual Returns\",\"Actual Returns\",\"Actual Returns\",\"Actual Returns\",\"Actual Returns\",\"Actual Returns\",\"Actual Returns\",\"Actual Returns\",\"Actual Returns\",\"Actual Returns\",\"Actual Returns\",\"Actual Returns\",\"Actual Returns\",\"Actual Returns\",\"Actual Returns\",\"Actual Returns\",\"Actual Returns\",\"Actual Returns\",\"Actual Returns\",\"Actual Returns\",\"Actual Returns\",\"Actual Returns\",\"Actual Returns\",\"Actual Returns\",\"Actual Returns\",\"Actual Returns\",\"Actual Returns\",\"Actual Returns\",\"Actual Returns\",\"Actual Returns\",\"Actual Returns\",\"Actual Returns\",\"Actual Returns\",\"Actual Returns\",\"Actual Returns\",\"Actual Returns\",\"Actual Returns\",\"Actual Returns\",\"Actual Returns\",\"Actual Returns\",\"Actual Returns\",\"Actual Returns\",\"Actual Returns\",\"Actual Returns\",\"Actual Returns\",\"Actual Returns\",\"Actual Returns\",\"Actual Returns\",\"Actual Returns\",\"Actual Returns\",\"Actual Returns\",\"Actual Returns\",\"Actual Returns\",\"Actual Returns\",\"Actual Returns\",\"Actual Returns\",\"Actual Returns\",\"Actual Returns\",\"Actual Returns\",\"Actual Returns\",\"Actual Returns\",\"Actual Returns\",\"Actual Returns\",\"Actual Returns\",\"Actual Returns\",\"Actual Returns\",\"Actual Returns\",\"Actual Returns\",\"Actual Returns\",\"Actual Returns\",\"Actual Returns\",\"Actual Returns\",\"Actual Returns\",\"Actual Returns\",\"Actual Returns\",\"Actual Returns\",\"Actual Returns\",\"Actual Returns\",\"Actual Returns\",\"Actual Returns\",\"Actual Returns\",\"Actual Returns\",\"Actual Returns\",\"Actual Returns\",\"Actual Returns\",\"Actual Returns\",\"Actual Returns\",\"Actual Returns\",\"Actual Returns\",\"Actual Returns\",\"Actual Returns\",\"Actual Returns\",\"Actual Returns\",\"Actual Returns\",\"Actual Returns\",\"Actual Returns\",\"Actual Returns\",\"Actual Returns\",\"Actual Returns\",\"Actual Returns\",\"Actual Returns\",\"Actual Returns\",\"Actual Returns\",\"Actual Returns\",\"Actual Returns\",\"Actual Returns\",\"Actual Returns\",\"Actual Returns\",\"Actual Returns\",\"Actual Returns\",\"Actual Returns\",\"Actual Returns\",\"Actual Returns\",\"Actual Returns\",\"Actual Returns\",\"Actual Returns\",\"Actual Returns\",\"Actual Returns\",\"Actual Returns\",\"Actual Returns\",\"Actual Returns\",\"Actual Returns\",\"Actual Returns\",\"Actual Returns\",\"Actual Returns\",\"Actual Returns\",\"Actual Returns\",\"Actual Returns\",\"Actual Returns\",\"Actual Returns\",\"Actual Returns\",\"Actual Returns\",\"Actual Returns\",\"Actual Returns\",\"Actual Returns\",\"Actual Returns\",\"Actual Returns\",\"Actual Returns\",\"Actual Returns\",\"Actual Returns\",\"Actual Returns\",\"Actual Returns\",\"Actual Returns\",\"Actual Returns\",\"Actual Returns\",\"Actual Returns\",\"Actual Returns\",\"Actual Returns\",\"Actual Returns\",\"Actual Returns\",\"Actual Returns\",\"Actual Returns\",\"Actual Returns\",\"Actual Returns\",\"Actual Returns\",\"Actual Returns\",\"Actual Returns\",\"Actual Returns\",\"Actual Returns\",\"Actual Returns\",\"Actual Returns\",\"Actual Returns\",\"Actual Returns\",\"Actual Returns\",\"Actual Returns\",\"Actual Returns\",\"Actual Returns\",\"Actual Returns\",\"Actual Returns\",\"Actual Returns\",\"Actual Returns\",\"Actual Returns\",\"Actual Returns\",\"Actual Returns\",\"Actual Returns\",\"Actual Returns\",\"Actual Returns\",\"Actual Returns\",\"Actual Returns\",\"Actual Returns\",\"Actual Returns\",\"Actual Returns\",\"Actual Returns\",\"Actual Returns\",\"Actual Returns\",\"Actual Returns\",\"Actual Returns\",\"Actual Returns\",\"Actual Returns\",\"Actual Returns\",\"Actual Returns\",\"Actual Returns\",\"Actual Returns\",\"Actual Returns\",\"Actual Returns\",\"Actual Returns\",\"Actual Returns\",\"Actual Returns\",\"Actual Returns\",\"Actual Returns\",\"Actual Returns\",\"Actual Returns\",\"Actual Returns\",\"Actual Returns\",\"Actual Returns\",\"Actual Returns\",\"Actual Returns\",\"Actual Returns\",\"Actual Returns\",\"Actual Returns\",\"Actual Returns\",\"Actual Returns\",\"Actual Returns\",\"Actual Returns\",\"Actual Returns\",\"Actual Returns\",\"Actual Returns\",\"Actual Returns\",\"Actual Returns\",\"Actual Returns\",\"Actual Returns\",\"Actual Returns\",\"Actual Returns\",\"Actual Returns\",\"Actual Returns\",\"Actual Returns\",\"Actual Returns\",\"Actual Returns\",\"Actual Returns\",\"Actual Returns\",\"Actual Returns\",\"Actual Returns\",\"Actual Returns\",\"Actual Returns\",\"Actual Returns\",\"Actual Returns\",\"Actual Returns\",\"Actual Returns\",\"Actual Returns\",\"Actual Returns\",\"Actual Returns\",\"Actual Returns\",\"Actual Returns\",\"Actual Returns\",\"Actual Returns\",\"Actual Returns\",\"Actual Returns\",\"Actual Returns\",\"Actual Returns\",\"Actual Returns\",\"Actual Returns\",\"Actual Returns\",\"Actual Returns\",\"Actual Returns\",\"Actual Returns\",\"Actual Returns\",\"Actual Returns\",\"Actual Returns\",\"Actual Returns\",\"Actual Returns\",\"Actual Returns\",\"Actual Returns\",\"Actual Returns\",\"Actual Returns\",\"Actual Returns\",\"Actual Returns\",\"Actual Returns\",\"Actual Returns\",\"Actual Returns\",\"Actual Returns\",\"Actual Returns\",\"Actual Returns\",\"Actual Returns\",\"Actual Returns\",\"Actual Returns\",\"Actual Returns\",\"Actual Returns\",\"Actual Returns\",\"Actual Returns\",\"Actual Returns\",\"Actual Returns\",\"Actual Returns\",\"Actual Returns\",\"Actual Returns\",\"Actual Returns\",\"Actual Returns\",\"Actual Returns\",\"Actual Returns\",\"Actual Returns\",\"Actual Returns\",\"Actual Returns\",\"Actual Returns\",\"Actual Returns\",\"Actual Returns\",\"Actual Returns\",\"Actual Returns\",\"Actual Returns\",\"Actual Returns\",\"Actual Returns\",\"Actual Returns\",\"Actual Returns\",\"Actual Returns\",\"Actual Returns\",\"Actual Returns\",\"Actual Returns\",\"Actual Returns\",\"Actual Returns\",\"Actual Returns\",\"Actual Returns\",\"Actual Returns\",\"Actual Returns\",\"Actual Returns\",\"Actual Returns\",\"Actual Returns\",\"Actual Returns\",\"Actual Returns\",\"Actual Returns\",\"Actual Returns\",\"Actual Returns\",\"Actual Returns\",\"Actual Returns\",\"Actual Returns\",\"Actual Returns\",\"Actual Returns\",\"Actual Returns\",\"Actual Returns\",\"Actual Returns\",\"Actual Returns\",\"Actual Returns\",\"Actual Returns\",\"Actual Returns\",\"Actual Returns\",\"Actual Returns\",\"Actual Returns\",\"Actual Returns\",\"Actual Returns\",\"Actual Returns\",\"Actual Returns\",\"Actual Returns\",\"Actual Returns\",\"Actual Returns\",\"Actual Returns\",\"Actual Returns\",\"Actual Returns\",\"Actual Returns\",\"Actual Returns\",\"Actual Returns\",\"Actual Returns\",\"Actual Returns\",\"Actual Returns\",\"Actual Returns\",\"Actual Returns\",\"Actual Returns\",\"Actual Returns\",\"Actual Returns\",\"Actual Returns\",\"Actual Returns\",\"Actual Returns\",\"Actual Returns\",\"Actual Returns\",\"Actual Returns\",\"Actual Returns\",\"Actual Returns\",\"Actual Returns\",\"Actual Returns\",\"Actual Returns\",\"Actual Returns\",\"Actual Returns\",\"Actual Returns\",\"Actual Returns\",\"Actual Returns\",\"Actual Returns\",\"Actual Returns\",\"Actual Returns\",\"Actual Returns\",\"Actual Returns\",\"Actual Returns\",\"Actual Returns\",\"Actual Returns\",\"Actual Returns\",\"Actual Returns\",\"Actual Returns\",\"Actual Returns\",\"Actual Returns\",\"Actual Returns\",\"Actual Returns\",\"Actual Returns\",\"Actual Returns\",\"Actual Returns\",\"Actual Returns\",\"Actual Returns\",\"Actual Returns\",\"Actual Returns\",\"Actual Returns\",\"Actual Returns\",\"Actual Returns\",\"Actual Returns\",\"Actual Returns\",\"Actual Returns\",\"Actual Returns\",\"Actual Returns\",\"Actual Returns\",\"Actual Returns\",\"Actual Returns\",\"Actual Returns\",\"Actual Returns\",\"Actual Returns\",\"Actual Returns\",\"Actual Returns\",\"Actual Returns\",\"Actual Returns\",\"Actual Returns\",\"Actual Returns\",\"Actual Returns\",\"Actual Returns\",\"Actual Returns\",\"Actual Returns\",\"Actual Returns\",\"Actual Returns\",\"Actual Returns\",\"Actual Returns\",\"Actual Returns\",\"Actual Returns\",\"Actual Returns\",\"Actual Returns\",\"Actual Returns\",\"Actual Returns\",\"Actual Returns\",\"Actual Returns\",\"Actual Returns\",\"Actual Returns\",\"Actual Returns\",\"Actual Returns\",\"Actual Returns\",\"Actual Returns\",\"Actual Returns\",\"Actual Returns\",\"Actual Returns\",\"Actual Returns\",\"Actual Returns\",\"Actual Returns\",\"Actual Returns\",\"Actual Returns\",\"Actual Returns\",\"Actual Returns\",\"Actual Returns\",\"Actual Returns\",\"Actual Returns\",\"Actual Returns\",\"Actual Returns\",\"Actual Returns\",\"Actual Returns\",\"Actual Returns\",\"Actual Returns\",\"Actual Returns\",\"Actual Returns\",\"Actual Returns\",\"Actual Returns\",\"Actual Returns\",\"Actual Returns\",\"Actual Returns\",\"Actual Returns\",\"Actual Returns\",\"Actual Returns\",\"Actual Returns\",\"Actual Returns\",\"Actual Returns\",\"Actual Returns\",\"Actual Returns\",\"Actual Returns\",\"Actual Returns\",\"Actual Returns\",\"Actual Returns\",\"Actual Returns\",\"Actual Returns\",\"Actual Returns\",\"Actual Returns\",\"Actual Returns\",\"Actual Returns\",\"Actual Returns\",\"Actual Returns\",\"Actual Returns\",\"Actual Returns\",\"Actual Returns\",\"Actual Returns\",\"Actual Returns\",\"Actual Returns\",\"Actual Returns\",\"Actual Returns\",\"Actual Returns\",\"Actual Returns\",\"Actual Returns\",\"Actual Returns\",\"Actual Returns\",\"Actual Returns\",\"Actual Returns\",\"Actual Returns\",\"Actual Returns\",\"Actual Returns\",\"Actual Returns\",\"Actual Returns\",\"Actual Returns\",\"Actual Returns\",\"Actual Returns\",\"Actual Returns\",\"Actual Returns\",\"Actual Returns\",\"Actual Returns\",\"Actual Returns\",\"Actual Returns\",\"Actual Returns\",\"Actual Returns\",\"Actual Returns\",\"Actual Returns\",\"Actual Returns\",\"Actual Returns\",\"Actual Returns\",\"Actual Returns\",\"Actual Returns\",\"Actual Returns\",\"Actual Returns\",\"Actual Returns\",\"Actual Returns\",\"Actual Returns\",\"Actual Returns\",\"Actual Returns\",\"Actual Returns\",\"Actual Returns\",\"Actual Returns\",\"Actual Returns\",\"Actual Returns\",\"Actual Returns\",\"Actual Returns\",\"Actual Returns\",\"Actual Returns\",\"Actual Returns\",\"Actual Returns\",\"Actual Returns\",\"Actual Returns\",\"Actual Returns\",\"Actual Returns\",\"Actual Returns\",\"Actual Returns\",\"Actual Returns\",\"Actual Returns\",\"Actual Returns\",\"Actual Returns\",\"Actual Returns\",\"Actual Returns\",\"Actual Returns\",\"Actual Returns\",\"Actual Returns\",\"Actual Returns\",\"Actual Returns\",\"Actual Returns\",\"Actual Returns\",\"Actual Returns\",\"Actual Returns\",\"Actual Returns\",\"Actual Returns\",\"Actual Returns\",\"Actual Returns\",\"Actual Returns\",\"Actual Returns\",\"Actual Returns\",\"Actual Returns\",\"Actual Returns\",\"Actual Returns\",\"Actual Returns\",\"Actual Returns\",\"Actual Returns\",\"Actual Returns\",\"Actual Returns\",\"Actual Returns\",\"Actual Returns\",\"Actual Returns\",\"Actual Returns\",\"Actual Returns\",\"Actual Returns\",\"Actual Returns\",\"Actual Returns\",\"Actual Returns\",\"Actual Returns\",\"Actual Returns\",\"Actual Returns\",\"Actual Returns\",\"Actual Returns\",\"Actual Returns\",\"Actual Returns\",\"Actual Returns\",\"Actual Returns\",\"Actual Returns\",\"Actual Returns\",\"Actual Returns\",\"Actual Returns\",\"Actual Returns\",\"Actual Returns\",\"Actual Returns\",\"Actual Returns\",\"Actual Returns\",\"Actual Returns\",\"Actual Returns\",\"Actual Returns\",\"Actual Returns\",\"Actual Returns\",\"Actual Returns\",\"Actual Returns\",\"Actual Returns\",\"Actual Returns\",\"Actual Returns\",\"Actual Returns\",\"Actual Returns\",\"Actual Returns\",\"Actual Returns\",\"Actual Returns\",\"Actual Returns\",\"Actual Returns\",\"Actual Returns\",\"Actual Returns\",\"Actual Returns\",\"Actual Returns\",\"Actual Returns\",\"Actual Returns\",\"Actual Returns\",\"Actual Returns\",\"Actual Returns\",\"Actual Returns\",\"Actual Returns\",\"Actual Returns\",\"Actual Returns\",\"Actual Returns\",\"Actual Returns\",\"Actual Returns\",\"Actual Returns\",\"Actual Returns\",\"Actual Returns\",\"Actual Returns\",\"Actual Returns\",\"Actual Returns\",\"Actual Returns\",\"Actual Returns\",\"Actual Returns\",\"Actual Returns\",\"Actual Returns\",\"Actual Returns\",\"Actual Returns\",\"Actual Returns\",\"Actual Returns\",\"Actual Returns\",\"Actual Returns\",\"Actual Returns\",\"Actual Returns\",\"Actual Returns\",\"Actual Returns\",\"Actual Returns\",\"Actual Returns\",\"Actual Returns\",\"Actual Returns\",\"Actual Returns\",\"Actual Returns\",\"Actual Returns\",\"Actual Returns\",\"Actual Returns\",\"Actual Returns\",\"Actual Returns\",\"Actual Returns\",\"Actual Returns\",\"Actual Returns\",\"Actual Returns\",\"Actual Returns\",\"Actual Returns\",\"Actual Returns\",\"Actual Returns\",\"Actual Returns\",\"Actual Returns\",\"Actual Returns\",\"Actual Returns\",\"Actual Returns\",\"Actual Returns\",\"Actual Returns\",\"Actual Returns\",\"Actual Returns\",\"Actual Returns\",\"Actual Returns\",\"Actual Returns\",\"Actual Returns\",\"Actual Returns\",\"Actual Returns\",\"Actual Returns\",\"Actual Returns\",\"Actual Returns\",\"Actual Returns\",\"Actual Returns\",\"Actual Returns\",\"Actual Returns\",\"Actual Returns\",\"Actual Returns\",\"Actual Returns\",\"Actual Returns\",\"Actual Returns\",\"Actual Returns\",\"Actual Returns\",\"Actual Returns\",\"Actual Returns\",\"Actual Returns\",\"Actual Returns\",\"Actual Returns\",\"Actual Returns\",\"Actual Returns\",\"Actual Returns\",\"Actual Returns\",\"Actual Returns\",\"Actual Returns\",\"Actual Returns\",\"Actual Returns\",\"Actual Returns\",\"Actual Returns\",\"Actual Returns\",\"Actual Returns\",\"Actual Returns\",\"Actual Returns\",\"Actual Returns\",\"Actual Returns\",\"Actual Returns\",\"Actual Returns\",\"Actual Returns\",\"Actual Returns\",\"Actual Returns\",\"Actual Returns\",\"Actual Returns\",\"Actual Returns\",\"Actual Returns\",\"Actual Returns\",\"Actual Returns\",\"Actual Returns\",\"Actual Returns\",\"Actual Returns\",\"Actual Returns\",\"Actual Returns\",\"Actual Returns\",\"Actual Returns\",\"Actual Returns\",\"Actual Returns\",\"Actual Returns\",\"Actual Returns\",\"Actual Returns\",\"Actual Returns\",\"Actual Returns\",\"Actual Returns\",\"Actual Returns\",\"Actual Returns\",\"Actual Returns\",\"Actual Returns\",\"Actual Returns\",\"Actual Returns\",\"Actual Returns\",\"Actual Returns\",\"Actual Returns\",\"Actual Returns\",\"Actual Returns\",\"Actual Returns\",\"Actual Returns\",\"Actual Returns\",\"Actual Returns\",\"Actual Returns\",\"Actual Returns\",\"Actual Returns\",\"Actual Returns\",\"Actual Returns\",\"Actual Returns\",\"Actual Returns\",\"Actual Returns\",\"Actual Returns\",\"Actual Returns\",\"Actual Returns\",\"Actual Returns\",\"Actual Returns\",\"Actual Returns\",\"Actual Returns\",\"Actual Returns\",\"Actual Returns\",\"Actual Returns\",\"Actual Returns\",\"Actual Returns\",\"Actual Returns\",\"Actual Returns\",\"Actual Returns\",\"Actual Returns\",\"Actual Returns\",\"Actual Returns\",\"Actual Returns\",\"Actual Returns\",\"Actual Returns\",\"Actual Returns\",\"Actual Returns\",\"Actual Returns\",\"Actual Returns\",\"Actual Returns\",\"Actual Returns\",\"Actual Returns\",\"Actual Returns\",\"Actual Returns\",\"Actual Returns\",\"Actual Returns\",\"Actual Returns\",\"Actual Returns\",\"Actual Returns\",\"Actual Returns\",\"Actual Returns\",\"Actual Returns\",\"Actual Returns\",\"Actual Returns\",\"Actual Returns\",\"Actual Returns\",\"Actual Returns\",\"Actual Returns\",\"Actual Returns\",\"Actual Returns\",\"Actual Returns\",\"Actual Returns\",\"Actual Returns\",\"Actual Returns\",\"Actual Returns\",\"Actual Returns\",\"Actual Returns\",\"Actual Returns\",\"Actual Returns\",\"Actual Returns\",\"Actual Returns\",\"Actual Returns\",\"Actual Returns\",\"Actual Returns\",\"Actual Returns\",\"Actual Returns\",\"Actual Returns\",\"Actual Returns\",\"Actual Returns\",\"Actual Returns\",\"Actual Returns\",\"Actual Returns\",\"Actual Returns\",\"Actual Returns\",\"Actual Returns\",\"Actual Returns\",\"Actual Returns\",\"Actual Returns\",\"Actual Returns\",\"Actual Returns\",\"Actual Returns\",\"Actual Returns\",\"Actual Returns\",\"Actual Returns\",\"Actual Returns\",\"Actual Returns\",\"Actual Returns\",\"Actual Returns\",\"Actual Returns\",\"Actual Returns\",\"Actual Returns\",\"Actual Returns\",\"Actual Returns\",\"Actual Returns\",\"Actual Returns\",\"Actual Returns\",\"Actual Returns\",\"Actual Returns\",\"Actual Returns\",\"Actual Returns\",\"Actual Returns\",\"Actual Returns\",\"Actual Returns\",\"Actual Returns\",\"Actual Returns\",\"Actual Returns\",\"Actual Returns\",\"Actual Returns\",\"Actual Returns\",\"Actual Returns\",\"Actual Returns\",\"Actual Returns\",\"Actual Returns\",\"Actual Returns\",\"Actual Returns\",\"Actual Returns\",\"Actual Returns\",\"Actual Returns\",\"Actual Returns\",\"Actual Returns\",\"Actual Returns\",\"Actual Returns\",\"Actual Returns\",\"Actual Returns\",\"Actual Returns\",\"Actual Returns\",\"Actual Returns\",\"Actual Returns\",\"Actual Returns\",\"Actual Returns\",\"Actual Returns\",\"Actual Returns\",\"Actual Returns\",\"Actual Returns\",\"Actual Returns\",\"Actual Returns\",\"Actual Returns\",\"Actual Returns\",\"Actual Returns\",\"Actual Returns\",\"Actual Returns\",\"Actual Returns\",\"Actual Returns\",\"Actual Returns\",\"Actual Returns\",\"Actual Returns\",\"Actual Returns\",\"Actual Returns\",\"Actual Returns\",\"Actual Returns\",\"Actual Returns\",\"Actual Returns\",\"Actual Returns\",\"Actual Returns\",\"Actual Returns\",\"Actual Returns\",\"Actual Returns\",\"Actual Returns\",\"Actual Returns\",\"Actual Returns\",\"Actual Returns\",\"Actual Returns\",\"Actual Returns\",\"Actual Returns\",\"Actual Returns\",\"Actual Returns\",\"Actual Returns\",\"Actual Returns\",\"Actual Returns\",\"Actual Returns\",\"Actual Returns\",\"Actual Returns\",\"Actual Returns\",\"Actual Returns\",\"Actual Returns\",\"Actual Returns\",\"Actual Returns\",\"Actual Returns\",\"Actual Returns\",\"Actual Returns\",\"Actual Returns\",\"Actual Returns\",\"Actual Returns\",\"Actual Returns\",\"Actual Returns\",\"Actual Returns\",\"Actual Returns\",\"Actual Returns\",\"Actual Returns\",\"Actual Returns\",\"Actual Returns\",\"Actual Returns\",\"Actual Returns\",\"Actual Returns\",\"Actual Returns\",\"Actual Returns\",\"Actual Returns\",\"Actual Returns\",\"Actual Returns\",\"Actual Returns\",\"Actual Returns\",\"Actual Returns\",\"Actual Returns\",\"Actual Returns\",\"Actual Returns\",\"Actual Returns\",\"Actual Returns\",\"Actual Returns\",\"Actual Returns\",\"Actual Returns\",\"Actual Returns\",\"Actual Returns\",\"Actual Returns\",\"Actual Returns\",\"Actual Returns\",\"Actual Returns\",\"Actual Returns\",\"Actual Returns\",\"Actual Returns\",\"Actual Returns\",\"Actual Returns\",\"Actual Returns\",\"Actual Returns\",\"Actual Returns\",\"Actual Returns\",\"Actual Returns\",\"Actual Returns\",\"Actual Returns\",\"Actual Returns\",\"Actual Returns\",\"Actual Returns\",\"Actual Returns\",\"Actual Returns\",\"Actual Returns\",\"Actual Returns\",\"Actual Returns\",\"Actual Returns\",\"Actual Returns\",\"Actual Returns\",\"Actual Returns\",\"Actual Returns\",\"Actual Returns\",\"Actual Returns\",\"Actual Returns\",\"Actual Returns\",\"Actual Returns\",\"Actual Returns\",\"Actual Returns\",\"Actual Returns\",\"Actual Returns\",\"Actual Returns\",\"Actual Returns\",\"Actual Returns\",\"Actual Returns\",\"Actual Returns\",\"Actual Returns\",\"Actual Returns\",\"Actual Returns\",\"Actual Returns\",\"Actual Returns\",\"Actual Returns\",\"Actual Returns\",\"Actual Returns\",\"Actual Returns\",\"Actual Returns\",\"Actual Returns\",\"Actual Returns\",\"Actual Returns\",\"Actual Returns\",\"Actual Returns\",\"Actual Returns\",\"Actual Returns\",\"Actual Returns\",\"Actual Returns\",\"Actual Returns\",\"Actual Returns\",\"Actual Returns\",\"Actual Returns\",\"Actual Returns\",\"Actual Returns\",\"Actual Returns\",\"Actual Returns\",\"Actual Returns\",\"Actual Returns\",\"Actual Returns\",\"Actual Returns\",\"Actual Returns\",\"Actual Returns\",\"Actual Returns\",\"Actual Returns\",\"Actual Returns\",\"Actual Returns\",\"Actual Returns\",\"Actual Returns\",\"Actual Returns\",\"Actual Returns\",\"Actual Returns\",\"Actual Returns\",\"Actual Returns\",\"Actual Returns\",\"Actual Returns\",\"Actual Returns\",\"Actual Returns\",\"Actual Returns\",\"Actual Returns\",\"Actual Returns\",\"Actual Returns\",\"Actual Returns\",\"Actual Returns\",\"Actual Returns\",\"Actual Returns\",\"Actual Returns\",\"Actual Returns\",\"Actual Returns\",\"Actual Returns\",\"Actual Returns\",\"Actual Returns\",\"Actual Returns\",\"Actual Returns\",\"Actual Returns\",\"Actual Returns\",\"Actual Returns\",\"Actual Returns\",\"Actual Returns\",\"Actual Returns\",\"Actual Returns\",\"Actual Returns\",\"Actual Returns\",\"Actual Returns\",\"Actual Returns\",\"Actual Returns\",\"Actual Returns\",\"Actual Returns\",\"Actual Returns\",\"Actual Returns\",\"Actual Returns\",\"Actual Returns\",\"Actual Returns\",\"Actual Returns\",\"Actual Returns\",\"Actual Returns\",\"Actual Returns\",\"Actual Returns\",\"Actual Returns\",\"Actual Returns\",\"Actual Returns\",\"Actual Returns\",\"Actual Returns\",\"Actual Returns\",\"Actual Returns\",\"Actual Returns\",\"Actual Returns\",\"Actual Returns\",\"Actual Returns\",\"Actual Returns\",\"Actual Returns\",\"Actual Returns\",\"Actual Returns\",\"Actual Returns\",\"Actual Returns\",\"Actual Returns\",\"Actual Returns\",\"Actual Returns\",\"Actual Returns\",\"Actual Returns\",\"Actual Returns\",\"Actual Returns\",\"Actual Returns\",\"Actual Returns\",\"Actual Returns\",\"Actual Returns\",\"Actual Returns\",\"Actual Returns\",\"Actual Returns\",\"Actual Returns\",\"Actual Returns\",\"Actual Returns\",\"Actual Returns\",\"Actual Returns\",\"Actual Returns\",\"Actual Returns\",\"Actual Returns\",\"Actual Returns\",\"Actual Returns\",\"Actual Returns\",\"Actual Returns\",\"Actual Returns\",\"Actual Returns\",\"Actual Returns\",\"Actual Returns\",\"Actual Returns\",\"Actual Returns\",\"Actual Returns\",\"Actual Returns\",\"Actual Returns\",\"Actual Returns\",\"Actual Returns\",\"Actual Returns\",\"Actual Returns\",\"Actual Returns\",\"Actual Returns\",\"Actual Returns\",\"Actual Returns\",\"Actual Returns\",\"Actual Returns\",\"Actual Returns\",\"Actual Returns\",\"Actual Returns\",\"Actual Returns\",\"Actual Returns\",\"Actual Returns\",\"Actual Returns\",\"Actual Returns\",\"Actual Returns\",\"Actual Returns\",\"Actual Returns\",\"Actual Returns\",\"Actual Returns\",\"Actual Returns\",\"Actual Returns\",\"Actual Returns\",\"Actual Returns\",\"Actual Returns\",\"Actual Returns\",\"Actual Returns\",\"Actual Returns\",\"Actual Returns\",\"Actual Returns\",\"Actual Returns\",\"Actual Returns\",\"Actual Returns\",\"Actual Returns\",\"Actual Returns\",\"Actual Returns\",\"Actual Returns\",\"Actual Returns\",\"Actual Returns\",\"Actual Returns\",\"Actual Returns\",\"Actual Returns\",\"Actual Returns\",\"Actual Returns\",\"Actual Returns\",\"Actual Returns\",\"Actual Returns\",\"Actual Returns\",\"Actual Returns\",\"Actual Returns\",\"Actual Returns\",\"Actual Returns\",\"Actual Returns\",\"Actual Returns\",\"Actual Returns\",\"Actual Returns\",\"Actual Returns\",\"Actual Returns\",\"Actual Returns\",\"Actual Returns\",\"Actual Returns\",\"Actual Returns\",\"Actual Returns\",\"Actual Returns\",\"Actual Returns\",\"Actual Returns\",\"Actual Returns\",\"Actual Returns\",\"Actual Returns\",\"Actual Returns\",\"Actual Returns\",\"Actual Returns\",\"Actual Returns\",\"Actual Returns\",\"Actual Returns\",\"Actual Returns\",\"Actual Returns\",\"Actual Returns\",\"Actual Returns\",\"Actual Returns\",\"Actual Returns\",\"Actual Returns\",\"Actual Returns\",\"Actual Returns\",\"Actual Returns\",\"Actual Returns\",\"Actual Returns\",\"Actual Returns\",\"Actual Returns\",\"Actual Returns\",\"Actual Returns\",\"Actual Returns\",\"Actual Returns\",\"Actual Returns\",\"Actual Returns\",\"Actual Returns\",\"Actual Returns\",\"Actual Returns\",\"Actual Returns\",\"Actual Returns\",\"Actual Returns\",\"Actual Returns\",\"Actual Returns\",\"Actual Returns\",\"Actual Returns\",\"Actual Returns\",\"Actual Returns\",\"Actual Returns\",\"Actual Returns\",\"Actual Returns\",\"Actual Returns\",\"Actual Returns\",\"Actual Returns\",\"Actual Returns\",\"Actual Returns\",\"Actual Returns\",\"Actual Returns\",\"Actual Returns\",\"Actual Returns\",\"Actual Returns\",\"Actual Returns\",\"Actual Returns\",\"Actual Returns\",\"Actual Returns\",\"Actual Returns\",\"Actual Returns\",\"Actual Returns\",\"Actual Returns\",\"Actual Returns\",\"Actual Returns\",\"Actual Returns\",\"Actual Returns\",\"Actual Returns\",\"Actual Returns\",\"Actual Returns\",\"Actual Returns\",\"Actual Returns\",\"Actual Returns\",\"Actual Returns\",\"Actual Returns\",\"Actual Returns\",\"Actual Returns\",\"Actual Returns\",\"Actual Returns\",\"Actual Returns\",\"Actual Returns\",\"Actual Returns\",\"Actual Returns\",\"Actual Returns\",\"Actual Returns\",\"Actual Returns\",\"Actual Returns\",\"Actual Returns\",\"Actual Returns\",\"Actual Returns\",\"Actual Returns\",\"Actual Returns\",\"Actual Returns\",\"Actual Returns\",\"Actual Returns\",\"Actual Returns\",\"Actual Returns\",\"Actual Returns\",\"Actual Returns\",\"Actual Returns\",\"Actual Returns\",\"Actual Returns\",\"Actual Returns\",\"Actual Returns\",\"Actual Returns\",\"Actual Returns\",\"Actual Returns\",\"Actual Returns\",\"Actual Returns\",\"Actual Returns\",\"Actual Returns\",\"Actual Returns\",\"Actual Returns\",\"Actual Returns\",\"Actual Returns\",\"Actual Returns\",\"Actual Returns\",\"Actual Returns\",\"Actual Returns\",\"Actual Returns\",\"Actual Returns\",\"Actual Returns\",\"Actual Returns\",\"Actual Returns\",\"Actual Returns\",\"Actual Returns\",\"Actual Returns\",\"Actual Returns\",\"Actual Returns\",\"Actual Returns\",\"Actual Returns\",\"Actual Returns\",\"Actual Returns\",\"Actual Returns\",\"Actual Returns\",\"Actual Returns\",\"Actual Returns\",\"Actual Returns\",\"Actual Returns\",\"Actual Returns\",\"Actual Returns\",\"Actual Returns\",\"Actual Returns\",\"Actual Returns\",\"Actual Returns\",\"Actual Returns\",\"Actual Returns\",\"Actual Returns\",\"Actual Returns\",\"Actual Returns\",\"Actual Returns\",\"Actual Returns\",\"Actual Returns\",\"Actual Returns\",\"Actual Returns\",\"Actual Returns\",\"Actual Returns\",\"Actual Returns\",\"Actual Returns\",\"Actual Returns\",\"Actual Returns\",\"Actual Returns\",\"Actual Returns\",\"Actual Returns\",\"Actual Returns\",\"Actual Returns\",\"Actual Returns\",\"Actual Returns\",\"Actual Returns\",\"Actual Returns\",\"Actual Returns\",\"Actual Returns\",\"Actual Returns\",\"Actual Returns\",\"Actual Returns\",\"Actual Returns\",\"Actual Returns\",\"Actual Returns\",\"Actual Returns\",\"Actual Returns\",\"Actual Returns\",\"Actual Returns\",\"Actual Returns\",\"Actual Returns\",\"Actual Returns\",\"Actual Returns\",\"Actual Returns\",\"Actual Returns\",\"Actual Returns\",\"Actual Returns\",\"Actual Returns\",\"Actual Returns\",\"Actual Returns\",\"Actual Returns\",\"Actual Returns\",\"Actual Returns\",\"Actual Returns\",\"Actual Returns\",\"Actual Returns\",\"Actual Returns\",\"Actual Returns\",\"Actual Returns\",\"Actual Returns\",\"Actual Returns\",\"Actual Returns\",\"Actual Returns\",\"Actual Returns\",\"Actual Returns\",\"Actual Returns\",\"Actual Returns\",\"Actual Returns\",\"Actual Returns\",\"Actual Returns\",\"Actual Returns\",\"Actual Returns\",\"Actual Returns\",\"Actual Returns\",\"Actual Returns\",\"Actual Returns\",\"Actual Returns\",\"Actual Returns\",\"Actual Returns\",\"Actual Returns\",\"Actual Returns\",\"Actual Returns\",\"Actual Returns\",\"Actual Returns\",\"Actual Returns\",\"Actual Returns\",\"Actual Returns\",\"Actual Returns\",\"Actual Returns\",\"Actual Returns\",\"Actual Returns\",\"Actual Returns\",\"Actual Returns\",\"Actual Returns\",\"Actual Returns\",\"Actual Returns\",\"Actual Returns\",\"Actual Returns\",\"Actual Returns\",\"Actual Returns\",\"Actual Returns\",\"Actual Returns\",\"Actual Returns\",\"Actual Returns\",\"Actual Returns\",\"Actual Returns\",\"Actual Returns\",\"Actual Returns\",\"Actual Returns\",\"Actual Returns\",\"Actual Returns\",\"Actual Returns\",\"Actual Returns\",\"Actual Returns\",\"Actual Returns\",\"Actual Returns\",\"Actual Returns\",\"Actual Returns\",\"Actual Returns\",\"Actual Returns\",\"Actual Returns\",\"Actual Returns\",\"Actual Returns\",\"Actual Returns\",\"Actual Returns\",\"Actual Returns\",\"Actual Returns\",\"Actual Returns\",\"Actual Returns\",\"Actual Returns\",\"Actual Returns\",\"Actual Returns\",\"Actual Returns\",\"Actual Returns\",\"Actual Returns\",\"Actual Returns\",\"Actual Returns\",\"Actual Returns\",\"Actual Returns\",\"Actual Returns\",\"Actual Returns\",\"Actual Returns\",\"Actual Returns\",\"Actual Returns\",\"Actual Returns\",\"Actual Returns\",\"Actual Returns\",\"Actual Returns\",\"Actual Returns\",\"Actual Returns\",\"Actual Returns\",\"Actual Returns\",\"Actual Returns\",\"Actual Returns\",\"Actual Returns\",\"Actual Returns\",\"Actual Returns\",\"Actual Returns\",\"Actual Returns\",\"Actual Returns\",\"Actual Returns\",\"Actual Returns\",\"Actual Returns\",\"Actual Returns\",\"Actual Returns\",\"Actual Returns\",\"Actual Returns\",\"Actual Returns\",\"Actual Returns\",\"Actual Returns\",\"Actual Returns\",\"Actual Returns\",\"Actual Returns\",\"Actual Returns\",\"Actual Returns\",\"Actual Returns\",\"Actual Returns\",\"Actual Returns\",\"Actual Returns\",\"Actual Returns\",\"Actual Returns\",\"Actual Returns\",\"Actual Returns\",\"Actual Returns\",\"Actual Returns\",\"Actual Returns\",\"Actual Returns\",\"Actual Returns\",\"Actual Returns\",\"Actual Returns\",\"Actual Returns\",\"Actual Returns\",\"Actual Returns\",\"Actual Returns\",\"Actual Returns\",\"Actual Returns\",\"Actual Returns\",\"Actual Returns\",\"Actual Returns\",\"Actual Returns\",\"Actual Returns\",\"Actual Returns\",\"Actual Returns\",\"Actual Returns\",\"Actual Returns\",\"Actual Returns\",\"Actual Returns\",\"Actual Returns\",\"Actual Returns\",\"Actual Returns\",\"Actual Returns\",\"Actual Returns\",\"Actual Returns\",\"Actual Returns\",\"Actual Returns\",\"Actual Returns\",\"Actual Returns\",\"Actual Returns\",\"Actual Returns\",\"Actual Returns\",\"Actual Returns\",\"Actual Returns\",\"Actual Returns\",\"Actual Returns\",\"Actual Returns\",\"Actual Returns\",\"Actual Returns\",\"Actual Returns\",\"Actual Returns\",\"Actual Returns\",\"Actual Returns\",\"Actual Returns\",\"Actual Returns\",\"Actual Returns\",\"Actual Returns\",\"Actual Returns\",\"Actual Returns\",\"Actual Returns\",\"Actual Returns\",\"Actual Returns\",\"Actual Returns\",\"Actual Returns\",\"Actual Returns\",\"Actual Returns\",\"Actual Returns\",\"Actual Returns\",\"Actual Returns\",\"Actual Returns\",\"Actual Returns\",\"Actual Returns\",\"Actual Returns\",\"Actual Returns\",\"Actual Returns\",\"Actual Returns\",\"Actual Returns\",\"Actual Returns\",\"Actual Returns\",\"Actual Returns\",\"Actual Returns\",\"Actual Returns\",\"Actual Returns\",\"Actual Returns\",\"Actual Returns\",\"Actual Returns\",\"Actual Returns\",\"Actual Returns\",\"Actual Returns\",\"Actual Returns\",\"Actual Returns\",\"Actual Returns\",\"Actual Returns\",\"Actual Returns\",\"Actual Returns\",\"Actual Returns\",\"Actual Returns\",\"Actual Returns\",\"Actual Returns\",\"Actual Returns\",\"Actual Returns\",\"Actual Returns\",\"Actual Returns\",\"Actual Returns\",\"Actual Returns\",\"Actual Returns\",\"Actual Returns\",\"Actual Returns\",\"Actual Returns\",\"Actual Returns\",\"Actual Returns\",\"Actual Returns\",\"Actual Returns\",\"Actual Returns\",\"Actual Returns\",\"Actual Returns\",\"Actual Returns\",\"Actual Returns\",\"Actual Returns\",\"Actual Returns\",\"Actual Returns\",\"Actual Returns\",\"Actual Returns\",\"Actual Returns\",\"Actual Returns\",\"Actual Returns\",\"Actual Returns\",\"Actual Returns\",\"Actual Returns\",\"Actual Returns\",\"Actual Returns\",\"Actual Returns\",\"Actual Returns\",\"Actual Returns\",\"Actual Returns\",\"Actual Returns\",\"Actual Returns\",\"Actual Returns\",\"Actual Returns\",\"Actual Returns\",\"Actual Returns\",\"Actual Returns\",\"Actual Returns\",\"Actual Returns\",\"Actual Returns\",\"Actual Returns\",\"Actual Returns\",\"Actual Returns\",\"Actual Returns\",\"Actual Returns\",\"Actual Returns\",\"Actual Returns\",\"Actual Returns\",\"Actual Returns\",\"Actual Returns\",\"Actual Returns\",\"Actual Returns\",\"Actual Returns\",\"Actual Returns\",\"Actual Returns\",\"Actual Returns\",\"Actual Returns\",\"Actual Returns\",\"Actual Returns\",\"Actual Returns\",\"Actual Returns\",\"Actual Returns\",\"Actual Returns\",\"Actual Returns\",\"Actual Returns\",\"Actual Returns\",\"Actual Returns\",\"Actual Returns\",\"Actual Returns\",\"Actual Returns\",\"Actual Returns\",\"Actual Returns\",\"Actual Returns\",\"Actual Returns\",\"Actual Returns\",\"Actual Returns\",\"Actual Returns\",\"Actual Returns\",\"Actual Returns\",\"Actual Returns\",\"Actual Returns\",\"Actual Returns\",\"Actual Returns\",\"Actual Returns\",\"Actual Returns\",\"Actual Returns\",\"Actual Returns\",\"Actual Returns\",\"Actual Returns\",\"Actual Returns\",\"Actual Returns\",\"Actual Returns\",\"Actual Returns\",\"Actual Returns\",\"Actual Returns\",\"Actual Returns\",\"Actual Returns\",\"Actual Returns\",\"Actual Returns\",\"Actual Returns\",\"Actual Returns\",\"Actual Returns\",\"Actual Returns\",\"Actual Returns\",\"Actual Returns\",\"Actual Returns\",\"Actual Returns\",\"Actual Returns\",\"Actual Returns\",\"Actual Returns\",\"Actual Returns\",\"Actual Returns\",\"Actual Returns\",\"Actual Returns\",\"Actual Returns\",\"Actual Returns\",\"Actual Returns\",\"Actual Returns\",\"Actual Returns\",\"Actual Returns\",\"Actual Returns\",\"Actual Returns\",\"Actual Returns\",\"Actual Returns\",\"Actual Returns\",\"Actual Returns\",\"Actual Returns\",\"Actual Returns\",\"Actual Returns\",\"Actual Returns\",\"Actual Returns\",\"Actual Returns\",\"Actual Returns\",\"Actual Returns\",\"Actual Returns\",\"Actual Returns\",\"Actual Returns\",\"Actual Returns\",\"Actual Returns\",\"Actual Returns\",\"Actual Returns\",\"Actual Returns\",\"Actual Returns\",\"Actual Returns\",\"Actual Returns\",\"Actual Returns\",\"Actual Returns\",\"Actual Returns\",\"Actual Returns\",\"Actual Returns\",\"Actual Returns\",\"Actual Returns\",\"Actual Returns\",\"Actual Returns\",\"Actual Returns\",\"Actual Returns\",\"Actual Returns\",\"Actual Returns\",\"Actual Returns\",\"Actual Returns\",\"Actual Returns\",\"Actual Returns\",\"Actual Returns\",\"Actual Returns\",\"Actual Returns\",\"Actual Returns\",\"Actual Returns\",\"Actual Returns\",\"Actual Returns\",\"Actual Returns\",\"Actual Returns\",\"Actual Returns\",\"Actual Returns\",\"Actual Returns\",\"Actual Returns\",\"Actual Returns\",\"Actual Returns\",\"Actual Returns\",\"Actual Returns\",\"Actual Returns\",\"Actual Returns\",\"Actual Returns\",\"Actual Returns\",\"Actual Returns\",\"Actual Returns\",\"Actual Returns\",\"Actual Returns\",\"Actual Returns\",\"Actual Returns\",\"Actual Returns\",\"Actual Returns\",\"Actual Returns\",\"Actual Returns\",\"Actual Returns\",\"Actual Returns\",\"Actual Returns\",\"Actual Returns\",\"Actual Returns\",\"Actual Returns\",\"Actual Returns\",\"Actual Returns\",\"Actual Returns\",\"Actual Returns\",\"Actual Returns\",\"Actual Returns\",\"Actual Returns\",\"Actual Returns\",\"Actual Returns\",\"Actual Returns\",\"Actual Returns\",\"Actual Returns\",\"Actual Returns\",\"Actual Returns\",\"Actual Returns\",\"Actual Returns\",\"Actual Returns\",\"Actual Returns\",\"Actual Returns\",\"Actual Returns\",\"Actual Returns\",\"Actual Returns\",\"Actual Returns\",\"Actual Returns\",\"Actual Returns\",\"Actual Returns\",\"Actual Returns\",\"Actual Returns\",\"Actual Returns\",\"Actual Returns\",\"Actual Returns\",\"Actual Returns\",\"Actual Returns\",\"Actual Returns\",\"Actual Returns\",\"Actual Returns\",\"Actual Returns\",\"Actual Returns\",\"Actual Returns\",\"Actual Returns\",\"Actual Returns\",\"Actual Returns\",\"Actual Returns\",\"Actual Returns\",\"Actual Returns\",\"Actual Returns\",\"Actual Returns\",\"Actual Returns\",\"Actual Returns\",\"Actual Returns\",\"Actual Returns\",\"Actual Returns\",\"Actual Returns\",\"Actual Returns\",\"Actual Returns\",\"Actual Returns\",\"Actual Returns\",\"Actual Returns\",\"Actual Returns\",\"Actual Returns\",\"Actual Returns\",\"Actual Returns\",\"Actual Returns\",\"Actual Returns\",\"Actual Returns\",\"Actual Returns\",\"Actual Returns\",\"Actual Returns\",\"Actual Returns\",\"Actual Returns\",\"Actual Returns\",\"Actual Returns\",\"Actual Returns\",\"Actual Returns\",\"Actual Returns\",\"Actual Returns\",\"Actual Returns\",\"Actual Returns\",\"Actual Returns\",\"Actual Returns\",\"Actual Returns\",\"Actual Returns\",\"Actual Returns\",\"Actual Returns\",\"Actual Returns\",\"Actual Returns\",\"Actual Returns\",\"Actual Returns\",\"Actual Returns\",\"Actual Returns\",\"Actual Returns\",\"Actual Returns\",\"Actual Returns\",\"Actual Returns\",\"Actual Returns\",\"Actual Returns\",\"Actual Returns\",\"Actual Returns\",\"Actual Returns\",\"Actual Returns\",\"Actual Returns\",\"Actual Returns\",\"Actual Returns\",\"Actual Returns\",\"Actual Returns\",\"Actual Returns\",\"Actual Returns\",\"Actual Returns\",\"Actual Returns\",\"Actual Returns\",\"Actual Returns\",\"Actual Returns\",\"Actual Returns\",\"Actual Returns\",\"Actual Returns\",\"Actual Returns\",\"Actual Returns\",\"Actual Returns\",\"Actual Returns\",\"Actual Returns\",\"Actual Returns\",\"Actual Returns\",\"Actual Returns\",\"Actual Returns\",\"Actual Returns\",\"Actual Returns\",\"Actual Returns\",\"Actual Returns\",\"Actual Returns\",\"Actual Returns\",\"Actual Returns\",\"Actual Returns\",\"Actual Returns\",\"Actual Returns\",\"Actual Returns\",\"Actual Returns\",\"Actual Returns\",\"Actual Returns\",\"Actual Returns\",\"Actual Returns\",\"Actual Returns\",\"Actual Returns\",\"Actual Returns\",\"Actual Returns\",\"Actual Returns\",\"Actual Returns\",\"Actual Returns\",\"Actual Returns\",\"Actual Returns\",\"Actual Returns\",\"Actual Returns\",\"Actual Returns\",\"Actual Returns\",\"Actual Returns\",\"Actual Returns\",\"Actual Returns\",\"Actual Returns\",\"Actual Returns\",\"Actual Returns\",\"Actual Returns\",\"Actual Returns\",\"Actual Returns\",\"Actual Returns\",\"Actual Returns\",\"Actual Returns\",\"Actual Returns\",\"Actual Returns\",\"Actual Returns\",\"Actual Returns\",\"Actual Returns\",\"Actual Returns\",\"Actual Returns\",\"Actual Returns\",\"Actual Returns\",\"Actual Returns\",\"Actual Returns\",\"Actual Returns\",\"Actual Returns\",\"Actual Returns\",\"Actual Returns\",\"Actual Returns\",\"Actual Returns\",\"Actual Returns\",\"Actual Returns\",\"Actual Returns\",\"Actual Returns\",\"Actual Returns\",\"Actual Returns\",\"Actual Returns\",\"Actual Returns\",\"Actual Returns\",\"Actual Returns\",\"Actual Returns\",\"Actual Returns\",\"Actual Returns\",\"Actual Returns\",\"Actual Returns\",\"Actual Returns\",\"Actual Returns\",\"Actual Returns\",\"Actual Returns\",\"Actual Returns\",\"Actual Returns\",\"Actual Returns\",\"Actual Returns\",\"Actual Returns\",\"Actual Returns\",\"Actual Returns\",\"Actual Returns\",\"Actual Returns\",\"Actual Returns\",\"Actual Returns\",\"Actual Returns\",\"Actual Returns\",\"Actual Returns\",\"Actual Returns\",\"Actual Returns\",\"Actual Returns\",\"Actual Returns\",\"Actual Returns\",\"Actual Returns\",\"Actual Returns\",\"Actual Returns\",\"Actual Returns\",\"Actual Returns\",\"Actual Returns\",\"Actual Returns\",\"Actual Returns\",\"Actual Returns\",\"Actual Returns\",\"Actual Returns\",\"Actual Returns\",\"Actual Returns\",\"Actual Returns\",\"Actual Returns\",\"Actual Returns\",\"Actual Returns\",\"Actual Returns\",\"Actual Returns\",\"Actual Returns\",\"Actual Returns\",\"Actual Returns\",\"Actual Returns\",\"Actual Returns\",\"Actual Returns\",\"Actual Returns\",\"Actual Returns\",\"Actual Returns\",\"Actual Returns\",\"Actual Returns\",\"Actual Returns\",\"Actual Returns\",\"Actual Returns\",\"Actual Returns\",\"Actual Returns\",\"Actual Returns\",\"Actual Returns\",\"Actual Returns\",\"Actual Returns\",\"Actual Returns\",\"Actual Returns\",\"Actual Returns\",\"Actual Returns\",\"Actual Returns\",\"Actual Returns\",\"Actual Returns\",\"Actual Returns\",\"Actual Returns\",\"Actual Returns\",\"Actual Returns\",\"Actual Returns\",\"Actual Returns\",\"Actual Returns\",\"Actual Returns\",\"Actual Returns\",\"Actual Returns\",\"Actual Returns\",\"Actual Returns\",\"Actual Returns\",\"Actual Returns\",\"Actual Returns\",\"Actual Returns\",\"Actual Returns\",\"Actual Returns\",\"Actual Returns\",\"Actual Returns\",\"Actual Returns\",\"Actual Returns\",\"Actual Returns\",\"Actual Returns\",\"Actual Returns\",\"Actual Returns\",\"Actual Returns\",\"Actual Returns\",\"Actual Returns\",\"Actual Returns\",\"Actual Returns\",\"Actual Returns\",\"Actual Returns\",\"Actual Returns\",\"Actual Returns\",\"Actual Returns\",\"Actual Returns\",\"Actual Returns\",\"Actual Returns\",\"Actual Returns\",\"Actual Returns\",\"Actual Returns\",\"Actual Returns\",\"Actual Returns\",\"Actual Returns\",\"Actual Returns\",\"Actual Returns\",\"Actual Returns\",\"Actual Returns\",\"Actual Returns\",\"Actual Returns\",\"Actual Returns\",\"Actual Returns\",\"Actual Returns\",\"Actual Returns\",\"Actual Returns\",\"Actual Returns\",\"Actual Returns\",\"Actual Returns\",\"Actual Returns\",\"Actual Returns\",\"Actual Returns\",\"Actual Returns\",\"Actual Returns\",\"Actual Returns\",\"Actual Returns\",\"Actual Returns\",\"Actual Returns\",\"Actual Returns\",\"Actual Returns\",\"Actual Returns\",\"Actual Returns\",\"Actual Returns\",\"Actual Returns\",\"Actual Returns\",\"Actual Returns\",\"Actual Returns\",\"Actual Returns\",\"Actual Returns\",\"Actual Returns\",\"Actual Returns\",\"Actual Returns\",\"Actual Returns\",\"Actual Returns\",\"Actual Returns\",\"Actual Returns\",\"Actual Returns\",\"Actual Returns\",\"Actual Returns\",\"Actual Returns\",\"Actual Returns\",\"Actual Returns\",\"Actual Returns\",\"Actual Returns\",\"Actual Returns\",\"Actual Returns\",\"Actual Returns\",\"Actual Returns\",\"Actual Returns\",\"Actual Returns\",\"Actual Returns\",\"Actual Returns\",\"Actual Returns\",\"Actual Returns\",\"Actual Returns\",\"Actual Returns\",\"Actual Returns\",\"Actual Returns\",\"Actual Returns\",\"Actual Returns\",\"Actual Returns\",\"Actual Returns\",\"Actual Returns\",\"Actual Returns\",\"Actual Returns\",\"Actual Returns\",\"Actual Returns\",\"Actual Returns\",\"Actual Returns\",\"Actual Returns\",\"Actual Returns\",\"Actual Returns\",\"Actual Returns\",\"Actual Returns\",\"Actual Returns\",\"Actual Returns\",\"Actual Returns\",\"Actual Returns\",\"Actual Returns\",\"Actual Returns\",\"Actual Returns\",\"Actual Returns\",\"Actual Returns\",\"Actual Returns\",\"Actual Returns\",\"Actual Returns\",\"Actual Returns\",\"Actual Returns\",\"Actual Returns\",\"Actual Returns\",\"Actual Returns\",\"Actual Returns\",\"Actual Returns\",\"Actual Returns\",\"Actual Returns\",\"Actual Returns\",\"Actual Returns\",\"Actual Returns\",\"Actual Returns\",\"Actual Returns\",\"Actual Returns\",\"Actual Returns\",\"Actual Returns\",\"Actual Returns\",\"Actual Returns\",\"Actual Returns\",\"Actual Returns\",\"Actual Returns\",\"Actual Returns\",\"Actual Returns\",\"Actual Returns\",\"Actual Returns\",\"Actual Returns\",\"Actual Returns\",\"Actual Returns\",\"Actual Returns\",\"Actual Returns\",\"Actual Returns\",\"Actual Returns\",\"Actual Returns\",\"Actual Returns\",\"Actual Returns\",\"Actual Returns\",\"Actual Returns\",\"Actual Returns\",\"Actual Returns\",\"Actual Returns\",\"Actual Returns\",\"Actual Returns\",\"Actual Returns\",\"Actual Returns\",\"Actual Returns\",\"Actual Returns\",\"Actual Returns\",\"Actual Returns\",\"Actual Returns\",\"Actual Returns\",\"Actual Returns\",\"Actual Returns\",\"Actual Returns\",\"Actual Returns\",\"Actual Returns\",\"Actual Returns\",\"Actual Returns\",\"Actual Returns\",\"Actual Returns\",\"Actual Returns\",\"Actual Returns\",\"Actual Returns\",\"Actual Returns\",\"Actual Returns\",\"Actual Returns\",\"Actual Returns\",\"Actual Returns\",\"Actual Returns\",\"Actual Returns\",\"Actual Returns\",\"Actual Returns\",\"Actual Returns\",\"Actual Returns\",\"Actual Returns\",\"Actual Returns\",\"Actual Returns\",\"Actual Returns\",\"Actual Returns\",\"Actual Returns\",\"Actual Returns\",\"Actual Returns\",\"Actual Returns\",\"Actual Returns\",\"Actual Returns\",\"Actual Returns\",\"Actual Returns\",\"Actual Returns\",\"Actual Returns\",\"Actual Returns\",\"Actual Returns\",\"Actual Returns\",\"Actual Returns\",\"Actual Returns\",\"Actual Returns\",\"Actual Returns\",\"Actual Returns\",\"Actual Returns\",\"Actual Returns\",\"Actual Returns\",\"Actual Returns\",\"Actual Returns\",\"Actual Returns\",\"Actual Returns\",\"Actual Returns\",\"Actual Returns\",\"Actual Returns\",\"Actual Returns\",\"Actual Returns\",\"Actual Returns\",\"Actual Returns\",\"Actual Returns\",\"Actual Returns\",\"Actual Returns\",\"Actual Returns\",\"Actual Returns\",\"Actual Returns\",\"Actual Returns\",\"Actual Returns\",\"Actual Returns\",\"Actual Returns\",\"Actual Returns\",\"Actual Returns\",\"Actual Returns\",\"Actual Returns\",\"Actual Returns\",\"Actual Returns\",\"Actual Returns\",\"Actual Returns\",\"Actual Returns\",\"Actual Returns\",\"Actual Returns\",\"Actual Returns\",\"Actual Returns\",\"Actual Returns\",\"Actual Returns\",\"Actual Returns\",\"Actual Returns\",\"Actual Returns\",\"Actual Returns\",\"Actual Returns\",\"Actual Returns\",\"Actual Returns\",\"Actual Returns\",\"Actual Returns\",\"Actual Returns\",\"Actual Returns\",\"Actual Returns\",\"Actual Returns\",\"Actual Returns\",\"Actual Returns\",\"Actual Returns\",\"Actual Returns\",\"Actual Returns\",\"Actual Returns\",\"Actual Returns\",\"Actual Returns\",\"Actual Returns\",\"Actual Returns\",\"Actual Returns\",\"Actual Returns\",\"Actual Returns\",\"Actual Returns\",\"Actual Returns\",\"Actual Returns\",\"Actual Returns\",\"Actual Returns\",\"Actual Returns\",\"Actual Returns\",\"Actual Returns\",\"Actual Returns\",\"Actual Returns\",\"Actual Returns\",\"Actual Returns\",\"Actual Returns\",\"Actual Returns\",\"Actual Returns\",\"Actual Returns\",\"Actual Returns\",\"Actual Returns\",\"Actual Returns\",\"Actual Returns\",\"Actual Returns\",\"Actual Returns\",\"Actual Returns\",\"Actual Returns\",\"Actual Returns\",\"Actual Returns\",\"Actual Returns\",\"Actual Returns\",\"Actual Returns\",\"Actual Returns\",\"Actual Returns\",\"Actual Returns\",\"Actual Returns\",\"Actual Returns\",\"Actual Returns\",\"Actual Returns\",\"Actual Returns\",\"Actual Returns\",\"Actual Returns\",\"Actual Returns\",\"Actual Returns\",\"Actual Returns\",\"Actual Returns\",\"Actual Returns\",\"Actual Returns\",\"Actual Returns\",\"Actual Returns\",\"Actual Returns\",\"Actual Returns\",\"Actual Returns\",\"Actual Returns\",\"Actual Returns\",\"Actual Returns\",\"Actual Returns\",\"Actual Returns\",\"Actual Returns\",\"Actual Returns\",\"Actual Returns\",\"Actual Returns\",\"Actual Returns\",\"Actual Returns\",\"Actual Returns\",\"Actual Returns\",\"Actual Returns\",\"Actual Returns\",\"Actual Returns\",\"Actual Returns\",\"Actual Returns\",\"Actual Returns\",\"Actual Returns\",\"Actual Returns\",\"Actual Returns\",\"Actual Returns\",\"Actual Returns\",\"Actual Returns\",\"Actual Returns\",\"Actual Returns\",\"Actual Returns\",\"Actual Returns\",\"Actual Returns\",\"Actual Returns\",\"Actual Returns\",\"Actual Returns\",\"Actual Returns\",\"Actual Returns\",\"Actual Returns\",\"Actual Returns\",\"Actual Returns\",\"Actual Returns\",\"Actual Returns\",\"Actual Returns\",\"Actual Returns\",\"Actual Returns\",\"Actual Returns\",\"Actual Returns\",\"Actual Returns\",\"Actual Returns\",\"Actual Returns\",\"Actual Returns\",\"Actual Returns\",\"Actual Returns\",\"Actual Returns\",\"Actual Returns\",\"Actual Returns\",\"Actual Returns\",\"Actual Returns\",\"Actual Returns\",\"Actual Returns\",\"Actual Returns\",\"Actual Returns\",\"Actual Returns\",\"Actual Returns\",\"Actual Returns\",\"Actual Returns\",\"Actual Returns\",\"Actual Returns\",\"Actual Returns\",\"Actual Returns\",\"Actual Returns\",\"Actual Returns\",\"Actual Returns\",\"Actual Returns\",\"Actual Returns\",\"Actual Returns\",\"Actual Returns\",\"Actual Returns\",\"Actual Returns\",\"Actual Returns\",\"Actual Returns\",\"Actual Returns\",\"Actual Returns\",\"Actual Returns\",\"Actual Returns\",\"Actual Returns\",\"Actual Returns\",\"Actual Returns\",\"Actual Returns\",\"Actual Returns\",\"Actual Returns\",\"Actual Returns\",\"Actual Returns\",\"Actual Returns\",\"Actual Returns\",\"Actual Returns\",\"Actual Returns\",\"Actual Returns\",\"Actual Returns\",\"Actual Returns\",\"Actual Returns\",\"Actual Returns\",\"Actual Returns\",\"Actual Returns\",\"Actual Returns\",\"Actual Returns\",\"Actual Returns\",\"Actual Returns\",\"Actual Returns\",\"Actual Returns\",\"Actual Returns\",\"Actual Returns\",\"Actual Returns\",\"Actual Returns\",\"Actual Returns\",\"Actual Returns\",\"Actual Returns\",\"Actual Returns\",\"Actual Returns\",\"Actual Returns\",\"Actual Returns\",\"Actual Returns\",\"Actual Returns\",\"Actual Returns\",\"Actual Returns\",\"Actual Returns\",\"Actual Returns\",\"Actual Returns\",\"Actual Returns\",\"Actual Returns\",\"Actual Returns\",\"Actual Returns\",\"Actual Returns\",\"Actual Returns\",\"Actual Returns\",\"Actual Returns\",\"Actual Returns\",\"Actual Returns\",\"Actual Returns\",\"Actual Returns\",\"Actual Returns\",\"Actual Returns\",\"Actual Returns\",\"Actual Returns\",\"Actual Returns\",\"Actual Returns\",\"Actual Returns\",\"Actual Returns\",\"Actual Returns\",\"Actual Returns\",\"Actual Returns\",\"Actual Returns\",\"Actual Returns\",\"Actual Returns\",\"Actual Returns\",\"Actual Returns\",\"Actual Returns\",\"Actual Returns\",\"Actual Returns\",\"Actual Returns\",\"Actual Returns\",\"Actual Returns\",\"Actual Returns\",\"Actual Returns\",\"Actual Returns\",\"Actual Returns\",\"Actual Returns\",\"Actual Returns\",\"Actual Returns\",\"Actual Returns\",\"Actual Returns\",\"Actual Returns\",\"Actual Returns\",\"Actual Returns\",\"Actual Returns\",\"Actual Returns\",\"Actual Returns\",\"Actual Returns\",\"Actual Returns\",\"Actual Returns\",\"Actual Returns\",\"Actual Returns\",\"Actual Returns\",\"Actual Returns\",\"Actual Returns\",\"Actual Returns\",\"Actual Returns\",\"Actual Returns\",\"Actual Returns\",\"Actual Returns\",\"Actual Returns\",\"Actual Returns\",\"Actual Returns\",\"Actual Returns\",\"Actual Returns\",\"Actual Returns\",\"Actual Returns\",\"Actual Returns\",\"Actual Returns\",\"Actual Returns\",\"Actual Returns\",\"Actual Returns\",\"Actual Returns\",\"Actual Returns\",\"Actual Returns\",\"Actual Returns\",\"Actual Returns\",\"Actual Returns\",\"Actual Returns\",\"Actual Returns\",\"Actual Returns\",\"Actual Returns\",\"Actual Returns\",\"Actual Returns\",\"Actual Returns\",\"Actual Returns\",\"Actual Returns\",\"Actual Returns\",\"Actual Returns\",\"Actual Returns\",\"Actual Returns\",\"Actual Returns\",\"Actual Returns\",\"Actual Returns\",\"Actual Returns\",\"Actual Returns\",\"Actual Returns\",\"Actual Returns\",\"Actual Returns\",\"Actual Returns\",\"Actual Returns\",\"Actual Returns\",\"Actual Returns\",\"Actual Returns\",\"Actual Returns\",\"Actual Returns\",\"Actual Returns\",\"Actual Returns\",\"Actual Returns\",\"Actual Returns\",\"Actual Returns\",\"Actual Returns\",\"Actual Returns\",\"Actual Returns\",\"Actual Returns\",\"Actual Returns\",\"Actual Returns\",\"Actual Returns\",\"Actual Returns\",\"Actual Returns\",\"Actual Returns\",\"Actual Returns\",\"Actual Returns\",\"Actual Returns\",\"Actual Returns\",\"Actual Returns\",\"Actual Returns\",\"Actual Returns\",\"Actual Returns\",\"Actual Returns\",\"Actual Returns\",\"Actual Returns\",\"Actual Returns\",\"Actual Returns\",\"Actual Returns\",\"Actual Returns\",\"Actual Returns\",\"Actual Returns\",\"Actual Returns\",\"Actual Returns\",\"Actual Returns\",\"Actual Returns\",\"Actual Returns\",\"Actual Returns\",\"Actual Returns\",\"Actual Returns\",\"Actual Returns\",\"Actual Returns\",\"Actual Returns\",\"Actual Returns\",\"Actual Returns\",\"Actual Returns\",\"Actual Returns\",\"Actual Returns\",\"Actual Returns\",\"Actual Returns\",\"Actual Returns\",\"Actual Returns\",\"Actual Returns\",\"Actual Returns\",\"Actual Returns\",\"Actual Returns\",\"Actual Returns\",\"Actual Returns\",\"Actual Returns\",\"Actual Returns\",\"Actual Returns\",\"Actual Returns\",\"Actual Returns\",\"Actual Returns\",\"Actual Returns\",\"Actual Returns\",\"Actual Returns\",\"Actual Returns\",\"Actual Returns\",\"Actual Returns\",\"Actual Returns\",\"Actual Returns\",\"Actual Returns\",\"Actual Returns\",\"Actual Returns\",\"Actual Returns\",\"Actual Returns\",\"Actual Returns\",\"Actual Returns\",\"Actual Returns\",\"Actual Returns\",\"Actual Returns\",\"Actual Returns\",\"Actual Returns\",\"Actual Returns\",\"Actual Returns\",\"Actual Returns\",\"Actual Returns\",\"Actual Returns\",\"Actual Returns\",\"Actual Returns\",\"Actual Returns\",\"Actual Returns\",\"Actual Returns\",\"Actual Returns\",\"Actual Returns\",\"Actual Returns\",\"Actual Returns\",\"Actual Returns\",\"Actual Returns\",\"Actual Returns\",\"Actual Returns\",\"Actual Returns\",\"Actual Returns\",\"Actual Returns\",\"Actual Returns\",\"Actual Returns\",\"Actual Returns\",\"Actual Returns\",\"Actual Returns\",\"Actual Returns\",\"Actual Returns\",\"Actual Returns\",\"Actual Returns\",\"Actual Returns\",\"Actual Returns\",\"Actual Returns\",\"Actual Returns\",\"Actual Returns\",\"Actual Returns\",\"Actual Returns\",\"Actual Returns\",\"Actual Returns\",\"Actual Returns\",\"Actual Returns\",\"Actual Returns\",\"Actual Returns\",\"Actual Returns\",\"Actual Returns\",\"Actual Returns\",\"Actual Returns\",\"Actual Returns\",\"Actual Returns\",\"Actual Returns\",\"Actual Returns\",\"Actual Returns\",\"Actual Returns\",\"Actual Returns\",\"Actual Returns\",\"Actual Returns\",\"Actual Returns\",\"Actual Returns\",\"Actual Returns\",\"Actual Returns\",\"Actual Returns\",\"Actual Returns\",\"Actual Returns\",\"Actual Returns\",\"Actual Returns\",\"Actual Returns\",\"Actual Returns\",\"Actual Returns\",\"Actual Returns\",\"Actual Returns\",\"Actual Returns\",\"Actual Returns\",\"Actual Returns\",\"Actual Returns\",\"Actual Returns\",\"Actual Returns\",\"Actual Returns\",\"Actual Returns\",\"Actual Returns\",\"Actual Returns\",\"Actual Returns\",\"Actual Returns\",\"Actual Returns\",\"Actual Returns\",\"Actual Returns\",\"Actual Returns\",\"Actual Returns\",\"Actual Returns\",\"Actual Returns\",\"Actual Returns\",\"Actual Returns\",\"Actual Returns\",\"Actual Returns\",\"Actual Returns\",\"Actual Returns\",\"Actual Returns\",\"Actual Returns\",\"Actual Returns\",\"Actual Returns\",\"Actual Returns\",\"Actual Returns\",\"Actual Returns\",\"Actual Returns\",\"Actual Returns\",\"Actual Returns\",\"Actual Returns\",\"Actual Returns\",\"Actual Returns\",\"Actual Returns\",\"Actual Returns\",\"Actual Returns\",\"Actual Returns\",\"Actual Returns\",\"Actual Returns\",\"Actual Returns\",\"Actual Returns\",\"Actual Returns\",\"Actual Returns\",\"Actual Returns\",\"Actual Returns\",\"Actual Returns\",\"Actual Returns\",\"Actual Returns\",\"Actual Returns\",\"Actual Returns\",\"Actual Returns\",\"Actual Returns\",\"Actual Returns\",\"Actual Returns\",\"Actual Returns\",\"Actual Returns\",\"Actual Returns\",\"Actual Returns\",\"Actual Returns\",\"Actual Returns\",\"Actual Returns\",\"Actual Returns\",\"Actual Returns\",\"Actual Returns\",\"Actual Returns\",\"Actual Returns\",\"Actual Returns\",\"Actual Returns\",\"Actual Returns\",\"Actual Returns\",\"Actual Returns\",\"Actual Returns\",\"Actual Returns\",\"Actual Returns\",\"Actual Returns\",\"Actual Returns\",\"Actual Returns\",\"Actual Returns\",\"Actual Returns\",\"Actual Returns\",\"Actual Returns\",\"Actual Returns\",\"Actual Returns\",\"Actual Returns\",\"Actual Returns\",\"Actual Returns\",\"Actual Returns\",\"Actual Returns\",\"Actual Returns\",\"Actual Returns\",\"Actual Returns\",\"Actual Returns\",\"Actual Returns\",\"Actual Returns\",\"Actual Returns\",\"Actual Returns\",\"Actual Returns\",\"Actual Returns\",\"Actual Returns\",\"Actual Returns\",\"Actual Returns\",\"Actual Returns\",\"Actual Returns\",\"Actual Returns\",\"Actual Returns\",\"Actual Returns\",\"Actual Returns\",\"Actual Returns\",\"Actual Returns\",\"Actual Returns\",\"Actual Returns\",\"Actual Returns\",\"Actual Returns\",\"Actual Returns\",\"Actual Returns\",\"Actual Returns\",\"Actual Returns\",\"Actual Returns\",\"Actual Returns\",\"Actual Returns\",\"Actual Returns\",\"Actual Returns\",\"Actual Returns\",\"Actual Returns\",\"Actual Returns\",\"Actual Returns\",\"Actual Returns\",\"Actual Returns\",\"Actual Returns\",\"Actual Returns\",\"Actual Returns\",\"Actual Returns\",\"Actual Returns\",\"Actual Returns\",\"Actual Returns\",\"Actual Returns\",\"Actual Returns\",\"Actual Returns\",\"Actual Returns\",\"Actual Returns\",\"Actual Returns\",\"Actual Returns\",\"Actual Returns\",\"Actual Returns\",\"Actual Returns\",\"Actual Returns\",\"Actual Returns\",\"Actual Returns\",\"Actual Returns\",\"Actual Returns\",\"Actual Returns\",\"Actual Returns\",\"Actual Returns\",\"Actual Returns\",\"Actual Returns\",\"Actual Returns\",\"Actual Returns\",\"Actual Returns\",\"Actual Returns\",\"Actual Returns\",\"Actual Returns\",\"Actual Returns\",\"Actual Returns\",\"Actual Returns\",\"Actual Returns\",\"Actual Returns\",\"Actual Returns\",\"Actual Returns\",\"Actual Returns\",\"Actual Returns\",\"Actual Returns\",\"Actual Returns\",\"Actual Returns\",\"Actual Returns\",\"Actual Returns\",\"Actual Returns\",\"Actual Returns\",\"Actual Returns\",\"Actual Returns\",\"Actual Returns\",\"Actual Returns\",\"Actual Returns\",\"Actual Returns\",\"Actual Returns\",\"Actual Returns\",\"Actual Returns\",\"Actual Returns\",\"Actual Returns\",\"Actual Returns\",\"Actual Returns\",\"Actual Returns\",\"Actual Returns\",\"Actual Returns\",\"Actual Returns\",\"Actual Returns\",\"Actual Returns\",\"Actual Returns\",\"Actual Returns\",\"Actual Returns\",\"Actual Returns\",\"Actual Returns\",\"Actual Returns\",\"Actual Returns\",\"Actual Returns\",\"Actual Returns\",\"Actual Returns\",\"Actual Returns\",\"Actual Returns\",\"Actual Returns\",\"Actual Returns\",\"Actual Returns\",\"Actual Returns\",\"Actual Returns\",\"Actual Returns\",\"Actual Returns\",\"Actual Returns\",\"Actual Returns\",\"Actual Returns\",\"Actual Returns\",\"Actual Returns\",\"Actual Returns\",\"Actual Returns\",\"Actual Returns\",\"Actual Returns\",\"Actual Returns\",\"Actual Returns\",\"Actual Returns\",\"Actual Returns\",\"Actual Returns\",\"Actual Returns\",\"Actual Returns\",\"Actual Returns\",\"Actual Returns\",\"Actual Returns\",\"Actual Returns\",\"Actual Returns\",\"Actual Returns\",\"Actual Returns\",\"Actual Returns\",\"Actual Returns\",\"Actual Returns\",\"Actual Returns\",\"Actual Returns\",\"Actual Returns\",\"Actual Returns\",\"Actual Returns\",\"Actual Returns\",\"Actual Returns\",\"Actual Returns\",\"Actual Returns\",\"Actual Returns\",\"Actual Returns\",\"Actual Returns\",\"Actual Returns\",\"Actual Returns\",\"Actual Returns\",\"Actual Returns\",\"Actual Returns\",\"Actual Returns\",\"Actual Returns\",\"Actual Returns\",\"Actual Returns\",\"Actual Returns\",\"Actual Returns\",\"Actual Returns\",\"Actual Returns\",\"Actual Returns\",\"Actual Returns\",\"Actual Returns\",\"Actual Returns\",\"Actual Returns\",\"Actual Returns\",\"Actual Returns\",\"Actual Returns\",\"Actual Returns\",\"Actual Returns\",\"Actual Returns\",\"Actual Returns\",\"Actual Returns\",\"Actual Returns\",\"Actual Returns\",\"Actual Returns\",\"Actual Returns\",\"Actual Returns\",\"Actual Returns\",\"Actual Returns\",\"Actual Returns\",\"Actual Returns\",\"Actual Returns\",\"Actual Returns\",\"Actual Returns\",\"Actual Returns\",\"Actual Returns\",\"Actual Returns\",\"Actual Returns\",\"Actual Returns\",\"Actual Returns\",\"Actual Returns\",\"Actual Returns\",\"Actual Returns\",\"Actual Returns\",\"Actual Returns\",\"Actual Returns\",\"Actual Returns\",\"Actual Returns\",\"Actual Returns\",\"Actual Returns\",\"Actual Returns\",\"Actual Returns\",\"Actual Returns\",\"Actual Returns\",\"Actual Returns\",\"Actual Returns\",\"Actual Returns\",\"Actual Returns\",\"Actual Returns\",\"Actual Returns\",\"Actual Returns\",\"Actual Returns\",\"Actual Returns\",\"Actual Returns\",\"Actual Returns\",\"Actual Returns\",\"Actual Returns\",\"Actual Returns\",\"Actual Returns\",\"Actual Returns\",\"Actual Returns\",\"Actual Returns\",\"Actual Returns\",\"Actual Returns\",\"Actual Returns\",\"Actual Returns\",\"Actual Returns\",\"Actual Returns\",\"Actual Returns\",\"Actual Returns\",\"Actual Returns\",\"Actual Returns\",\"Actual Returns\",\"Actual Returns\",\"Actual Returns\",\"Actual Returns\",\"Actual Returns\",\"Actual Returns\",\"Actual Returns\",\"Actual Returns\",\"Actual Returns\",\"Actual Returns\",\"Actual Returns\",\"Actual Returns\",\"Actual Returns\",\"Actual Returns\",\"Actual Returns\",\"Actual Returns\",\"Actual Returns\",\"Actual Returns\",\"Actual Returns\",\"Actual Returns\",\"Actual Returns\",\"Actual Returns\",\"Actual Returns\",\"Actual Returns\",\"Actual Returns\",\"Actual Returns\",\"Actual Returns\",\"Actual Returns\",\"Actual Returns\",\"Actual Returns\",\"Actual Returns\",\"Actual Returns\"],\"date\":{\"__ndarray__\":\"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\",\"dtype\":\"float64\",\"order\":\"little\",\"shape\":[3273]},\"value\":{\"__ndarray__\":\"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\",\"dtype\":\"float64\",\"order\":\"little\",\"shape\":[3273]}},\"selected\":{\"id\":\"8545\"},\"selection_policy\":{\"id\":\"8569\"}},\"id\":\"8544\",\"type\":\"ColumnDataSource\"},{\"attributes\":{},\"id\":\"8531\",\"type\":\"ResetTool\"},{\"attributes\":{\"base\":60,\"mantissas\":[1,2,5,10,15,20,30],\"max_interval\":1800000.0,\"min_interval\":1000.0,\"num_minor_ticks\":0},\"id\":\"8558\",\"type\":\"AdaptiveTicker\"},{\"attributes\":{\"axis\":{\"id\":\"8519\"},\"grid_line_color\":null,\"ticker\":null},\"id\":\"8522\",\"type\":\"Grid\"},{\"attributes\":{\"base\":24,\"mantissas\":[1,2,4,6,8,12],\"max_interval\":43200000.0,\"min_interval\":3600000.0,\"num_minor_ticks\":0},\"id\":\"8559\",\"type\":\"AdaptiveTicker\"},{\"attributes\":{\"axis_label\":\"Date\",\"bounds\":\"auto\",\"formatter\":{\"id\":\"8541\"},\"major_label_orientation\":\"horizontal\",\"ticker\":{\"id\":\"8520\"}},\"id\":\"8519\",\"type\":\"DatetimeAxis\"},{\"attributes\":{},\"id\":\"8601\",\"type\":\"UnionRenderers\"},{\"attributes\":{},\"id\":\"8575\",\"type\":\"Selection\"},{\"attributes\":{\"end\":1.7287148879976961,\"reset_end\":1.7287148879976961,\"reset_start\":0.7907074899708397,\"start\":0.7907074899708397,\"tags\":[[[\"value\",\"value\",null]]]},\"id\":\"8507\",\"type\":\"Range1d\"},{\"attributes\":{\"num_minor_ticks\":5,\"tickers\":[{\"id\":\"8557\"},{\"id\":\"8558\"},{\"id\":\"8559\"},{\"id\":\"8560\"},{\"id\":\"8561\"},{\"id\":\"8562\"},{\"id\":\"8563\"},{\"id\":\"8564\"},{\"id\":\"8565\"},{\"id\":\"8566\"},{\"id\":\"8567\"},{\"id\":\"8568\"}]},\"id\":\"8520\",\"type\":\"DatetimeTicker\"},{\"attributes\":{\"label\":{\"value\":\"Strategy Returns\"},\"renderers\":[{\"id\":\"8580\"}]},\"id\":\"8604\",\"type\":\"LegendItem\"},{\"attributes\":{\"margin\":[5,5,5,5],\"name\":\"HSpacer10108\",\"sizing_mode\":\"stretch_width\"},\"id\":\"8505\",\"type\":\"Spacer\"},{\"attributes\":{\"days\":[1,2,3,4,5,6,7,8,9,10,11,12,13,14,15,16,17,18,19,20,21,22,23,24,25,26,27,28,29,30,31]},\"id\":\"8560\",\"type\":\"DaysTicker\"},{\"attributes\":{\"margin\":[5,5,5,5],\"name\":\"HSpacer10109\",\"sizing_mode\":\"stretch_width\"},\"id\":\"8803\",\"type\":\"Spacer\"},{\"attributes\":{\"bottom_units\":\"screen\",\"fill_alpha\":0.5,\"fill_color\":\"lightgrey\",\"left_units\":\"screen\",\"level\":\"overlay\",\"line_alpha\":1.0,\"line_color\":\"black\",\"line_dash\":[4,4],\"line_width\":2,\"right_units\":\"screen\",\"top_units\":\"screen\"},\"id\":\"8532\",\"type\":\"BoxAnnotation\"},{\"attributes\":{},\"id\":\"8524\",\"type\":\"BasicTicker\"},{\"attributes\":{\"source\":{\"id\":\"8574\"}},\"id\":\"8581\",\"type\":\"CDSView\"},{\"attributes\":{\"days\":[1,4,7,10,13,16,19,22,25,28]},\"id\":\"8561\",\"type\":\"DaysTicker\"},{\"attributes\":{\"axis\":{\"id\":\"8523\"},\"dimension\":1,\"grid_line_color\":null,\"ticker\":null},\"id\":\"8526\",\"type\":\"Grid\"},{\"attributes\":{\"line_alpha\":0.1,\"line_color\":\"#fc4f30\",\"line_width\":2,\"x\":{\"field\":\"date\"},\"y\":{\"field\":\"value\"}},\"id\":\"8578\",\"type\":\"Line\"},{\"attributes\":{\"days\":[1,8,15,22]},\"id\":\"8562\",\"type\":\"DaysTicker\"},{\"attributes\":{\"axis_label\":\"Returns\",\"bounds\":\"auto\",\"formatter\":{\"id\":\"8543\"},\"major_label_orientation\":\"horizontal\",\"ticker\":{\"id\":\"8524\"}},\"id\":\"8523\",\"type\":\"LinearAxis\"},{\"attributes\":{\"days\":[1,15]},\"id\":\"8563\",\"type\":\"DaysTicker\"},{\"attributes\":{},\"id\":\"8545\",\"type\":\"Selection\"},{\"attributes\":{\"end\":1611330300000.0,\"reset_end\":1611330300000.0,\"reset_start\":1475748000000.0,\"start\":1475748000000.0,\"tags\":[[[\"date\",\"date\",null]]]},\"id\":\"8506\",\"type\":\"Range1d\"},{\"attributes\":{\"data_source\":{\"id\":\"8574\"},\"glyph\":{\"id\":\"8577\"},\"hover_glyph\":null,\"muted_glyph\":{\"id\":\"8579\"},\"nonselection_glyph\":{\"id\":\"8578\"},\"selection_glyph\":null,\"view\":{\"id\":\"8581\"}},\"id\":\"8580\",\"type\":\"GlyphRenderer\"},{\"attributes\":{\"label\":{\"value\":\"Actual Returns\"},\"renderers\":[{\"id\":\"8550\"}]},\"id\":\"8573\",\"type\":\"LegendItem\"},{\"attributes\":{\"line_alpha\":0.2,\"line_color\":\"#fc4f30\",\"line_width\":2,\"x\":{\"field\":\"date\"},\"y\":{\"field\":\"value\"}},\"id\":\"8579\",\"type\":\"Line\"},{\"attributes\":{\"months\":[0,1,2,3,4,5,6,7,8,9,10,11]},\"id\":\"8564\",\"type\":\"MonthsTicker\"},{\"attributes\":{},\"id\":\"8541\",\"type\":\"DatetimeTickFormatter\"},{\"attributes\":{\"line_alpha\":0.1,\"line_color\":\"#30a2da\",\"line_width\":2,\"x\":{\"field\":\"date\"},\"y\":{\"field\":\"value\"}},\"id\":\"8548\",\"type\":\"Line\"},{\"attributes\":{\"months\":[0,2,4,6,8,10]},\"id\":\"8565\",\"type\":\"MonthsTicker\"},{\"attributes\":{\"children\":[{\"id\":\"8505\"},{\"id\":\"8510\"},{\"id\":\"8803\"}],\"margin\":[0,0,0,0],\"name\":\"Row10104\",\"tags\":[\"embedded\"]},\"id\":\"8504\",\"type\":\"Row\"},{\"attributes\":{\"below\":[{\"id\":\"8519\"}],\"center\":[{\"id\":\"8522\"},{\"id\":\"8526\"}],\"left\":[{\"id\":\"8523\"}],\"margin\":[5,5,5,5],\"min_border_bottom\":10,\"min_border_left\":10,\"min_border_right\":10,\"min_border_top\":10,\"plot_height\":450,\"plot_width\":900,\"renderers\":[{\"id\":\"8550\"},{\"id\":\"8580\"}],\"right\":[{\"id\":\"8572\"}],\"sizing_mode\":\"fixed\",\"title\":{\"id\":\"8511\"},\"toolbar\":{\"id\":\"8533\"},\"x_range\":{\"id\":\"8506\"},\"x_scale\":{\"id\":\"8515\"},\"y_range\":{\"id\":\"8507\"},\"y_scale\":{\"id\":\"8517\"}},\"id\":\"8510\",\"subtype\":\"Figure\",\"type\":\"Plot\"},{\"attributes\":{\"data_source\":{\"id\":\"8544\"},\"glyph\":{\"id\":\"8547\"},\"hover_glyph\":null,\"muted_glyph\":{\"id\":\"8549\"},\"nonselection_glyph\":{\"id\":\"8548\"},\"selection_glyph\":null,\"view\":{\"id\":\"8551\"}},\"id\":\"8550\",\"type\":\"GlyphRenderer\"},{\"attributes\":{\"active_drag\":\"auto\",\"active_inspect\":\"auto\",\"active_multi\":null,\"active_scroll\":\"auto\",\"active_tap\":\"auto\",\"tools\":[{\"id\":\"8508\"},{\"id\":\"8527\"},{\"id\":\"8528\"},{\"id\":\"8529\"},{\"id\":\"8530\"},{\"id\":\"8531\"}]},\"id\":\"8533\",\"type\":\"Toolbar\"},{\"attributes\":{\"data\":{\"Variable\":[\"Strategy Returns\",\"Strategy Returns\",\"Strategy Returns\",\"Strategy Returns\",\"Strategy Returns\",\"Strategy Returns\",\"Strategy Returns\",\"Strategy Returns\",\"Strategy Returns\",\"Strategy Returns\",\"Strategy Returns\",\"Strategy Returns\",\"Strategy Returns\",\"Strategy Returns\",\"Strategy Returns\",\"Strategy Returns\",\"Strategy Returns\",\"Strategy Returns\",\"Strategy Returns\",\"Strategy Returns\",\"Strategy Returns\",\"Strategy Returns\",\"Strategy Returns\",\"Strategy Returns\",\"Strategy Returns\",\"Strategy Returns\",\"Strategy Returns\",\"Strategy Returns\",\"Strategy Returns\",\"Strategy Returns\",\"Strategy Returns\",\"Strategy Returns\",\"Strategy Returns\",\"Strategy Returns\",\"Strategy Returns\",\"Strategy Returns\",\"Strategy Returns\",\"Strategy Returns\",\"Strategy Returns\",\"Strategy Returns\",\"Strategy Returns\",\"Strategy Returns\",\"Strategy Returns\",\"Strategy Returns\",\"Strategy Returns\",\"Strategy Returns\",\"Strategy Returns\",\"Strategy Returns\",\"Strategy Returns\",\"Strategy Returns\",\"Strategy Returns\",\"Strategy Returns\",\"Strategy Returns\",\"Strategy Returns\",\"Strategy Returns\",\"Strategy Returns\",\"Strategy Returns\",\"Strategy Returns\",\"Strategy Returns\",\"Strategy Returns\",\"Strategy Returns\",\"Strategy Returns\",\"Strategy Returns\",\"Strategy Returns\",\"Strategy Returns\",\"Strategy Returns\",\"Strategy Returns\",\"Strategy Returns\",\"Strategy Returns\",\"Strategy Returns\",\"Strategy Returns\",\"Strategy Returns\",\"Strategy Returns\",\"Strategy Returns\",\"Strategy Returns\",\"Strategy Returns\",\"Strategy Returns\",\"Strategy Returns\",\"Strategy Returns\",\"Strategy Returns\",\"Strategy Returns\",\"Strategy Returns\",\"Strategy Returns\",\"Strategy Returns\",\"Strategy Returns\",\"Strategy Returns\",\"Strategy Returns\",\"Strategy Returns\",\"Strategy Returns\",\"Strategy Returns\",\"Strategy Returns\",\"Strategy Returns\",\"Strategy Returns\",\"Strategy Returns\",\"Strategy Returns\",\"Strategy Returns\",\"Strategy Returns\",\"Strategy Returns\",\"Strategy Returns\",\"Strategy Returns\",\"Strategy Returns\",\"Strategy Returns\",\"Strategy Returns\",\"Strategy Returns\",\"Strategy Returns\",\"Strategy Returns\",\"Strategy Returns\",\"Strategy Returns\",\"Strategy Returns\",\"Strategy Returns\",\"Strategy Returns\",\"Strategy Returns\",\"Strategy Returns\",\"Strategy Returns\",\"Strategy Returns\",\"Strategy Returns\",\"Strategy Returns\",\"Strategy Returns\",\"Strategy Returns\",\"Strategy Returns\",\"Strategy Returns\",\"Strategy Returns\",\"Strategy Returns\",\"Strategy Returns\",\"Strategy Returns\",\"Strategy Returns\",\"Strategy Returns\",\"Strategy Returns\",\"Strategy Returns\",\"Strategy Returns\",\"Strategy Returns\",\"Strategy Returns\",\"Strategy Returns\",\"Strategy Returns\",\"Strategy Returns\",\"Strategy Returns\",\"Strategy Returns\",\"Strategy Returns\",\"Strategy Returns\",\"Strategy Returns\",\"Strategy Returns\",\"Strategy Returns\",\"Strategy Returns\",\"Strategy Returns\",\"Strategy Returns\",\"Strategy Returns\",\"Strategy Returns\",\"Strategy Returns\",\"Strategy Returns\",\"Strategy Returns\",\"Strategy Returns\",\"Strategy Returns\",\"Strategy Returns\",\"Strategy Returns\",\"Strategy Returns\",\"Strategy Returns\",\"Strategy Returns\",\"Strategy Returns\",\"Strategy Returns\",\"Strategy Returns\",\"Strategy Returns\",\"Strategy Returns\",\"Strategy Returns\",\"Strategy Returns\",\"Strategy Returns\",\"Strategy Returns\",\"Strategy Returns\",\"Strategy Returns\",\"Strategy Returns\",\"Strategy Returns\",\"Strategy Returns\",\"Strategy Returns\",\"Strategy Returns\",\"Strategy Returns\",\"Strategy Returns\",\"Strategy Returns\",\"Strategy Returns\",\"Strategy Returns\",\"Strategy Returns\",\"Strategy Returns\",\"Strategy Returns\",\"Strategy Returns\",\"Strategy Returns\",\"Strategy Returns\",\"Strategy Returns\",\"Strategy Returns\",\"Strategy Returns\",\"Strategy Returns\",\"Strategy Returns\",\"Strategy Returns\",\"Strategy Returns\",\"Strategy Returns\",\"Strategy Returns\",\"Strategy Returns\",\"Strategy Returns\",\"Strategy Returns\",\"Strategy Returns\",\"Strategy Returns\",\"Strategy Returns\",\"Strategy Returns\",\"Strategy Returns\",\"Strategy Returns\",\"Strategy Returns\",\"Strategy Returns\",\"Strategy Returns\",\"Strategy Returns\",\"Strategy Returns\",\"Strategy Returns\",\"Strategy Returns\",\"Strategy Returns\",\"Strategy Returns\",\"Strategy Returns\",\"Strategy Returns\",\"Strategy Returns\",\"Strategy Returns\",\"Strategy Returns\",\"Strategy Returns\",\"Strategy Returns\",\"Strategy Returns\",\"Strategy Returns\",\"Strategy Returns\",\"Strategy Returns\",\"Strategy Returns\",\"Strategy Returns\",\"Strategy Returns\",\"Strategy Returns\",\"Strategy Returns\",\"Strategy Returns\",\"Strategy Returns\",\"Strategy Returns\",\"Strategy Returns\",\"Strategy Returns\",\"Strategy Returns\",\"Strategy Returns\",\"Strategy Returns\",\"Strategy Returns\",\"Strategy Returns\",\"Strategy Returns\",\"Strategy Returns\",\"Strategy Returns\",\"Strategy Returns\",\"Strategy Returns\",\"Strategy Returns\",\"Strategy Returns\",\"Strategy Returns\",\"Strategy Returns\",\"Strategy Returns\",\"Strategy Returns\",\"Strategy Returns\",\"Strategy Returns\",\"Strategy Returns\",\"Strategy Returns\",\"Strategy Returns\",\"Strategy Returns\",\"Strategy Returns\",\"Strategy Returns\",\"Strategy Returns\",\"Strategy Returns\",\"Strategy Returns\",\"Strategy Returns\",\"Strategy Returns\",\"Strategy Returns\",\"Strategy Returns\",\"Strategy Returns\",\"Strategy Returns\",\"Strategy Returns\",\"Strategy Returns\",\"Strategy Returns\",\"Strategy Returns\",\"Strategy Returns\",\"Strategy Returns\",\"Strategy Returns\",\"Strategy Returns\",\"Strategy Returns\",\"Strategy Returns\",\"Strategy Returns\",\"Strategy Returns\",\"Strategy Returns\",\"Strategy Returns\",\"Strategy Returns\",\"Strategy Returns\",\"Strategy Returns\",\"Strategy Returns\",\"Strategy Returns\",\"Strategy Returns\",\"Strategy Returns\",\"Strategy Returns\",\"Strategy Returns\",\"Strategy Returns\",\"Strategy Returns\",\"Strategy Returns\",\"Strategy Returns\",\"Strategy Returns\",\"Strategy Returns\",\"Strategy Returns\",\"Strategy Returns\",\"Strategy Returns\",\"Strategy Returns\",\"Strategy Returns\",\"Strategy Returns\",\"Strategy Returns\",\"Strategy Returns\",\"Strategy Returns\",\"Strategy Returns\",\"Strategy Returns\",\"Strategy Returns\",\"Strategy Returns\",\"Strategy Returns\",\"Strategy Returns\",\"Strategy Returns\",\"Strategy Returns\",\"Strategy Returns\",\"Strategy Returns\",\"Strategy Returns\",\"Strategy Returns\",\"Strategy Returns\",\"Strategy Returns\",\"Strategy Returns\",\"Strategy Returns\",\"Strategy Returns\",\"Strategy Returns\",\"Strategy Returns\",\"Strategy Returns\",\"Strategy Returns\",\"Strategy Returns\",\"Strategy Returns\",\"Strategy Returns\",\"Strategy Returns\",\"Strategy Returns\",\"Strategy Returns\",\"Strategy Returns\",\"Strategy Returns\",\"Strategy Returns\",\"Strategy Returns\",\"Strategy Returns\",\"Strategy Returns\",\"Strategy Returns\",\"Strategy Returns\",\"Strategy Returns\",\"Strategy Returns\",\"Strategy Returns\",\"Strategy Returns\",\"Strategy Returns\",\"Strategy Returns\",\"Strategy Returns\",\"Strategy Returns\",\"Strategy Returns\",\"Strategy Returns\",\"Strategy Returns\",\"Strategy Returns\",\"Strategy Returns\",\"Strategy Returns\",\"Strategy Returns\",\"Strategy Returns\",\"Strategy Returns\",\"Strategy Returns\",\"Strategy Returns\",\"Strategy Returns\",\"Strategy Returns\",\"Strategy Returns\",\"Strategy Returns\",\"Strategy Returns\",\"Strategy Returns\",\"Strategy Returns\",\"Strategy Returns\",\"Strategy Returns\",\"Strategy Returns\",\"Strategy Returns\",\"Strategy Returns\",\"Strategy Returns\",\"Strategy Returns\",\"Strategy Returns\",\"Strategy Returns\",\"Strategy Returns\",\"Strategy Returns\",\"Strategy Returns\",\"Strategy Returns\",\"Strategy Returns\",\"Strategy Returns\",\"Strategy Returns\",\"Strategy Returns\",\"Strategy Returns\",\"Strategy Returns\",\"Strategy Returns\",\"Strategy Returns\",\"Strategy Returns\",\"Strategy Returns\",\"Strategy Returns\",\"Strategy Returns\",\"Strategy Returns\",\"Strategy Returns\",\"Strategy Returns\",\"Strategy Returns\",\"Strategy Returns\",\"Strategy Returns\",\"Strategy Returns\",\"Strategy Returns\",\"Strategy Returns\",\"Strategy Returns\",\"Strategy Returns\",\"Strategy Returns\",\"Strategy Returns\",\"Strategy Returns\",\"Strategy Returns\",\"Strategy Returns\",\"Strategy Returns\",\"Strategy Returns\",\"Strategy Returns\",\"Strategy Returns\",\"Strategy Returns\",\"Strategy Returns\",\"Strategy Returns\",\"Strategy Returns\",\"Strategy Returns\",\"Strategy Returns\",\"Strategy Returns\",\"Strategy Returns\",\"Strategy Returns\",\"Strategy Returns\",\"Strategy Returns\",\"Strategy Returns\",\"Strategy Returns\",\"Strategy Returns\",\"Strategy Returns\",\"Strategy Returns\",\"Strategy Returns\",\"Strategy Returns\",\"Strategy Returns\",\"Strategy Returns\",\"Strategy Returns\",\"Strategy Returns\",\"Strategy Returns\",\"Strategy Returns\",\"Strategy Returns\",\"Strategy Returns\",\"Strategy Returns\",\"Strategy Returns\",\"Strategy Returns\",\"Strategy Returns\",\"Strategy Returns\",\"Strategy Returns\",\"Strategy Returns\",\"Strategy Returns\",\"Strategy Returns\",\"Strategy Returns\",\"Strategy Returns\",\"Strategy Returns\",\"Strategy Returns\",\"Strategy Returns\",\"Strategy Returns\",\"Strategy Returns\",\"Strategy Returns\",\"Strategy Returns\",\"Strategy Returns\",\"Strategy Returns\",\"Strategy Returns\",\"Strategy Returns\",\"Strategy Returns\",\"Strategy Returns\",\"Strategy Returns\",\"Strategy Returns\",\"Strategy Returns\",\"Strategy Returns\",\"Strategy Returns\",\"Strategy Returns\",\"Strategy Returns\",\"Strategy Returns\",\"Strategy Returns\",\"Strategy Returns\",\"Strategy Returns\",\"Strategy Returns\",\"Strategy Returns\",\"Strategy Returns\",\"Strategy Returns\",\"Strategy Returns\",\"Strategy Returns\",\"Strategy Returns\",\"Strategy Returns\",\"Strategy Returns\",\"Strategy Returns\",\"Strategy Returns\",\"Strategy Returns\",\"Strategy Returns\",\"Strategy Returns\",\"Strategy Returns\",\"Strategy Returns\",\"Strategy Returns\",\"Strategy Returns\",\"Strategy Returns\",\"Strategy Returns\",\"Strategy Returns\",\"Strategy Returns\",\"Strategy Returns\",\"Strategy Returns\",\"Strategy Returns\",\"Strategy Returns\",\"Strategy Returns\",\"Strategy Returns\",\"Strategy Returns\",\"Strategy Returns\",\"Strategy Returns\",\"Strategy Returns\",\"Strategy Returns\",\"Strategy Returns\",\"Strategy Returns\",\"Strategy Returns\",\"Strategy Returns\",\"Strategy Returns\",\"Strategy Returns\",\"Strategy Returns\",\"Strategy Returns\",\"Strategy Returns\",\"Strategy Returns\",\"Strategy Returns\",\"Strategy Returns\",\"Strategy Returns\",\"Strategy Returns\",\"Strategy Returns\",\"Strategy Returns\",\"Strategy Returns\",\"Strategy Returns\",\"Strategy Returns\",\"Strategy Returns\",\"Strategy Returns\",\"Strategy Returns\",\"Strategy Returns\",\"Strategy Returns\",\"Strategy Returns\",\"Strategy Returns\",\"Strategy Returns\",\"Strategy Returns\",\"Strategy Returns\",\"Strategy Returns\",\"Strategy Returns\",\"Strategy Returns\",\"Strategy Returns\",\"Strategy Returns\",\"Strategy Returns\",\"Strategy Returns\",\"Strategy Returns\",\"Strategy Returns\",\"Strategy Returns\",\"Strategy Returns\",\"Strategy Returns\",\"Strategy Returns\",\"Strategy Returns\",\"Strategy Returns\",\"Strategy Returns\",\"Strategy Returns\",\"Strategy Returns\",\"Strategy Returns\",\"Strategy Returns\",\"Strategy Returns\",\"Strategy Returns\",\"Strategy Returns\",\"Strategy Returns\",\"Strategy Returns\",\"Strategy Returns\",\"Strategy Returns\",\"Strategy Returns\",\"Strategy Returns\",\"Strategy Returns\",\"Strategy Returns\",\"Strategy Returns\",\"Strategy Returns\",\"Strategy Returns\",\"Strategy Returns\",\"Strategy Returns\",\"Strategy Returns\",\"Strategy Returns\",\"Strategy Returns\",\"Strategy Returns\",\"Strategy Returns\",\"Strategy Returns\",\"Strategy Returns\",\"Strategy Returns\",\"Strategy Returns\",\"Strategy Returns\",\"Strategy Returns\",\"Strategy Returns\",\"Strategy Returns\",\"Strategy Returns\",\"Strategy Returns\",\"Strategy Returns\",\"Strategy Returns\",\"Strategy Returns\",\"Strategy Returns\",\"Strategy Returns\",\"Strategy Returns\",\"Strategy Returns\",\"Strategy Returns\",\"Strategy Returns\",\"Strategy Returns\",\"Strategy Returns\",\"Strategy Returns\",\"Strategy Returns\",\"Strategy Returns\",\"Strategy Returns\",\"Strategy Returns\",\"Strategy Returns\",\"Strategy Returns\",\"Strategy Returns\",\"Strategy Returns\",\"Strategy Returns\",\"Strategy Returns\",\"Strategy Returns\",\"Strategy Returns\",\"Strategy Returns\",\"Strategy Returns\",\"Strategy Returns\",\"Strategy Returns\",\"Strategy Returns\",\"Strategy Returns\",\"Strategy Returns\",\"Strategy Returns\",\"Strategy Returns\",\"Strategy Returns\",\"Strategy Returns\",\"Strategy Returns\",\"Strategy Returns\",\"Strategy Returns\",\"Strategy Returns\",\"Strategy Returns\",\"Strategy Returns\",\"Strategy Returns\",\"Strategy Returns\",\"Strategy Returns\",\"Strategy Returns\",\"Strategy Returns\",\"Strategy Returns\",\"Strategy Returns\",\"Strategy Returns\",\"Strategy Returns\",\"Strategy Returns\",\"Strategy Returns\",\"Strategy Returns\",\"Strategy Returns\",\"Strategy Returns\",\"Strategy Returns\",\"Strategy Returns\",\"Strategy Returns\",\"Strategy Returns\",\"Strategy Returns\",\"Strategy Returns\",\"Strategy Returns\",\"Strategy Returns\",\"Strategy Returns\",\"Strategy Returns\",\"Strategy Returns\",\"Strategy Returns\",\"Strategy Returns\",\"Strategy Returns\",\"Strategy Returns\",\"Strategy Returns\",\"Strategy Returns\",\"Strategy Returns\",\"Strategy Returns\",\"Strategy Returns\",\"Strategy Returns\",\"Strategy Returns\",\"Strategy Returns\",\"Strategy Returns\",\"Strategy Returns\",\"Strategy Returns\",\"Strategy Returns\",\"Strategy Returns\",\"Strategy Returns\",\"Strategy Returns\",\"Strategy Returns\",\"Strategy Returns\",\"Strategy Returns\",\"Strategy Returns\",\"Strategy Returns\",\"Strategy Returns\",\"Strategy Returns\",\"Strategy Returns\",\"Strategy Returns\",\"Strategy Returns\",\"Strategy Returns\",\"Strategy Returns\",\"Strategy Returns\",\"Strategy Returns\",\"Strategy Returns\",\"Strategy Returns\",\"Strategy Returns\",\"Strategy Returns\",\"Strategy Returns\",\"Strategy Returns\",\"Strategy Returns\",\"Strategy Returns\",\"Strategy Returns\",\"Strategy Returns\",\"Strategy Returns\",\"Strategy Returns\",\"Strategy Returns\",\"Strategy Returns\",\"Strategy Returns\",\"Strategy Returns\",\"Strategy Returns\",\"Strategy Returns\",\"Strategy Returns\",\"Strategy Returns\",\"Strategy Returns\",\"Strategy Returns\",\"Strategy Returns\",\"Strategy Returns\",\"Strategy Returns\",\"Strategy Returns\",\"Strategy Returns\",\"Strategy Returns\",\"Strategy Returns\",\"Strategy Returns\",\"Strategy Returns\",\"Strategy Returns\",\"Strategy Returns\",\"Strategy Returns\",\"Strategy Returns\",\"Strategy Returns\",\"Strategy Returns\",\"Strategy Returns\",\"Strategy Returns\",\"Strategy Returns\",\"Strategy Returns\",\"Strategy Returns\",\"Strategy Returns\",\"Strategy Returns\",\"Strategy Returns\",\"Strategy Returns\",\"Strategy Returns\",\"Strategy Returns\",\"Strategy Returns\",\"Strategy Returns\",\"Strategy Returns\",\"Strategy Returns\",\"Strategy Returns\",\"Strategy Returns\",\"Strategy Returns\",\"Strategy Returns\",\"Strategy Returns\",\"Strategy Returns\",\"Strategy Returns\",\"Strategy Returns\",\"Strategy Returns\",\"Strategy Returns\",\"Strategy Returns\",\"Strategy Returns\",\"Strategy Returns\",\"Strategy Returns\",\"Strategy Returns\",\"Strategy Returns\",\"Strategy Returns\",\"Strategy Returns\",\"Strategy Returns\",\"Strategy Returns\",\"Strategy Returns\",\"Strategy Returns\",\"Strategy Returns\",\"Strategy Returns\",\"Strategy Returns\",\"Strategy Returns\",\"Strategy Returns\",\"Strategy Returns\",\"Strategy Returns\",\"Strategy Returns\",\"Strategy Returns\",\"Strategy Returns\",\"Strategy Returns\",\"Strategy Returns\",\"Strategy Returns\",\"Strategy Returns\",\"Strategy Returns\",\"Strategy Returns\",\"Strategy Returns\",\"Strategy Returns\",\"Strategy Returns\",\"Strategy Returns\",\"Strategy Returns\",\"Strategy Returns\",\"Strategy Returns\",\"Strategy Returns\",\"Strategy Returns\",\"Strategy Returns\",\"Strategy Returns\",\"Strategy Returns\",\"Strategy Returns\",\"Strategy Returns\",\"Strategy Returns\",\"Strategy Returns\",\"Strategy Returns\",\"Strategy Returns\",\"Strategy Returns\",\"Strategy Returns\",\"Strategy Returns\",\"Strategy Returns\",\"Strategy Returns\",\"Strategy Returns\",\"Strategy Returns\",\"Strategy Returns\",\"Strategy Returns\",\"Strategy Returns\",\"Strategy Returns\",\"Strategy Returns\",\"Strategy Returns\",\"Strategy Returns\",\"Strategy Returns\",\"Strategy Returns\",\"Strategy Returns\",\"Strategy Returns\",\"Strategy Returns\",\"Strategy Returns\",\"Strategy Returns\",\"Strategy Returns\",\"Strategy Returns\",\"Strategy Returns\",\"Strategy Returns\",\"Strategy Returns\",\"Strategy Returns\",\"Strategy Returns\",\"Strategy Returns\",\"Strategy Returns\",\"Strategy Returns\",\"Strategy Returns\",\"Strategy Returns\",\"Strategy Returns\",\"Strategy Returns\",\"Strategy Returns\",\"Strategy Returns\",\"Strategy Returns\",\"Strategy Returns\",\"Strategy Returns\",\"Strategy Returns\",\"Strategy Returns\",\"Strategy Returns\",\"Strategy Returns\",\"Strategy Returns\",\"Strategy Returns\",\"Strategy Returns\",\"Strategy Returns\",\"Strategy Returns\",\"Strategy Returns\",\"Strategy Returns\",\"Strategy Returns\",\"Strategy Returns\",\"Strategy Returns\",\"Strategy Returns\",\"Strategy Returns\",\"Strategy Returns\",\"Strategy Returns\",\"Strategy Returns\",\"Strategy Returns\",\"Strategy Returns\",\"Strategy Returns\",\"Strategy Returns\",\"Strategy Returns\",\"Strategy Returns\",\"Strategy Returns\",\"Strategy Returns\",\"Strategy Returns\",\"Strategy Returns\",\"Strategy Returns\",\"Strategy Returns\",\"Strategy Returns\",\"Strategy Returns\",\"Strategy Returns\",\"Strategy Returns\",\"Strategy Returns\",\"Strategy Returns\",\"Strategy Returns\",\"Strategy Returns\",\"Strategy Returns\",\"Strategy Returns\",\"Strategy Returns\",\"Strategy Returns\",\"Strategy Returns\",\"Strategy Returns\",\"Strategy Returns\",\"Strategy Returns\",\"Strategy Returns\",\"Strategy Returns\",\"Strategy Returns\",\"Strategy Returns\",\"Strategy Returns\",\"Strategy Returns\",\"Strategy Returns\",\"Strategy Returns\",\"Strategy Returns\",\"Strategy Returns\",\"Strategy Returns\",\"Strategy Returns\",\"Strategy Returns\",\"Strategy Returns\",\"Strategy Returns\",\"Strategy Returns\",\"Strategy Returns\",\"Strategy Returns\",\"Strategy Returns\",\"Strategy Returns\",\"Strategy Returns\",\"Strategy Returns\",\"Strategy Returns\",\"Strategy Returns\",\"Strategy Returns\",\"Strategy Returns\",\"Strategy Returns\",\"Strategy Returns\",\"Strategy Returns\",\"Strategy Returns\",\"Strategy Returns\",\"Strategy Returns\",\"Strategy Returns\",\"Strategy Returns\",\"Strategy Returns\",\"Strategy Returns\",\"Strategy Returns\",\"Strategy Returns\",\"Strategy Returns\",\"Strategy Returns\",\"Strategy Returns\",\"Strategy Returns\",\"Strategy Returns\",\"Strategy Returns\",\"Strategy Returns\",\"Strategy Returns\",\"Strategy Returns\",\"Strategy Returns\",\"Strategy Returns\",\"Strategy Returns\",\"Strategy Returns\",\"Strategy Returns\",\"Strategy Returns\",\"Strategy Returns\",\"Strategy Returns\",\"Strategy Returns\",\"Strategy Returns\",\"Strategy Returns\",\"Strategy Returns\",\"Strategy Returns\",\"Strategy Returns\",\"Strategy Returns\",\"Strategy Returns\",\"Strategy Returns\",\"Strategy Returns\",\"Strategy Returns\",\"Strategy Returns\",\"Strategy Returns\",\"Strategy Returns\",\"Strategy Returns\",\"Strategy Returns\",\"Strategy Returns\",\"Strategy Returns\",\"Strategy Returns\",\"Strategy Returns\",\"Strategy Returns\",\"Strategy Returns\",\"Strategy Returns\",\"Strategy Returns\",\"Strategy Returns\",\"Strategy Returns\",\"Strategy Returns\",\"Strategy Returns\",\"Strategy Returns\",\"Strategy Returns\",\"Strategy Returns\",\"Strategy Returns\",\"Strategy Returns\",\"Strategy Returns\",\"Strategy Returns\",\"Strategy Returns\",\"Strategy Returns\",\"Strategy Returns\",\"Strategy Returns\",\"Strategy Returns\",\"Strategy Returns\",\"Strategy Returns\",\"Strategy Returns\",\"Strategy Returns\",\"Strategy Returns\",\"Strategy Returns\",\"Strategy Returns\",\"Strategy Returns\",\"Strategy Returns\",\"Strategy Returns\",\"Strategy Returns\",\"Strategy Returns\",\"Strategy Returns\",\"Strategy Returns\",\"Strategy Returns\",\"Strategy Returns\",\"Strategy Returns\",\"Strategy Returns\",\"Strategy Returns\",\"Strategy Returns\",\"Strategy Returns\",\"Strategy Returns\",\"Strategy Returns\",\"Strategy Returns\",\"Strategy Returns\",\"Strategy Returns\",\"Strategy Returns\",\"Strategy Returns\",\"Strategy Returns\",\"Strategy Returns\",\"Strategy Returns\",\"Strategy Returns\",\"Strategy Returns\",\"Strategy Returns\",\"Strategy Returns\",\"Strategy Returns\",\"Strategy Returns\",\"Strategy Returns\",\"Strategy Returns\",\"Strategy Returns\",\"Strategy Returns\",\"Strategy Returns\",\"Strategy Returns\",\"Strategy Returns\",\"Strategy Returns\",\"Strategy Returns\",\"Strategy Returns\",\"Strategy Returns\",\"Strategy Returns\",\"Strategy Returns\",\"Strategy Returns\",\"Strategy Returns\",\"Strategy Returns\",\"Strategy Returns\",\"Strategy Returns\",\"Strategy Returns\",\"Strategy Returns\",\"Strategy Returns\",\"Strategy Returns\",\"Strategy Returns\",\"Strategy Returns\",\"Strategy Returns\",\"Strategy Returns\",\"Strategy Returns\",\"Strategy Returns\",\"Strategy Returns\",\"Strategy Returns\",\"Strategy Returns\",\"Strategy Returns\",\"Strategy Returns\",\"Strategy Returns\",\"Strategy Returns\",\"Strategy Returns\",\"Strategy Returns\",\"Strategy Returns\",\"Strategy Returns\",\"Strategy Returns\",\"Strategy Returns\",\"Strategy Returns\",\"Strategy Returns\",\"Strategy Returns\",\"Strategy Returns\",\"Strategy Returns\",\"Strategy Returns\",\"Strategy Returns\",\"Strategy Returns\",\"Strategy Returns\",\"Strategy Returns\",\"Strategy Returns\",\"Strategy Returns\",\"Strategy Returns\",\"Strategy Returns\",\"Strategy Returns\",\"Strategy Returns\",\"Strategy Returns\",\"Strategy Returns\",\"Strategy Returns\",\"Strategy Returns\",\"Strategy Returns\",\"Strategy Returns\",\"Strategy Returns\",\"Strategy Returns\",\"Strategy Returns\",\"Strategy Returns\",\"Strategy Returns\",\"Strategy Returns\",\"Strategy Returns\",\"Strategy Returns\",\"Strategy Returns\",\"Strategy Returns\",\"Strategy Returns\",\"Strategy Returns\",\"Strategy Returns\",\"Strategy Returns\",\"Strategy Returns\",\"Strategy Returns\",\"Strategy Returns\",\"Strategy Returns\",\"Strategy Returns\",\"Strategy Returns\",\"Strategy Returns\",\"Strategy Returns\",\"Strategy Returns\",\"Strategy Returns\",\"Strategy Returns\",\"Strategy Returns\",\"Strategy Returns\",\"Strategy Returns\",\"Strategy Returns\",\"Strategy Returns\",\"Strategy Returns\",\"Strategy Returns\",\"Strategy Returns\",\"Strategy Returns\",\"Strategy Returns\",\"Strategy Returns\",\"Strategy Returns\",\"Strategy Returns\",\"Strategy Returns\",\"Strategy Returns\",\"Strategy Returns\",\"Strategy Returns\",\"Strategy Returns\",\"Strategy Returns\",\"Strategy Returns\",\"Strategy Returns\",\"Strategy Returns\",\"Strategy Returns\",\"Strategy Returns\",\"Strategy Returns\",\"Strategy Returns\",\"Strategy Returns\",\"Strategy Returns\",\"Strategy Returns\",\"Strategy Returns\",\"Strategy Returns\",\"Strategy Returns\",\"Strategy Returns\",\"Strategy Returns\",\"Strategy Returns\",\"Strategy Returns\",\"Strategy Returns\",\"Strategy Returns\",\"Strategy Returns\",\"Strategy Returns\",\"Strategy Returns\",\"Strategy Returns\",\"Strategy Returns\",\"Strategy Returns\",\"Strategy Returns\",\"Strategy Returns\",\"Strategy Returns\",\"Strategy Returns\",\"Strategy Returns\",\"Strategy Returns\",\"Strategy Returns\",\"Strategy Returns\",\"Strategy Returns\",\"Strategy Returns\",\"Strategy Returns\",\"Strategy Returns\",\"Strategy Returns\",\"Strategy Returns\",\"Strategy Returns\",\"Strategy Returns\",\"Strategy Returns\",\"Strategy Returns\",\"Strategy Returns\",\"Strategy Returns\",\"Strategy Returns\",\"Strategy Returns\",\"Strategy Returns\",\"Strategy Returns\",\"Strategy Returns\",\"Strategy Returns\",\"Strategy Returns\",\"Strategy Returns\",\"Strategy Returns\",\"Strategy Returns\",\"Strategy Returns\",\"Strategy Returns\",\"Strategy Returns\",\"Strategy Returns\",\"Strategy Returns\",\"Strategy Returns\",\"Strategy Returns\",\"Strategy Returns\",\"Strategy Returns\",\"Strategy Returns\",\"Strategy Returns\",\"Strategy Returns\",\"Strategy Returns\",\"Strategy Returns\",\"Strategy Returns\",\"Strategy Returns\",\"Strategy Returns\",\"Strategy Returns\",\"Strategy Returns\",\"Strategy Returns\",\"Strategy Returns\",\"Strategy Returns\",\"Strategy Returns\",\"Strategy Returns\",\"Strategy Returns\",\"Strategy Returns\",\"Strategy Returns\",\"Strategy Returns\",\"Strategy Returns\",\"Strategy Returns\",\"Strategy Returns\",\"Strategy Returns\",\"Strategy Returns\",\"Strategy Returns\",\"Strategy Returns\",\"Strategy Returns\",\"Strategy Returns\",\"Strategy Returns\",\"Strategy Returns\",\"Strategy Returns\",\"Strategy Returns\",\"Strategy Returns\",\"Strategy Returns\",\"Strategy Returns\",\"Strategy Returns\",\"Strategy Returns\",\"Strategy Returns\",\"Strategy Returns\",\"Strategy Returns\",\"Strategy Returns\",\"Strategy Returns\",\"Strategy Returns\",\"Strategy Returns\",\"Strategy Returns\",\"Strategy Returns\",\"Strategy Returns\",\"Strategy Returns\",\"Strategy Returns\",\"Strategy Returns\",\"Strategy Returns\",\"Strategy Returns\",\"Strategy Returns\",\"Strategy Returns\",\"Strategy Returns\",\"Strategy Returns\",\"Strategy Returns\",\"Strategy Returns\",\"Strategy Returns\",\"Strategy Returns\",\"Strategy Returns\",\"Strategy Returns\",\"Strategy Returns\",\"Strategy Returns\",\"Strategy Returns\",\"Strategy Returns\",\"Strategy Returns\",\"Strategy Returns\",\"Strategy Returns\",\"Strategy Returns\",\"Strategy Returns\",\"Strategy Returns\",\"Strategy Returns\",\"Strategy Returns\",\"Strategy Returns\",\"Strategy Returns\",\"Strategy Returns\",\"Strategy Returns\",\"Strategy Returns\",\"Strategy Returns\",\"Strategy Returns\",\"Strategy Returns\",\"Strategy Returns\",\"Strategy Returns\",\"Strategy Returns\",\"Strategy Returns\",\"Strategy Returns\",\"Strategy Returns\",\"Strategy Returns\",\"Strategy Returns\",\"Strategy Returns\",\"Strategy Returns\",\"Strategy Returns\",\"Strategy Returns\",\"Strategy Returns\",\"Strategy Returns\",\"Strategy Returns\",\"Strategy Returns\",\"Strategy Returns\",\"Strategy Returns\",\"Strategy Returns\",\"Strategy Returns\",\"Strategy Returns\",\"Strategy Returns\",\"Strategy Returns\",\"Strategy Returns\",\"Strategy Returns\",\"Strategy Returns\",\"Strategy Returns\",\"Strategy Returns\",\"Strategy Returns\",\"Strategy Returns\",\"Strategy Returns\",\"Strategy Returns\",\"Strategy Returns\",\"Strategy Returns\",\"Strategy Returns\",\"Strategy Returns\",\"Strategy Returns\",\"Strategy Returns\",\"Strategy Returns\",\"Strategy Returns\",\"Strategy Returns\",\"Strategy Returns\",\"Strategy Returns\",\"Strategy Returns\",\"Strategy Returns\",\"Strategy Returns\",\"Strategy Returns\",\"Strategy Returns\",\"Strategy Returns\",\"Strategy Returns\",\"Strategy Returns\",\"Strategy Returns\",\"Strategy Returns\",\"Strategy Returns\",\"Strategy Returns\",\"Strategy Returns\",\"Strategy Returns\",\"Strategy Returns\",\"Strategy Returns\",\"Strategy Returns\",\"Strategy Returns\",\"Strategy Returns\",\"Strategy Returns\",\"Strategy Returns\",\"Strategy Returns\",\"Strategy Returns\",\"Strategy Returns\",\"Strategy Returns\",\"Strategy Returns\",\"Strategy Returns\",\"Strategy Returns\",\"Strategy Returns\",\"Strategy Returns\",\"Strategy Returns\",\"Strategy Returns\",\"Strategy Returns\",\"Strategy Returns\",\"Strategy Returns\",\"Strategy Returns\",\"Strategy Returns\",\"Strategy Returns\",\"Strategy Returns\",\"Strategy Returns\",\"Strategy Returns\",\"Strategy Returns\",\"Strategy Returns\",\"Strategy Returns\",\"Strategy Returns\",\"Strategy Returns\",\"Strategy Returns\",\"Strategy Returns\",\"Strategy Returns\",\"Strategy Returns\",\"Strategy Returns\",\"Strategy Returns\",\"Strategy Returns\",\"Strategy Returns\",\"Strategy Returns\",\"Strategy Returns\",\"Strategy Returns\",\"Strategy Returns\",\"Strategy Returns\",\"Strategy Returns\",\"Strategy Returns\",\"Strategy Returns\",\"Strategy Returns\",\"Strategy Returns\",\"Strategy Returns\",\"Strategy Returns\",\"Strategy Returns\",\"Strategy Returns\",\"Strategy Returns\",\"Strategy Returns\",\"Strategy Returns\",\"Strategy Returns\",\"Strategy Returns\",\"Strategy Returns\",\"Strategy Returns\",\"Strategy Returns\",\"Strategy Returns\",\"Strategy Returns\",\"Strategy Returns\",\"Strategy Returns\",\"Strategy Returns\",\"Strategy Returns\",\"Strategy Returns\",\"Strategy Returns\",\"Strategy Returns\",\"Strategy Returns\",\"Strategy Returns\",\"Strategy Returns\",\"Strategy Returns\",\"Strategy Returns\",\"Strategy Returns\",\"Strategy Returns\",\"Strategy Returns\",\"Strategy Returns\",\"Strategy Returns\",\"Strategy Returns\",\"Strategy Returns\",\"Strategy Returns\",\"Strategy Returns\",\"Strategy Returns\",\"Strategy Returns\",\"Strategy Returns\",\"Strategy Returns\",\"Strategy Returns\",\"Strategy Returns\",\"Strategy Returns\",\"Strategy Returns\",\"Strategy Returns\",\"Strategy Returns\",\"Strategy Returns\",\"Strategy Returns\",\"Strategy Returns\",\"Strategy Returns\",\"Strategy Returns\",\"Strategy Returns\",\"Strategy Returns\",\"Strategy Returns\",\"Strategy Returns\",\"Strategy Returns\",\"Strategy Returns\",\"Strategy Returns\",\"Strategy Returns\",\"Strategy Returns\",\"Strategy Returns\",\"Strategy Returns\",\"Strategy Returns\",\"Strategy Returns\",\"Strategy Returns\",\"Strategy Returns\",\"Strategy Returns\",\"Strategy Returns\",\"Strategy Returns\",\"Strategy Returns\",\"Strategy Returns\",\"Strategy Returns\",\"Strategy Returns\",\"Strategy Returns\",\"Strategy Returns\",\"Strategy Returns\",\"Strategy Returns\",\"Strategy Returns\",\"Strategy Returns\",\"Strategy Returns\",\"Strategy Returns\",\"Strategy Returns\",\"Strategy Returns\",\"Strategy Returns\",\"Strategy Returns\",\"Strategy Returns\",\"Strategy Returns\",\"Strategy Returns\",\"Strategy Returns\",\"Strategy Returns\",\"Strategy Returns\",\"Strategy Returns\",\"Strategy Returns\",\"Strategy Returns\",\"Strategy Returns\",\"Strategy Returns\",\"Strategy Returns\",\"Strategy Returns\",\"Strategy Returns\",\"Strategy Returns\",\"Strategy Returns\",\"Strategy Returns\",\"Strategy Returns\",\"Strategy Returns\",\"Strategy Returns\",\"Strategy Returns\",\"Strategy Returns\",\"Strategy Returns\",\"Strategy Returns\",\"Strategy Returns\",\"Strategy Returns\",\"Strategy Returns\",\"Strategy Returns\",\"Strategy Returns\",\"Strategy Returns\",\"Strategy Returns\",\"Strategy Returns\",\"Strategy Returns\",\"Strategy Returns\",\"Strategy Returns\",\"Strategy Returns\",\"Strategy Returns\",\"Strategy Returns\",\"Strategy Returns\",\"Strategy Returns\",\"Strategy Returns\",\"Strategy Returns\",\"Strategy Returns\",\"Strategy Returns\",\"Strategy Returns\",\"Strategy Returns\",\"Strategy Returns\",\"Strategy Returns\",\"Strategy Returns\",\"Strategy Returns\",\"Strategy Returns\",\"Strategy Returns\",\"Strategy Returns\",\"Strategy Returns\",\"Strategy Returns\",\"Strategy Returns\",\"Strategy Returns\",\"Strategy Returns\",\"Strategy Returns\",\"Strategy Returns\",\"Strategy Returns\",\"Strategy Returns\",\"Strategy Returns\",\"Strategy Returns\",\"Strategy Returns\",\"Strategy Returns\",\"Strategy Returns\",\"Strategy Returns\",\"Strategy Returns\",\"Strategy Returns\",\"Strategy Returns\",\"Strategy Returns\",\"Strategy Returns\",\"Strategy Returns\",\"Strategy Returns\",\"Strategy Returns\",\"Strategy Returns\",\"Strategy Returns\",\"Strategy Returns\",\"Strategy Returns\",\"Strategy Returns\",\"Strategy Returns\",\"Strategy Returns\",\"Strategy Returns\",\"Strategy Returns\",\"Strategy Returns\",\"Strategy Returns\",\"Strategy Returns\",\"Strategy Returns\",\"Strategy Returns\",\"Strategy Returns\",\"Strategy Returns\",\"Strategy Returns\",\"Strategy Returns\",\"Strategy Returns\",\"Strategy Returns\",\"Strategy Returns\",\"Strategy Returns\",\"Strategy Returns\",\"Strategy Returns\",\"Strategy Returns\",\"Strategy Returns\",\"Strategy Returns\",\"Strategy Returns\",\"Strategy Returns\",\"Strategy Returns\",\"Strategy Returns\",\"Strategy Returns\",\"Strategy Returns\",\"Strategy Returns\",\"Strategy Returns\",\"Strategy Returns\",\"Strategy Returns\",\"Strategy Returns\",\"Strategy Returns\",\"Strategy Returns\",\"Strategy Returns\",\"Strategy Returns\",\"Strategy Returns\",\"Strategy Returns\",\"Strategy Returns\",\"Strategy Returns\",\"Strategy Returns\",\"Strategy Returns\",\"Strategy Returns\",\"Strategy Returns\",\"Strategy Returns\",\"Strategy Returns\",\"Strategy Returns\",\"Strategy Returns\",\"Strategy Returns\",\"Strategy Returns\",\"Strategy Returns\",\"Strategy Returns\",\"Strategy Returns\",\"Strategy Returns\",\"Strategy Returns\",\"Strategy Returns\",\"Strategy Returns\",\"Strategy Returns\",\"Strategy Returns\",\"Strategy Returns\",\"Strategy Returns\",\"Strategy Returns\",\"Strategy Returns\",\"Strategy Returns\",\"Strategy Returns\",\"Strategy Returns\",\"Strategy Returns\",\"Strategy Returns\",\"Strategy Returns\",\"Strategy Returns\",\"Strategy Returns\",\"Strategy Returns\",\"Strategy Returns\",\"Strategy Returns\",\"Strategy Returns\",\"Strategy Returns\",\"Strategy Returns\",\"Strategy Returns\",\"Strategy Returns\",\"Strategy Returns\",\"Strategy Returns\",\"Strategy Returns\",\"Strategy Returns\",\"Strategy Returns\",\"Strategy Returns\",\"Strategy Returns\",\"Strategy Returns\",\"Strategy Returns\",\"Strategy Returns\",\"Strategy Returns\",\"Strategy Returns\",\"Strategy Returns\",\"Strategy Returns\",\"Strategy Returns\",\"Strategy Returns\",\"Strategy Returns\",\"Strategy Returns\",\"Strategy Returns\",\"Strategy Returns\",\"Strategy Returns\",\"Strategy Returns\",\"Strategy Returns\",\"Strategy Returns\",\"Strategy Returns\",\"Strategy Returns\",\"Strategy Returns\",\"Strategy Returns\",\"Strategy Returns\",\"Strategy Returns\",\"Strategy Returns\",\"Strategy Returns\",\"Strategy Returns\",\"Strategy Returns\",\"Strategy Returns\",\"Strategy Returns\",\"Strategy Returns\",\"Strategy Returns\",\"Strategy Returns\",\"Strategy Returns\",\"Strategy Returns\",\"Strategy Returns\",\"Strategy Returns\",\"Strategy Returns\",\"Strategy Returns\",\"Strategy Returns\",\"Strategy Returns\",\"Strategy Returns\",\"Strategy Returns\",\"Strategy Returns\",\"Strategy Returns\",\"Strategy Returns\",\"Strategy Returns\",\"Strategy Returns\",\"Strategy Returns\",\"Strategy Returns\",\"Strategy Returns\",\"Strategy Returns\",\"Strategy Returns\",\"Strategy Returns\",\"Strategy Returns\",\"Strategy Returns\",\"Strategy Returns\",\"Strategy Returns\",\"Strategy Returns\",\"Strategy Returns\",\"Strategy Returns\",\"Strategy Returns\",\"Strategy Returns\",\"Strategy Returns\",\"Strategy Returns\",\"Strategy Returns\",\"Strategy Returns\",\"Strategy Returns\",\"Strategy Returns\",\"Strategy Returns\",\"Strategy Returns\",\"Strategy Returns\",\"Strategy Returns\",\"Strategy Returns\",\"Strategy Returns\",\"Strategy Returns\",\"Strategy Returns\",\"Strategy Returns\",\"Strategy Returns\",\"Strategy Returns\",\"Strategy Returns\",\"Strategy Returns\",\"Strategy Returns\",\"Strategy Returns\",\"Strategy Returns\",\"Strategy Returns\",\"Strategy Returns\",\"Strategy Returns\",\"Strategy Returns\",\"Strategy Returns\",\"Strategy Returns\",\"Strategy Returns\",\"Strategy Returns\",\"Strategy Returns\",\"Strategy Returns\",\"Strategy Returns\",\"Strategy Returns\",\"Strategy Returns\",\"Strategy Returns\",\"Strategy Returns\",\"Strategy Returns\",\"Strategy Returns\",\"Strategy Returns\",\"Strategy Returns\",\"Strategy Returns\",\"Strategy Returns\",\"Strategy Returns\",\"Strategy Returns\",\"Strategy Returns\",\"Strategy Returns\",\"Strategy Returns\",\"Strategy Returns\",\"Strategy Returns\",\"Strategy Returns\",\"Strategy Returns\",\"Strategy Returns\",\"Strategy Returns\",\"Strategy Returns\",\"Strategy Returns\",\"Strategy Returns\",\"Strategy Returns\",\"Strategy Returns\",\"Strategy Returns\",\"Strategy Returns\",\"Strategy Returns\",\"Strategy Returns\",\"Strategy Returns\",\"Strategy Returns\",\"Strategy Returns\",\"Strategy Returns\",\"Strategy Returns\",\"Strategy Returns\",\"Strategy Returns\",\"Strategy Returns\",\"Strategy Returns\",\"Strategy Returns\",\"Strategy Returns\",\"Strategy Returns\",\"Strategy Returns\",\"Strategy Returns\",\"Strategy Returns\",\"Strategy Returns\",\"Strategy Returns\",\"Strategy Returns\",\"Strategy Returns\",\"Strategy Returns\",\"Strategy Returns\",\"Strategy Returns\",\"Strategy Returns\",\"Strategy Returns\",\"Strategy Returns\",\"Strategy Returns\",\"Strategy Returns\",\"Strategy Returns\",\"Strategy Returns\",\"Strategy Returns\",\"Strategy Returns\",\"Strategy Returns\",\"Strategy Returns\",\"Strategy Returns\",\"Strategy Returns\",\"Strategy Returns\",\"Strategy Returns\",\"Strategy Returns\",\"Strategy Returns\",\"Strategy Returns\",\"Strategy Returns\",\"Strategy Returns\",\"Strategy Returns\",\"Strategy Returns\",\"Strategy Returns\",\"Strategy Returns\",\"Strategy Returns\",\"Strategy Returns\",\"Strategy Returns\",\"Strategy Returns\",\"Strategy Returns\",\"Strategy Returns\",\"Strategy Returns\",\"Strategy Returns\",\"Strategy Returns\",\"Strategy Returns\",\"Strategy Returns\",\"Strategy Returns\",\"Strategy Returns\",\"Strategy Returns\",\"Strategy Returns\",\"Strategy Returns\",\"Strategy Returns\",\"Strategy Returns\",\"Strategy Returns\",\"Strategy Returns\",\"Strategy Returns\",\"Strategy Returns\",\"Strategy Returns\",\"Strategy Returns\",\"Strategy Returns\",\"Strategy Returns\",\"Strategy Returns\",\"Strategy Returns\",\"Strategy Returns\",\"Strategy Returns\",\"Strategy Returns\",\"Strategy Returns\",\"Strategy Returns\",\"Strategy Returns\",\"Strategy Returns\",\"Strategy Returns\",\"Strategy Returns\",\"Strategy Returns\",\"Strategy Returns\",\"Strategy Returns\",\"Strategy Returns\",\"Strategy Returns\",\"Strategy Returns\",\"Strategy Returns\",\"Strategy Returns\",\"Strategy Returns\",\"Strategy Returns\",\"Strategy Returns\",\"Strategy Returns\",\"Strategy Returns\",\"Strategy Returns\",\"Strategy Returns\",\"Strategy Returns\",\"Strategy Returns\",\"Strategy Returns\",\"Strategy Returns\",\"Strategy Returns\",\"Strategy Returns\",\"Strategy Returns\",\"Strategy Returns\",\"Strategy Returns\",\"Strategy Returns\",\"Strategy Returns\",\"Strategy Returns\",\"Strategy Returns\",\"Strategy Returns\",\"Strategy Returns\",\"Strategy Returns\",\"Strategy Returns\",\"Strategy Returns\",\"Strategy Returns\",\"Strategy Returns\",\"Strategy Returns\",\"Strategy Returns\",\"Strategy Returns\",\"Strategy Returns\",\"Strategy Returns\",\"Strategy Returns\",\"Strategy Returns\",\"Strategy Returns\",\"Strategy Returns\",\"Strategy Returns\",\"Strategy Returns\",\"Strategy Returns\",\"Strategy Returns\",\"Strategy Returns\",\"Strategy Returns\",\"Strategy Returns\",\"Strategy Returns\",\"Strategy Returns\",\"Strategy Returns\",\"Strategy Returns\",\"Strategy Returns\",\"Strategy Returns\",\"Strategy Returns\",\"Strategy Returns\",\"Strategy Returns\",\"Strategy Returns\",\"Strategy Returns\",\"Strategy Returns\",\"Strategy Returns\",\"Strategy Returns\",\"Strategy Returns\",\"Strategy Returns\",\"Strategy Returns\",\"Strategy Returns\",\"Strategy Returns\",\"Strategy Returns\",\"Strategy Returns\",\"Strategy Returns\",\"Strategy Returns\",\"Strategy Returns\",\"Strategy Returns\",\"Strategy Returns\",\"Strategy Returns\",\"Strategy Returns\",\"Strategy Returns\",\"Strategy Returns\",\"Strategy Returns\",\"Strategy Returns\",\"Strategy Returns\",\"Strategy Returns\",\"Strategy Returns\",\"Strategy Returns\",\"Strategy Returns\",\"Strategy Returns\",\"Strategy Returns\",\"Strategy Returns\",\"Strategy Returns\",\"Strategy Returns\",\"Strategy Returns\",\"Strategy Returns\",\"Strategy Returns\",\"Strategy Returns\",\"Strategy Returns\",\"Strategy Returns\",\"Strategy Returns\",\"Strategy Returns\",\"Strategy Returns\",\"Strategy Returns\",\"Strategy Returns\",\"Strategy Returns\",\"Strategy Returns\",\"Strategy Returns\",\"Strategy Returns\",\"Strategy Returns\",\"Strategy Returns\",\"Strategy Returns\",\"Strategy Returns\",\"Strategy Returns\",\"Strategy Returns\",\"Strategy Returns\",\"Strategy Returns\",\"Strategy Returns\",\"Strategy Returns\",\"Strategy Returns\",\"Strategy Returns\",\"Strategy Returns\",\"Strategy Returns\",\"Strategy Returns\",\"Strategy Returns\",\"Strategy Returns\",\"Strategy Returns\",\"Strategy Returns\",\"Strategy Returns\",\"Strategy Returns\",\"Strategy Returns\",\"Strategy Returns\",\"Strategy Returns\",\"Strategy Returns\",\"Strategy Returns\",\"Strategy Returns\",\"Strategy Returns\",\"Strategy Returns\",\"Strategy Returns\",\"Strategy Returns\",\"Strategy Returns\",\"Strategy Returns\",\"Strategy Returns\",\"Strategy Returns\",\"Strategy Returns\",\"Strategy Returns\",\"Strategy Returns\",\"Strategy Returns\",\"Strategy Returns\",\"Strategy Returns\",\"Strategy Returns\",\"Strategy Returns\",\"Strategy Returns\",\"Strategy Returns\",\"Strategy Returns\",\"Strategy Returns\",\"Strategy Returns\",\"Strategy Returns\",\"Strategy Returns\",\"Strategy Returns\",\"Strategy Returns\",\"Strategy Returns\",\"Strategy Returns\",\"Strategy Returns\",\"Strategy Returns\",\"Strategy Returns\",\"Strategy Returns\",\"Strategy Returns\",\"Strategy Returns\",\"Strategy Returns\",\"Strategy Returns\",\"Strategy Returns\",\"Strategy Returns\",\"Strategy Returns\",\"Strategy Returns\",\"Strategy Returns\",\"Strategy Returns\",\"Strategy Returns\",\"Strategy Returns\",\"Strategy Returns\",\"Strategy Returns\",\"Strategy Returns\",\"Strategy Returns\",\"Strategy Returns\",\"Strategy Returns\",\"Strategy Returns\",\"Strategy Returns\",\"Strategy Returns\",\"Strategy Returns\",\"Strategy Returns\",\"Strategy Returns\",\"Strategy Returns\",\"Strategy Returns\",\"Strategy Returns\",\"Strategy Returns\",\"Strategy Returns\",\"Strategy Returns\",\"Strategy Returns\",\"Strategy Returns\",\"Strategy Returns\",\"Strategy Returns\",\"Strategy Returns\",\"Strategy Returns\",\"Strategy Returns\",\"Strategy Returns\",\"Strategy Returns\",\"Strategy Returns\",\"Strategy Returns\",\"Strategy Returns\",\"Strategy Returns\",\"Strategy Returns\",\"Strategy Returns\",\"Strategy Returns\",\"Strategy Returns\",\"Strategy Returns\",\"Strategy Returns\",\"Strategy Returns\",\"Strategy Returns\",\"Strategy Returns\",\"Strategy Returns\",\"Strategy Returns\",\"Strategy Returns\",\"Strategy Returns\",\"Strategy Returns\",\"Strategy Returns\",\"Strategy Returns\",\"Strategy Returns\",\"Strategy Returns\",\"Strategy Returns\",\"Strategy Returns\",\"Strategy Returns\",\"Strategy Returns\",\"Strategy Returns\",\"Strategy Returns\",\"Strategy Returns\",\"Strategy Returns\",\"Strategy Returns\",\"Strategy Returns\",\"Strategy Returns\",\"Strategy Returns\",\"Strategy Returns\",\"Strategy Returns\",\"Strategy Returns\",\"Strategy Returns\",\"Strategy Returns\",\"Strategy Returns\",\"Strategy Returns\",\"Strategy Returns\",\"Strategy Returns\",\"Strategy Returns\",\"Strategy Returns\",\"Strategy Returns\",\"Strategy Returns\",\"Strategy Returns\",\"Strategy Returns\",\"Strategy Returns\",\"Strategy Returns\",\"Strategy Returns\",\"Strategy Returns\",\"Strategy Returns\",\"Strategy Returns\",\"Strategy Returns\",\"Strategy Returns\",\"Strategy Returns\",\"Strategy Returns\",\"Strategy Returns\",\"Strategy Returns\",\"Strategy Returns\",\"Strategy Returns\",\"Strategy Returns\",\"Strategy Returns\",\"Strategy Returns\",\"Strategy Returns\",\"Strategy Returns\",\"Strategy Returns\",\"Strategy Returns\",\"Strategy Returns\",\"Strategy Returns\",\"Strategy Returns\",\"Strategy Returns\",\"Strategy Returns\",\"Strategy Returns\",\"Strategy Returns\",\"Strategy Returns\",\"Strategy Returns\",\"Strategy Returns\",\"Strategy Returns\",\"Strategy Returns\",\"Strategy Returns\",\"Strategy Returns\",\"Strategy Returns\",\"Strategy Returns\",\"Strategy Returns\",\"Strategy Returns\",\"Strategy Returns\",\"Strategy Returns\",\"Strategy Returns\",\"Strategy Returns\",\"Strategy Returns\",\"Strategy Returns\",\"Strategy Returns\",\"Strategy Returns\",\"Strategy Returns\",\"Strategy Returns\",\"Strategy Returns\",\"Strategy Returns\",\"Strategy Returns\",\"Strategy Returns\",\"Strategy Returns\",\"Strategy Returns\",\"Strategy Returns\",\"Strategy Returns\",\"Strategy Returns\",\"Strategy Returns\",\"Strategy Returns\",\"Strategy Returns\",\"Strategy Returns\",\"Strategy Returns\",\"Strategy Returns\",\"Strategy Returns\",\"Strategy Returns\",\"Strategy Returns\",\"Strategy Returns\",\"Strategy Returns\",\"Strategy Returns\",\"Strategy Returns\",\"Strategy Returns\",\"Strategy Returns\",\"Strategy Returns\",\"Strategy Returns\",\"Strategy Returns\",\"Strategy Returns\",\"Strategy Returns\",\"Strategy Returns\",\"Strategy Returns\",\"Strategy Returns\",\"Strategy Returns\",\"Strategy Returns\",\"Strategy Returns\",\"Strategy Returns\",\"Strategy Returns\",\"Strategy Returns\",\"Strategy Returns\",\"Strategy Returns\",\"Strategy Returns\",\"Strategy Returns\",\"Strategy Returns\",\"Strategy Returns\",\"Strategy Returns\",\"Strategy Returns\",\"Strategy Returns\",\"Strategy Returns\",\"Strategy Returns\",\"Strategy Returns\",\"Strategy Returns\",\"Strategy Returns\",\"Strategy Returns\",\"Strategy Returns\",\"Strategy Returns\",\"Strategy Returns\",\"Strategy Returns\",\"Strategy Returns\",\"Strategy Returns\",\"Strategy Returns\",\"Strategy Returns\",\"Strategy Returns\",\"Strategy Returns\",\"Strategy Returns\",\"Strategy Returns\",\"Strategy Returns\",\"Strategy Returns\",\"Strategy Returns\",\"Strategy Returns\",\"Strategy Returns\",\"Strategy Returns\",\"Strategy Returns\",\"Strategy Returns\",\"Strategy Returns\",\"Strategy Returns\",\"Strategy Returns\",\"Strategy Returns\",\"Strategy Returns\",\"Strategy Returns\",\"Strategy Returns\",\"Strategy Returns\",\"Strategy Returns\",\"Strategy Returns\",\"Strategy Returns\",\"Strategy Returns\",\"Strategy Returns\",\"Strategy Returns\",\"Strategy Returns\",\"Strategy Returns\",\"Strategy Returns\",\"Strategy Returns\",\"Strategy Returns\",\"Strategy Returns\",\"Strategy Returns\",\"Strategy Returns\",\"Strategy Returns\",\"Strategy Returns\",\"Strategy Returns\",\"Strategy Returns\",\"Strategy Returns\",\"Strategy Returns\",\"Strategy Returns\",\"Strategy Returns\",\"Strategy Returns\",\"Strategy Returns\",\"Strategy Returns\",\"Strategy Returns\",\"Strategy Returns\",\"Strategy Returns\",\"Strategy Returns\",\"Strategy Returns\",\"Strategy Returns\",\"Strategy Returns\",\"Strategy Returns\",\"Strategy Returns\",\"Strategy Returns\",\"Strategy Returns\",\"Strategy Returns\",\"Strategy Returns\",\"Strategy Returns\",\"Strategy Returns\",\"Strategy Returns\",\"Strategy Returns\",\"Strategy Returns\",\"Strategy Returns\",\"Strategy Returns\",\"Strategy Returns\",\"Strategy Returns\",\"Strategy Returns\",\"Strategy Returns\",\"Strategy Returns\",\"Strategy Returns\",\"Strategy Returns\",\"Strategy Returns\",\"Strategy Returns\",\"Strategy Returns\",\"Strategy Returns\",\"Strategy Returns\",\"Strategy Returns\",\"Strategy Returns\",\"Strategy Returns\",\"Strategy Returns\",\"Strategy Returns\",\"Strategy Returns\",\"Strategy Returns\",\"Strategy Returns\",\"Strategy Returns\",\"Strategy Returns\",\"Strategy Returns\",\"Strategy Returns\",\"Strategy Returns\",\"Strategy Returns\",\"Strategy Returns\",\"Strategy Returns\",\"Strategy Returns\",\"Strategy Returns\",\"Strategy Returns\",\"Strategy Returns\",\"Strategy Returns\",\"Strategy Returns\",\"Strategy Returns\",\"Strategy Returns\",\"Strategy Returns\",\"Strategy Returns\",\"Strategy Returns\",\"Strategy Returns\",\"Strategy Returns\",\"Strategy Returns\",\"Strategy Returns\",\"Strategy Returns\",\"Strategy Returns\",\"Strategy Returns\",\"Strategy Returns\",\"Strategy Returns\",\"Strategy Returns\",\"Strategy Returns\",\"Strategy Returns\",\"Strategy Returns\",\"Strategy Returns\",\"Strategy Returns\",\"Strategy Returns\",\"Strategy Returns\",\"Strategy Returns\",\"Strategy Returns\",\"Strategy Returns\",\"Strategy Returns\",\"Strategy Returns\",\"Strategy Returns\",\"Strategy Returns\",\"Strategy Returns\",\"Strategy Returns\",\"Strategy Returns\",\"Strategy Returns\",\"Strategy Returns\",\"Strategy Returns\",\"Strategy Returns\",\"Strategy Returns\",\"Strategy Returns\",\"Strategy Returns\",\"Strategy Returns\",\"Strategy Returns\",\"Strategy Returns\",\"Strategy Returns\",\"Strategy Returns\",\"Strategy Returns\",\"Strategy Returns\",\"Strategy Returns\",\"Strategy Returns\",\"Strategy Returns\",\"Strategy Returns\",\"Strategy Returns\",\"Strategy Returns\",\"Strategy Returns\",\"Strategy Returns\",\"Strategy Returns\",\"Strategy Returns\",\"Strategy Returns\",\"Strategy Returns\",\"Strategy Returns\",\"Strategy Returns\",\"Strategy Returns\",\"Strategy Returns\",\"Strategy Returns\",\"Strategy Returns\",\"Strategy Returns\",\"Strategy Returns\",\"Strategy Returns\",\"Strategy Returns\",\"Strategy Returns\",\"Strategy Returns\",\"Strategy Returns\",\"Strategy Returns\",\"Strategy Returns\",\"Strategy Returns\",\"Strategy Returns\",\"Strategy Returns\",\"Strategy Returns\",\"Strategy Returns\",\"Strategy Returns\",\"Strategy Returns\",\"Strategy Returns\",\"Strategy Returns\",\"Strategy Returns\",\"Strategy Returns\",\"Strategy Returns\",\"Strategy Returns\",\"Strategy Returns\",\"Strategy Returns\",\"Strategy Returns\",\"Strategy Returns\",\"Strategy Returns\",\"Strategy Returns\",\"Strategy Returns\",\"Strategy Returns\",\"Strategy Returns\",\"Strategy Returns\",\"Strategy Returns\",\"Strategy Returns\",\"Strategy Returns\",\"Strategy Returns\",\"Strategy Returns\",\"Strategy Returns\",\"Strategy Returns\",\"Strategy Returns\",\"Strategy Returns\",\"Strategy Returns\",\"Strategy Returns\",\"Strategy Returns\",\"Strategy Returns\",\"Strategy Returns\",\"Strategy Returns\",\"Strategy Returns\",\"Strategy Returns\",\"Strategy Returns\",\"Strategy Returns\",\"Strategy Returns\",\"Strategy Returns\",\"Strategy Returns\",\"Strategy Returns\",\"Strategy Returns\",\"Strategy Returns\",\"Strategy Returns\",\"Strategy Returns\",\"Strategy Returns\",\"Strategy Returns\",\"Strategy Returns\",\"Strategy Returns\",\"Strategy Returns\",\"Strategy Returns\",\"Strategy Returns\",\"Strategy Returns\",\"Strategy Returns\",\"Strategy Returns\",\"Strategy Returns\",\"Strategy Returns\",\"Strategy Returns\",\"Strategy Returns\",\"Strategy Returns\",\"Strategy Returns\",\"Strategy Returns\",\"Strategy Returns\",\"Strategy Returns\",\"Strategy Returns\",\"Strategy Returns\",\"Strategy Returns\",\"Strategy Returns\",\"Strategy Returns\",\"Strategy Returns\",\"Strategy Returns\",\"Strategy Returns\",\"Strategy Returns\",\"Strategy Returns\",\"Strategy Returns\",\"Strategy Returns\",\"Strategy Returns\",\"Strategy Returns\",\"Strategy Returns\",\"Strategy Returns\",\"Strategy Returns\",\"Strategy Returns\",\"Strategy Returns\",\"Strategy Returns\",\"Strategy Returns\",\"Strategy Returns\",\"Strategy Returns\",\"Strategy Returns\",\"Strategy Returns\",\"Strategy Returns\",\"Strategy Returns\",\"Strategy Returns\",\"Strategy Returns\",\"Strategy Returns\",\"Strategy Returns\",\"Strategy Returns\",\"Strategy Returns\",\"Strategy Returns\",\"Strategy Returns\",\"Strategy Returns\",\"Strategy Returns\",\"Strategy Returns\",\"Strategy Returns\",\"Strategy Returns\",\"Strategy Returns\",\"Strategy Returns\",\"Strategy Returns\",\"Strategy Returns\",\"Strategy Returns\",\"Strategy Returns\",\"Strategy Returns\",\"Strategy Returns\",\"Strategy Returns\",\"Strategy Returns\",\"Strategy Returns\",\"Strategy Returns\",\"Strategy Returns\",\"Strategy Returns\",\"Strategy Returns\",\"Strategy Returns\",\"Strategy Returns\",\"Strategy Returns\",\"Strategy Returns\",\"Strategy Returns\",\"Strategy Returns\",\"Strategy Returns\",\"Strategy Returns\",\"Strategy Returns\",\"Strategy Returns\",\"Strategy Returns\",\"Strategy Returns\",\"Strategy Returns\",\"Strategy Returns\",\"Strategy Returns\",\"Strategy Returns\",\"Strategy Returns\",\"Strategy Returns\",\"Strategy Returns\",\"Strategy Returns\",\"Strategy Returns\",\"Strategy Returns\",\"Strategy Returns\",\"Strategy Returns\",\"Strategy Returns\",\"Strategy Returns\",\"Strategy Returns\",\"Strategy Returns\",\"Strategy Returns\",\"Strategy Returns\",\"Strategy Returns\",\"Strategy Returns\",\"Strategy Returns\",\"Strategy Returns\",\"Strategy Returns\",\"Strategy Returns\",\"Strategy Returns\",\"Strategy Returns\",\"Strategy Returns\",\"Strategy Returns\",\"Strategy Returns\",\"Strategy Returns\",\"Strategy Returns\",\"Strategy Returns\",\"Strategy Returns\",\"Strategy Returns\",\"Strategy Returns\",\"Strategy Returns\",\"Strategy Returns\",\"Strategy Returns\",\"Strategy Returns\",\"Strategy Returns\",\"Strategy Returns\",\"Strategy Returns\",\"Strategy Returns\",\"Strategy Returns\",\"Strategy Returns\",\"Strategy Returns\",\"Strategy Returns\",\"Strategy Returns\",\"Strategy Returns\",\"Strategy Returns\",\"Strategy Returns\",\"Strategy Returns\",\"Strategy Returns\",\"Strategy Returns\",\"Strategy Returns\",\"Strategy Returns\",\"Strategy Returns\",\"Strategy Returns\",\"Strategy Returns\",\"Strategy Returns\",\"Strategy Returns\",\"Strategy Returns\",\"Strategy Returns\",\"Strategy Returns\",\"Strategy Returns\",\"Strategy Returns\",\"Strategy Returns\",\"Strategy Returns\",\"Strategy Returns\",\"Strategy Returns\",\"Strategy Returns\",\"Strategy Returns\",\"Strategy Returns\",\"Strategy Returns\",\"Strategy Returns\",\"Strategy Returns\",\"Strategy Returns\",\"Strategy Returns\",\"Strategy Returns\",\"Strategy Returns\",\"Strategy Returns\",\"Strategy Returns\",\"Strategy Returns\",\"Strategy Returns\",\"Strategy Returns\",\"Strategy Returns\",\"Strategy Returns\",\"Strategy Returns\",\"Strategy Returns\",\"Strategy Returns\",\"Strategy Returns\",\"Strategy Returns\",\"Strategy Returns\",\"Strategy Returns\",\"Strategy Returns\",\"Strategy Returns\",\"Strategy Returns\",\"Strategy Returns\",\"Strategy Returns\",\"Strategy Returns\",\"Strategy Returns\",\"Strategy Returns\",\"Strategy Returns\",\"Strategy Returns\",\"Strategy Returns\",\"Strategy Returns\",\"Strategy Returns\",\"Strategy Returns\",\"Strategy Returns\",\"Strategy Returns\",\"Strategy Returns\",\"Strategy Returns\",\"Strategy Returns\",\"Strategy Returns\",\"Strategy Returns\",\"Strategy Returns\",\"Strategy Returns\",\"Strategy Returns\",\"Strategy Returns\",\"Strategy Returns\",\"Strategy Returns\",\"Strategy Returns\",\"Strategy Returns\",\"Strategy Returns\",\"Strategy Returns\",\"Strategy Returns\",\"Strategy Returns\",\"Strategy Returns\",\"Strategy Returns\",\"Strategy Returns\",\"Strategy Returns\",\"Strategy Returns\",\"Strategy Returns\",\"Strategy Returns\",\"Strategy Returns\",\"Strategy Returns\",\"Strategy Returns\",\"Strategy Returns\",\"Strategy Returns\",\"Strategy Returns\",\"Strategy Returns\",\"Strategy Returns\",\"Strategy Returns\",\"Strategy Returns\",\"Strategy Returns\",\"Strategy Returns\",\"Strategy Returns\",\"Strategy Returns\",\"Strategy Returns\",\"Strategy Returns\",\"Strategy Returns\",\"Strategy Returns\",\"Strategy Returns\",\"Strategy Returns\",\"Strategy Returns\",\"Strategy Returns\",\"Strategy Returns\",\"Strategy Returns\",\"Strategy Returns\",\"Strategy Returns\",\"Strategy Returns\",\"Strategy Returns\",\"Strategy Returns\",\"Strategy Returns\",\"Strategy Returns\",\"Strategy Returns\",\"Strategy Returns\",\"Strategy Returns\",\"Strategy Returns\",\"Strategy Returns\",\"Strategy Returns\",\"Strategy Returns\",\"Strategy Returns\",\"Strategy Returns\",\"Strategy Returns\",\"Strategy Returns\",\"Strategy Returns\",\"Strategy Returns\",\"Strategy Returns\",\"Strategy Returns\",\"Strategy Returns\",\"Strategy Returns\",\"Strategy Returns\",\"Strategy Returns\",\"Strategy Returns\",\"Strategy Returns\",\"Strategy Returns\",\"Strategy Returns\",\"Strategy Returns\",\"Strategy Returns\",\"Strategy Returns\",\"Strategy Returns\",\"Strategy Returns\",\"Strategy Returns\",\"Strategy Returns\",\"Strategy Returns\",\"Strategy Returns\",\"Strategy Returns\",\"Strategy Returns\",\"Strategy Returns\",\"Strategy Returns\",\"Strategy Returns\",\"Strategy Returns\",\"Strategy Returns\",\"Strategy Returns\",\"Strategy Returns\",\"Strategy Returns\",\"Strategy Returns\",\"Strategy Returns\",\"Strategy Returns\",\"Strategy Returns\",\"Strategy Returns\",\"Strategy Returns\",\"Strategy Returns\",\"Strategy Returns\",\"Strategy Returns\",\"Strategy Returns\",\"Strategy Returns\",\"Strategy Returns\",\"Strategy Returns\",\"Strategy Returns\",\"Strategy Returns\",\"Strategy Returns\",\"Strategy Returns\",\"Strategy Returns\",\"Strategy Returns\",\"Strategy Returns\",\"Strategy Returns\",\"Strategy Returns\",\"Strategy Returns\",\"Strategy Returns\",\"Strategy Returns\",\"Strategy Returns\",\"Strategy Returns\",\"Strategy Returns\",\"Strategy Returns\",\"Strategy Returns\",\"Strategy Returns\",\"Strategy Returns\",\"Strategy Returns\",\"Strategy Returns\",\"Strategy Returns\",\"Strategy Returns\",\"Strategy Returns\",\"Strategy Returns\",\"Strategy Returns\",\"Strategy Returns\",\"Strategy Returns\",\"Strategy Returns\",\"Strategy Returns\",\"Strategy Returns\",\"Strategy Returns\",\"Strategy Returns\",\"Strategy Returns\",\"Strategy Returns\",\"Strategy Returns\",\"Strategy Returns\",\"Strategy Returns\",\"Strategy Returns\",\"Strategy Returns\",\"Strategy Returns\",\"Strategy Returns\",\"Strategy Returns\",\"Strategy Returns\",\"Strategy Returns\",\"Strategy Returns\",\"Strategy Returns\",\"Strategy Returns\",\"Strategy Returns\",\"Strategy Returns\",\"Strategy Returns\",\"Strategy Returns\",\"Strategy Returns\",\"Strategy Returns\",\"Strategy Returns\",\"Strategy Returns\",\"Strategy Returns\",\"Strategy Returns\",\"Strategy Returns\",\"Strategy Returns\",\"Strategy Returns\",\"Strategy Returns\",\"Strategy Returns\",\"Strategy Returns\",\"Strategy Returns\",\"Strategy Returns\",\"Strategy Returns\",\"Strategy Returns\",\"Strategy Returns\",\"Strategy Returns\",\"Strategy Returns\",\"Strategy Returns\",\"Strategy Returns\",\"Strategy Returns\",\"Strategy Returns\",\"Strategy Returns\",\"Strategy Returns\",\"Strategy Returns\",\"Strategy Returns\",\"Strategy Returns\",\"Strategy Returns\",\"Strategy Returns\",\"Strategy Returns\",\"Strategy Returns\",\"Strategy Returns\",\"Strategy Returns\",\"Strategy Returns\",\"Strategy Returns\",\"Strategy Returns\",\"Strategy Returns\",\"Strategy Returns\",\"Strategy Returns\",\"Strategy Returns\",\"Strategy Returns\",\"Strategy Returns\",\"Strategy Returns\",\"Strategy Returns\",\"Strategy Returns\",\"Strategy Returns\",\"Strategy Returns\",\"Strategy Returns\",\"Strategy Returns\",\"Strategy Returns\",\"Strategy Returns\",\"Strategy Returns\",\"Strategy Returns\",\"Strategy Returns\",\"Strategy Returns\",\"Strategy Returns\",\"Strategy Returns\",\"Strategy Returns\",\"Strategy Returns\",\"Strategy Returns\",\"Strategy Returns\",\"Strategy Returns\",\"Strategy Returns\",\"Strategy Returns\",\"Strategy Returns\",\"Strategy Returns\",\"Strategy Returns\",\"Strategy Returns\",\"Strategy Returns\",\"Strategy Returns\",\"Strategy Returns\",\"Strategy Returns\",\"Strategy Returns\",\"Strategy Returns\",\"Strategy Returns\",\"Strategy Returns\",\"Strategy Returns\",\"Strategy Returns\",\"Strategy Returns\",\"Strategy Returns\",\"Strategy Returns\",\"Strategy Returns\",\"Strategy Returns\",\"Strategy Returns\",\"Strategy Returns\",\"Strategy Returns\",\"Strategy Returns\",\"Strategy Returns\",\"Strategy Returns\",\"Strategy Returns\",\"Strategy Returns\",\"Strategy Returns\",\"Strategy Returns\",\"Strategy Returns\",\"Strategy Returns\",\"Strategy Returns\",\"Strategy Returns\",\"Strategy Returns\",\"Strategy Returns\",\"Strategy Returns\",\"Strategy Returns\",\"Strategy Returns\",\"Strategy Returns\",\"Strategy Returns\",\"Strategy Returns\",\"Strategy Returns\",\"Strategy Returns\",\"Strategy Returns\",\"Strategy Returns\",\"Strategy Returns\",\"Strategy Returns\",\"Strategy Returns\",\"Strategy Returns\",\"Strategy Returns\",\"Strategy Returns\",\"Strategy Returns\",\"Strategy Returns\",\"Strategy Returns\",\"Strategy Returns\",\"Strategy Returns\",\"Strategy Returns\",\"Strategy Returns\",\"Strategy Returns\",\"Strategy Returns\",\"Strategy Returns\",\"Strategy Returns\",\"Strategy Returns\",\"Strategy Returns\",\"Strategy Returns\",\"Strategy Returns\",\"Strategy Returns\",\"Strategy Returns\",\"Strategy Returns\",\"Strategy Returns\",\"Strategy Returns\",\"Strategy Returns\",\"Strategy Returns\",\"Strategy Returns\",\"Strategy Returns\",\"Strategy Returns\",\"Strategy Returns\",\"Strategy Returns\",\"Strategy Returns\",\"Strategy Returns\",\"Strategy Returns\",\"Strategy Returns\",\"Strategy Returns\",\"Strategy Returns\",\"Strategy Returns\",\"Strategy Returns\",\"Strategy Returns\",\"Strategy Returns\",\"Strategy Returns\",\"Strategy Returns\",\"Strategy Returns\",\"Strategy Returns\",\"Strategy Returns\",\"Strategy Returns\",\"Strategy Returns\",\"Strategy Returns\",\"Strategy Returns\",\"Strategy Returns\",\"Strategy Returns\",\"Strategy Returns\",\"Strategy Returns\",\"Strategy Returns\",\"Strategy Returns\",\"Strategy Returns\",\"Strategy Returns\",\"Strategy Returns\",\"Strategy Returns\",\"Strategy Returns\",\"Strategy Returns\",\"Strategy Returns\",\"Strategy Returns\",\"Strategy Returns\",\"Strategy Returns\",\"Strategy Returns\",\"Strategy Returns\",\"Strategy Returns\",\"Strategy Returns\",\"Strategy Returns\",\"Strategy Returns\",\"Strategy Returns\",\"Strategy Returns\",\"Strategy Returns\",\"Strategy Returns\",\"Strategy Returns\",\"Strategy Returns\",\"Strategy Returns\",\"Strategy Returns\",\"Strategy Returns\",\"Strategy Returns\",\"Strategy Returns\",\"Strategy Returns\",\"Strategy Returns\",\"Strategy Returns\",\"Strategy Returns\",\"Strategy Returns\",\"Strategy Returns\",\"Strategy Returns\",\"Strategy Returns\",\"Strategy Returns\",\"Strategy Returns\",\"Strategy Returns\",\"Strategy Returns\",\"Strategy Returns\",\"Strategy Returns\",\"Strategy Returns\",\"Strategy Returns\",\"Strategy Returns\",\"Strategy Returns\",\"Strategy Returns\",\"Strategy Returns\",\"Strategy Returns\",\"Strategy Returns\",\"Strategy Returns\",\"Strategy Returns\",\"Strategy Returns\",\"Strategy Returns\",\"Strategy Returns\",\"Strategy Returns\",\"Strategy Returns\",\"Strategy Returns\",\"Strategy Returns\",\"Strategy Returns\",\"Strategy Returns\",\"Strategy Returns\",\"Strategy Returns\",\"Strategy Returns\",\"Strategy Returns\",\"Strategy Returns\",\"Strategy Returns\",\"Strategy Returns\",\"Strategy Returns\",\"Strategy Returns\",\"Strategy Returns\",\"Strategy Returns\",\"Strategy Returns\",\"Strategy Returns\",\"Strategy Returns\",\"Strategy Returns\",\"Strategy Returns\",\"Strategy Returns\",\"Strategy Returns\",\"Strategy Returns\",\"Strategy Returns\",\"Strategy Returns\",\"Strategy Returns\",\"Strategy Returns\",\"Strategy Returns\",\"Strategy Returns\",\"Strategy Returns\",\"Strategy Returns\",\"Strategy Returns\",\"Strategy Returns\",\"Strategy Returns\",\"Strategy Returns\",\"Strategy Returns\",\"Strategy Returns\",\"Strategy Returns\",\"Strategy Returns\",\"Strategy Returns\",\"Strategy Returns\",\"Strategy Returns\",\"Strategy Returns\",\"Strategy Returns\",\"Strategy Returns\",\"Strategy Returns\",\"Strategy Returns\",\"Strategy Returns\",\"Strategy Returns\",\"Strategy Returns\",\"Strategy Returns\",\"Strategy Returns\",\"Strategy Returns\",\"Strategy Returns\",\"Strategy Returns\",\"Strategy Returns\",\"Strategy Returns\",\"Strategy Returns\",\"Strategy Returns\",\"Strategy Returns\",\"Strategy Returns\",\"Strategy Returns\",\"Strategy Returns\",\"Strategy Returns\",\"Strategy Returns\",\"Strategy Returns\",\"Strategy Returns\",\"Strategy Returns\",\"Strategy Returns\",\"Strategy Returns\",\"Strategy Returns\",\"Strategy Returns\",\"Strategy Returns\",\"Strategy Returns\",\"Strategy Returns\",\"Strategy Returns\",\"Strategy Returns\",\"Strategy Returns\",\"Strategy Returns\",\"Strategy Returns\",\"Strategy Returns\",\"Strategy Returns\",\"Strategy Returns\",\"Strategy Returns\",\"Strategy Returns\",\"Strategy Returns\",\"Strategy Returns\",\"Strategy Returns\",\"Strategy Returns\",\"Strategy Returns\",\"Strategy Returns\",\"Strategy Returns\",\"Strategy Returns\",\"Strategy Returns\",\"Strategy Returns\",\"Strategy Returns\",\"Strategy Returns\",\"Strategy Returns\",\"Strategy Returns\",\"Strategy Returns\",\"Strategy Returns\",\"Strategy Returns\",\"Strategy Returns\",\"Strategy Returns\",\"Strategy Returns\",\"Strategy Returns\",\"Strategy Returns\",\"Strategy Returns\",\"Strategy Returns\",\"Strategy Returns\",\"Strategy Returns\",\"Strategy Returns\",\"Strategy Returns\",\"Strategy Returns\",\"Strategy Returns\",\"Strategy Returns\",\"Strategy Returns\",\"Strategy Returns\",\"Strategy Returns\",\"Strategy Returns\",\"Strategy Returns\",\"Strategy Returns\",\"Strategy Returns\",\"Strategy Returns\",\"Strategy Returns\",\"Strategy Returns\",\"Strategy Returns\",\"Strategy Returns\",\"Strategy Returns\",\"Strategy Returns\",\"Strategy Returns\",\"Strategy Returns\",\"Strategy Returns\",\"Strategy Returns\",\"Strategy Returns\",\"Strategy Returns\",\"Strategy Returns\",\"Strategy Returns\",\"Strategy Returns\",\"Strategy Returns\",\"Strategy Returns\",\"Strategy Returns\",\"Strategy Returns\",\"Strategy Returns\",\"Strategy Returns\",\"Strategy Returns\",\"Strategy Returns\",\"Strategy Returns\",\"Strategy Returns\",\"Strategy Returns\",\"Strategy Returns\",\"Strategy Returns\",\"Strategy Returns\",\"Strategy Returns\",\"Strategy Returns\",\"Strategy Returns\",\"Strategy Returns\",\"Strategy Returns\",\"Strategy Returns\",\"Strategy Returns\",\"Strategy Returns\",\"Strategy Returns\",\"Strategy Returns\",\"Strategy Returns\",\"Strategy Returns\",\"Strategy Returns\",\"Strategy Returns\",\"Strategy Returns\",\"Strategy Returns\",\"Strategy Returns\",\"Strategy Returns\",\"Strategy Returns\",\"Strategy Returns\",\"Strategy Returns\",\"Strategy Returns\",\"Strategy Returns\",\"Strategy Returns\",\"Strategy Returns\",\"Strategy Returns\",\"Strategy Returns\",\"Strategy Returns\",\"Strategy Returns\",\"Strategy Returns\",\"Strategy Returns\",\"Strategy Returns\",\"Strategy Returns\",\"Strategy Returns\",\"Strategy Returns\",\"Strategy Returns\",\"Strategy Returns\",\"Strategy Returns\",\"Strategy Returns\",\"Strategy Returns\",\"Strategy Returns\",\"Strategy Returns\",\"Strategy Returns\",\"Strategy Returns\",\"Strategy Returns\",\"Strategy Returns\",\"Strategy Returns\",\"Strategy Returns\",\"Strategy Returns\",\"Strategy Returns\",\"Strategy Returns\",\"Strategy Returns\",\"Strategy Returns\",\"Strategy Returns\",\"Strategy Returns\",\"Strategy Returns\",\"Strategy Returns\",\"Strategy Returns\",\"Strategy Returns\",\"Strategy Returns\",\"Strategy Returns\",\"Strategy Returns\",\"Strategy Returns\",\"Strategy Returns\",\"Strategy Returns\",\"Strategy Returns\",\"Strategy Returns\",\"Strategy Returns\",\"Strategy Returns\",\"Strategy Returns\",\"Strategy Returns\",\"Strategy Returns\",\"Strategy Returns\",\"Strategy Returns\",\"Strategy Returns\",\"Strategy Returns\",\"Strategy Returns\",\"Strategy Returns\",\"Strategy Returns\",\"Strategy Returns\",\"Strategy Returns\",\"Strategy Returns\",\"Strategy Returns\",\"Strategy Returns\",\"Strategy Returns\",\"Strategy Returns\",\"Strategy Returns\",\"Strategy Returns\",\"Strategy Returns\",\"Strategy Returns\",\"Strategy Returns\",\"Strategy Returns\",\"Strategy Returns\",\"Strategy Returns\",\"Strategy Returns\",\"Strategy Returns\",\"Strategy Returns\",\"Strategy Returns\",\"Strategy Returns\",\"Strategy Returns\",\"Strategy Returns\",\"Strategy Returns\",\"Strategy Returns\",\"Strategy Returns\",\"Strategy Returns\",\"Strategy Returns\",\"Strategy Returns\",\"Strategy Returns\",\"Strategy Returns\",\"Strategy Returns\",\"Strategy Returns\",\"Strategy Returns\",\"Strategy Returns\",\"Strategy Returns\",\"Strategy Returns\",\"Strategy Returns\",\"Strategy Returns\",\"Strategy Returns\",\"Strategy Returns\",\"Strategy Returns\",\"Strategy Returns\",\"Strategy Returns\",\"Strategy Returns\"],\"date\":{\"__ndarray__\":\"AAAQ95Z5dUIAAPj843p1QgAAmkfoenVCAAD2be16dUIAAL7sh3t1QgAAjsqOe3VCAAAwFZN7dUIAAFZJKXx1QgAAECUqfHVCAADKACt8dUIAAEw4NH11QgAAHNAWfnVCAADEpGx+dUIAAJaos391QgAAkorGf3VCAADQT1mAdUIAAP7iW4B1QgAAcppdgHVCAACenmmAdUIAAIrCo4F1QgAAoMSpgXVCAABaoKqBdUIAALbGr4F1QgAAcKKwgXVCAABYEbSBdUIAAAqOSIJ1QgAAhjsAg3VCAAAQr+ODdUIAAMj77YN1QgAAgtfug3VCAAByXzqEdUIAABIbSIR1QgAAzPZIhHVCAACG0kmEdUIAANaeh4R1QgAAkHqIhHVCAABeyZiEdUIAAEY4nIR1QgAA4Lp9hnVCAADeK4eGdUIAAOZEz4Z1QgAAQmvUhnVCAABw/taGdUIAAIYA3YZ1QgAAHPEZh3VCAACQqBuHdUIAAARgHYd1QgAA7M4gh3VCAADUPSSHdUIAAHaIKId1QgAA6j8qh3VCAABe9yuHdUIAAJA/ZYh1QgAAMoppiHVCAAB2H3KIdUIAAMzpuIp1QgAApOAHi3VCAACMTwuLdUIAAFZdnIt1QgAAPsyfi3VCAAAmO6OLdUIAAFTOpYt1QgAAyIWni3VCAACCYaiLdUIAADw9qYt1QgAA9hiqi3VCAACw9KqLdUIAAGrQq4t1QgAAJKysi3VCAADeh62LdUIAAJhjrot1QgAAUj+vi3VCAAAMG7CLdUIAAMb2sIt1QgAA5BH/i3VCAACe7f+LdUIAAFb05Yx1QgAAshrrjHVCAADMF0yNdUIAAIbzTI11QgAAHOSJjXVCAADWv4qNdUIAAJCbi411QgAASneMjXVCAAAEU42NdUIAAL4ujo11QgAAeAqPjXVCAAAy5o+NdUIAAOoymo11QgAAjH2ejXVCAACWJd2NdUIAAFAB3o11QgAATnLnjXVCAAB8BeqNdUIAADbh6o11QgAA2CvvjXVCAADetUCOdUIAAMYkRI51QgAACnQoj3VCAACcRniPdUIAAFYieY91QgAAEP55j3VCAADK2XqPdUIAAIS1e491QgAAJgCAj3VCAADg24CPdUIAAMhKhI91QgAAij/Nj3VCAABEG86PdUIAAHg4IpB1QgAAMhQjkHVCAADs7yOQdUIAANReJ5B1QgAA6mAtkHVCAAAY9C+QdUIAAJZTcJB1QgAA8Op+kHVCAAAG7YSQdUIAANaEZ5F1QgAA7IZtkXVCAACmYm6RdUIAAGA+b5F1QgAAGhpwkXVCAAACiXORdUIAAHZAdZF1QgAAXq94kXVCAACMQnuRdUIAAFDGupF1QgAACqK7kXVCAADEfbyRdUIAADg1vpF1QgAA2n/CkXVCAAAIE8WRdUIAAHzKxpF1QgAA2PDLkXVCAAAQLA2SdUIAAD6/D5J1QgAAXNpdknVCAABaS2eSdUIAAM4CaZJ1QgAAQrpqknVCAABwTW2SdUIAADCzv5J1QgAA6o7AknVCAADWsvqTdUIAAARG/ZN1QgAAYGwClHVCAAACtwaUdUIAALySB5R1QgAA3DxMlHVCAABM1mCUdUIAAAayYZR1QgAAEFqglHVCAADKNaGUdUIAACZcppR1QgAAVO+olHVCAACwFa6UdUIAACTNr5R1QgAAmISxlHVCAADGF7SUdUIAALgu9pR1QgAAWOoDlXVCAACGfQaVdUIAANBWPJZ1QgAAijI9lnVCAABEDj6WdUIAAP7pPpZ1QgAAuMU/lnVCAAByoUCWdUIAAOTJS5Z1QgAAhhRQlnVCAAAcBY2WdUIAANbgjZZ1QgAAkLyOlnVCAABKmI+WdUIAAAR0kJZ1QgAAvk+RlnVCAAB4K5KWdUIAADIHk5Z1QgAASAmZlnVCAABGeqKWdUIAANxq35Z1QgAAUCLhlnVCAAAIb+uWdUIAAMJK7JZ1QgAANgLulnVCAADw3e6WdUIAAAbg9JZ1QgAAnNAxl3VCAABWrDKXdUIAABCIM5d1QgAAPhs2l3VCAAD49jaXdUIAAGyuOJd1QgAAJoo5l3VCAADgZTqXdUIAAJpBO5d1QgAAVB08l3VCAAAO+TyXdUIAAMjUPZd1QgAAgrA+l3VCAAD2Z0CXdUIAACT7Qpd1QgAAxkVHl3VCAADcASmYdUIAAJbdKZh1QgAACpUrmHVCAADEcCyYdUIAAH5MLZh1QgAAOCgumHVCAADyAy+YdUIAAKzfL5h1QgAAZrswmHVCAAAglzGYdUIAAJROM5h1QgAATio0mHVCAAAIBjWYdUIAAHy9Nph1QgAANpk3mHVCAADwdDiYdUIAAKpQOZh1QgAAHgg7mHVCAACSvzyYdUIAAA6Qhph1QgAAXM3NmHVCAAAWqc6YdUIAANCEz5h1QgAAimDQmHVCAABEPNGYdUIAAP4X0ph1QgAAuPPSmHVCAAByz9OYdUIAAOaG1Zh1QgAAoGLWmHVCAABaPteYdUIAABQa2Jh1QgAAiNHZmHVCAABCrdqYdUIAALZk3Jh1QgAAntPfmHVCAAAcMyCZdUIAAL59JJl1QgAAjlsrmXVCAADS8DOZdUIAAJZ0c5l1QgAAOL93mXVCAACsdnmZdUIAAMJ4f5l1QgAAklaGmXVCAABMMoeZdUIAAAYOiJl1QgAAlgu9mnVCAABQ572adUIAAArDvpp1QgAArA3DmnVCAAAGpdGadUIAAJyVDpt1QgAAVnEPm3VCAAAQTRCbdUIAAMooEZt1QgAAhAQSm3VCAAA+4BKbdUIAAPi7E5t1QgAAspcUm3VCAABscxWbdUIAACZPFpt1QgAAyJkam3VCAACKjmObdUIAAERqZJt1QgAA/kVlm3VCAABY3XObdUIAAIZwdpt1QgAABNC2m3VCAAC+q7ebdUIAADJjuZt1QgAA7D66m3VCAABg9rubdUIAABrSvJt1QgAAjom+m3VCAABIZb+bdUIAAAJBwJt1QgAAvBzBm3VCAABckqqcdUIAABZuq5x1QgAAGmkGnXVCAACOIAiddUIAAKQiDp11QgAAGNoPnXVCAACWOVCddUIAAMpWpJ11QgAAhDKlnXVCAAA+DqaddUIAAPjppp11QgAAssWnnXVCAABsoaiddUIAACZ9qZ11QgAAahKynXVCAAAk7rKddUIAAAxdtp11QgAAxji3nXVCAADK7e2edUIAAITJ7p51QgAAPqXvnnVCAABsOPKedUIAAODv8551QgAAmsv0nnVCAABUp/WedUIAAA6D9p51QgAAyF73nnVCAACCOviedUIAADwW+Z51QgAAsM36nnVCAABqqfuedUIAAAz0/551QgAAFpw+n3VCAADQdz+fdUIAACyeRJ91QgAAWjFHn3VCAAAUDUifdUIAAIjESZ91QgAAWKJQn3VCAAAcJpCfdUIAANYBkZ91QgAAkN2Rn3VCAAACBp2fdUIAAHa9np91QgAAOLLnn3VCAAA2I/GfdUIAAB6S9J91QgAA2G31n3VCAAA4STGhdUIAAPIkMqF1QgAArAAzoXVCAABm3DOhdUIAAKpxPKF1QgAAHik+oXVCAABMvEChdUIAAAaYQaF1QgAAmvmHoXVCAABU1YihdUIAABxUI6J1QgAAGsUsonVCAABIWC+idUIAAHbrMaJ1QgAArJd8onVCAABk5IaidUIAAIyEgaN1QgAATOrTo3VCAAAk4SKkdUIAAIaReaR1QgAAHIK2pHVCAAAEiAOmdUIAANx+UqZ1QgAAOKVXpnVCAADygFimdUIAACAUW6Z1QgAA4HmtpnVCAADI6LCmdUIAAILEsaZ1QgAAXEr3pnVCAADQAfmmdUIAAIrd+aZ1QgAAQioEp3VCAAASCAundUIAAD7G8qd1QgAAasr+p3VCAADQmEKodUIAAMx6Vah1QgAAhlZWqHVCAACmAJuodUIAAGDcm6h1QgAAGricqHVCAAC8AqGodUIAANIEp6h1QgAA3KzlqHVCAABQZOeodUIAAKyK7Kh1QgAAIELuqHVCAACU+e+odUIAAHxo86h1QgAAZNf2qHVCAAAQyjmpdUIAAMaHTal1QgAAlh8wqnVCAABQ+zCqdUIAAH6OM6p1QgAA8kU1qnVCAACsITaqdUIAAD70hap1QgAA+M+GqnVCAABcD9SqdUIAANDG1ap1QgAARH7XqnVCAAD+WdiqdUIAAIgT4Kp1QgAAhoTpqnVCAADWUCerdUIAAEoIKat1QgAABOQpq3VCAAB4myurdUIAADJ3LKt1QgAAUJJ6q3VCAAAgcIGrdUIAAMK6hat1QgAA2LyLq3VCAABMdI2rdUIAAAZQjqt1QgAA1udwrHVCAADs6XasdUIAAGCheKx1QgAAjjR7rHVCAAB+vMasdUIAADiYx6x1QgAATprNrHVCAACc1xStdUIAAFazFa11QgAAPJMirXVCAABcPWetdUIAAND0aK11QgAAitBprXVCAABErGqtdUIAAP6Ha611QgAAcj9trXVCAACg0m+tdUIAAIhBc611QgAAEvt6rXVCAACGsnytdUIAAEinxa11QgAARhjPrXVCAABEQ7SudUIAAHLWtq51QgAAWLbDrnVCAACGScaudUIAAL6EB691QgAACjNYr3VCAACU7F+vdUIAABC9qa91QgAAypiqr3VCAACEdKuvdUIAALIHrq91QgAAbOOur3VCAAAOLrOvdUIAACQwua91QgAADJ+8r3VCAADGer2vdUIAAFxr+q91QgAAVnjysHVCAADKL/SwdUIAAPjC9rB1QgAAsp73sHVCAABseviwdUIAAJoN+7B1QgAAsA8BsXVCAACYfgSxdUIAAIqVRrF1QgAA1kOXsXVCAACQH5ixdUIAAEr7mLF1QgAABNeZsXVCAAC+spqxdUIAAHiOm7F1QgAAMmqcsXVCAADsRZ2xdUIAAGD9nrF1QgAAGtmfsXVCAACMAauxdUIAANzN6LF1QgAAUIXqsXVCAAAKYeuxdUIAAH4Y7bF1QgAAOPTtsXVCAADyz+6xdUIAAKyr77F1QgAAZofwsXVCAAAgY/GxdUIAANo+8rF1QgAAJF5MsnVCAADeOU2ydUIAAJgVTrJ1QgAA8mY4s3VCAACsQjmzdUIAAHwgQLN1QgAAnMqEs3VCAACwPZSzdUIAALhW3LN1QgAAcjLds3VCAADMyeuzdUIAAIal7LN1QgAAHJYptHVCAADWcSq0dUIAAAQFLbR1QgAAvuAttHVCAAB8t4m0dUIAAI5VfrV1QgAASDF/tXVCAAACDYC1dUIAAAiX0bV1QgAA8AXVtXVCAAAemde1dUIAAAYI27V1QgAAPkMctnVCAAD4Hh22dUIAAOCNILZ1QgAAgtgktnVCAAAWOmu2dUIAANAVbLZ1QgAAivFstnVCAAD+qG62dUIAALiEb7Z1QgAAcmBwtnVCAACg83K2dUIAAFrPc7Z1QgAAFKt0tnVCAADOhnW2dUIAACqterZ1QgAAhtN/tnVCAABy97m3dUIAACpExLd1QgAA5B/Ft3VCAADcwFi4dUIAAFB4Wrh1QgAAOOdduHVCAAAgVmG4dUIAAB7Harh1QgAA2KJruHVCAACSfmy4dUIAAExabbh1QgAAhJWuuHVCAAD4TLC4dUIAALIosbh1QgAAXIz9uHVCAADQQ/+4dUIAAHD/DLl1QgAAEHX2uXVCAAB4r566dUIAAGAeorp1QgAAGvqiunVCAADU1aO6dUIAAB71/bp1QgAAnFQ+u3VCAAAOfUm7dUIAAMbJU7t1QgAAChk4vHVCAACq1EW8dUIAAGSwRrx1QgAAHoxHvHVCAAA+Noy8dUIAAPaClrx1QgAAJBaZvHVCAACYzZq8dUIAAP6b3rx1QgAAFJ7kvHVCAAActyy9dUIAADK5Mr11QgAAvHI6vXVCAAAwKjy9dUIAAOoFPb11QgAAXr0+vXVCAABm1oa9dUIAABxOdr51QgAAvph6vnVCAAAyUHy+dUIAABgwib51QgAA0guKvnVCAACM54q+dUIAAEbDi751QgAA3LPIvnVCAAAKR8u+dUIAADjazb51QgAAZm3QvnVCAACqAtm+dUIAAExN3b51QgAAPmQfv3VCAAAWW26/dUIAANA2b791QgAA/slxv3VCAABygXO/dUIAAOY4db91QgAAiIN5v3VCAAD8Onu/dUIAALYWfL91QgAA5Kl+v3VCAACehX+/dUIAAFhhgL91QgAAEj2Bv3VCAADMGIK/dUIAAIb0gr91QgAA1sDAv3VCAABKeMK/dUIAADLnxb91QgAApp7Hv3VCAABI6cu/dUIAADBYz791QgAA6jPQv3VCAABe69G/dUIAABjH0r91QgAA0qLTv3VCAACMftS/dUIAAEZa1b91QgAAFvK3wHVCAADQzbjAdUIAAIqpucB1QgAARIW6wHVCAAC4PLzAdUIAACz0vcB1QgAAoKu/wHVCAACIGsPAdUIAAPzRxMB1QgAAtq3FwHVCAADkQMjAdUIAAIaLzMB1QgAAvsYNwXVCAAACXBbBdUIAAOrKGcF1QgAA0jkdwXVCAABG8R7BdUIAAFCZXcF1QgAAfixgwXVCAACsv2LBdUIAAJKfb8F1QgAAVJS4wXVCAAA8A7zBdUIAAIRN+8J1QgAAbLz+wnVCAADe5AnDdUIAAFKcC8N1QgAAxlMNw3VCAACK10zDdUIAAESzTcN1QgAA/o5Ow3VCAAAUkVTDdUIAAM5sVcN1QgAA5G5bw3VCAACeSlzDdUIAAIa5X8N1QgAA1oWdw3VCAACQYZ7DdUIAAEo9n8N1QgAABBmgw3VCAABgP6XDdUIAANT2psN1QgAAvGWqw3VCAAB2QavDdUIAANJnsMN1QgAARh+yw3VCAAB+WvPDdUIAADg29MN1QgAAEC1DxHVCAACE5ETEdUIAAGxTSMR1QgAADA9WxHVCAADG6lbEdUIAAN4SncV1QgAAuJjixXVCAABCUurFdUIAAOSc7sV1QgAAhufyxXVCAAC+IjTGdUIAAMSshcZ1QgAAOGSHxnVCAACS+5XGdUIAAEzXlsZ1QgAAMnF/x3VCAAAI2dfHdUIAADZs2sd1QgAAhKkhyHVCAABsGCXIdUIAAOTKgch1QgAAhhWGyHVCAACMn9fIdUIAAHjDEcp1QgAAplYUynVCAABgMhXKdUIAAEihGMp1QgAAMBAcynVCAADcAl/KdUIAAJbeX8p1QgAAxHFiynVCAACcaLHKdUIAABAgs8p1QgAAsmq3ynVCAABSJsXKdUIAAMbdxsp1QgAAXM4Dy3VCAADO9g7LdUIAAIZDGct1QgAAypL9y3VCAACEbv7LdUIAAPaWCcx1QgAAzo1YzHVCAABYR2DMdUIAAJYM88x1QgAAxJ/1zHVCAADImlDNdUIAAApbPs51QgAAxDY/znVCAABk8kzOdUIAANipTs51QgAAcpXmznVCAAAscefOdUIAAOZM6M51QgAAzrvrznVCAAAq4vDOdUIAAMws9c51QgAAhgj2znVCAADs1jnPdUIAAALZP891QgAArDyMz3VCAADCPpLPdUIAAJIcmc91QgAAvtqA0HVCAACOuIfQdUIAAMruI9F1QgAAhMok0XVCAAA+piXRdUIAAPiBJtF1QgAAsl0n0XVCAABsOSjRdUIAACYVKdF1QgAA4PAp0XVCAACazCrRdUIAACSGMtF1QgAAhjaJ0XVCAABKusjRdUIAANAPv9J1QgAAiuu/0nVCAAAUpcfSdUIAAHDLzNJ1QgAAKqfN0nVCAACeXs/SdUIAAFg60NJ1QgAAEhbR0nVCAACQdRHTdUIAAEpREtN1QgAASMIb03VCAAACnhzTdUIAALx5HdN1QgAA6gwg03VCAABGMyXTdUIAAJb/YtN1QgAAUNtj03VCAAAKt2TTdUIAADhKZ9N1QgAA8iVo03VCAADCA2/TdUIAAHzfb9N1QgAABpl303VCAAAQQbbTdUIAAMoct9N1QgAAbGe703VCAAAmQ7zTdUIAAOaoDtR1QgAAzhcS1HVCAABY0RnUdUIAAMaVE9V1QgAAXIZQ1XVCAAAWYlHVdUIAAIoZU9V1QgAA/tBU1XVCAAC4rFXVdUIAAHKIVtV1QgAAcPlf1XVCAACejGLVdUIAAFhoY9V1QgAAhvtl1XVCAAAy7qjVdUIAAGR8BtZ1QgAAhCZL1nVCAADEV0LXdUIAAPLqRNd1QgAAkqZS13VCAAAQBpPXdUIAAMrhk9d1QgAAPpmV13VCAAD4dJbXdUIAAGwsmNd1QgAA4OOZ13VCAAAOd5zXdUIAACR5otd1QgAAUgyl13VCAAAskurXdUIAAOZt69d1QgAAQpTw13VCAABYlvbXdUIAAMxN+Nd1QgAAhin513VCAACm0z3YdUIAAI5CQdh1QgAASB5C2HVCAAC81UPYdUIAAEaPS9h1QgAAXreR2XVCAAAYk5LZdUIAAIxKlNl1QgAARiaV2XVCAACs9NjZdUIAAFzidtp1QgAARFF62nVCAABCwoPadUIAAOQMiNp1QgAAWMSJ2nVCAACGV4zadUIAAOwl0Np1QgAApHLa2nVCAABeTtvadUIAAETow9t1QgAAkJYU3HVCAAAaUBzcdUIAANQrHdx1QgAAjgce3HVCAABI4x7cdUIAAAK/H9x1QgAApAkk3HVCAADEs2jcdUIAAH6Padx1QgAAINpt3HVCAADatW7cdUIAAKqTddx1QgAAZG923HVCAACSAnncdUIAAJyqt9x1QgAA3rDJ3HVCAAAMRMzcdUIAAMYfzdx1QgAAuDYP3XVCAAD8yxfddUIAAHCDGd11QgAA5Dob3XVCAACcQQHedUIAAFYdAt51QgAAEPkC3nVCAADK1APedUIAAD6MBd51QgAA+GcG3nVCAACyQwfedUIAALC0EN51QgAAJGwS3nVCAACYIxTedUIAAMa2Ft51QgAA/GJh3nVCAADW6KbedUIAAJDEp951QgAAZJ0J33VCAABmw0ngdUIAAKpYUuB1QgAAMj0/4XVCAAAwrkjhdUIAAAo0juF1QgAAxA+P4XVCAACU7ZXhdUIAAAill+F1QgAAfFyZ4XVCAADYgp7hdUIAABzSguJ1QgAAkImE4nVCAABKZYXidUIAAARBhuJ1QgAA7K+J4nVCAADcN9XidUIAAJYT1uJ1QgAAWnSD43VCAAAUUITjdUIAAM4rheN1QgAAhniP43VCAADUtdbjdUIAABhL3+N1QgAAHAAW5XVCAADW2xbldUIAAJC3F+V1QgAASpMY5XVCAAAC4CLldUIAADBzJeV1QgAApCon5XVCAABeBijldUIAAJZBaeV1QgAArENv5XVCAAAIanTldUIAAMJFdeV1QgAAfCF25XVCAAAG233ldUIAAFanu+V1QgAAhDq+5XVCAAA+Fr/ldUIAAPjxv+V1QgAAJoXC5XVCAADgYMPldUIAAFQYxeV1QgAADvTF5XVCAACwPsrldUIAAJitzeV1QgAAUonO5XVCAABYEyDmdUIAAJxiBOd1QgAA+IgJ53VCAABSIBjndUIAANB/WOd1QgAAiltZ53VCAABEN1rndUIAALjuW+d1QgAA7Auw53VCAABGo77ndUIAADi6AOh1QgAAPkRS6HVCAACY22DodUIAAPIsS+l1QgAAlHdP6XVCAACckJfpdUIAAFZsmOl1QgAAhP+a6XVCAADGBa3pdUIAAATLP+p1QgAA1KhG6nVCAABG0VHqdUIAAKyflep1QgAAHPOF63VCAADWzobrdUIAAJCqh+t1QgAASoaI63VCAAAEYonrdUIAAHgZi+t1QgAAMvWL63VCAADs0IzrdUIAAKasjet1QgAAYIiO63VCAAAaZI/rdUIAANQ/kOt1QgAAjhuR63VCAABI95HrdUIAAALTkut1QgAAvK6T63VCAAB2ipTrdUIAADBmlet1QgAAXvmX63VCAADSsJnrdUIAAIyMmut1QgAARmib63VCAAAK7NrrdUIAAH6j3Ot1QgAAOH/d63VCAACsNt/rdUIAAGYS4Ot1QgAACF3k63VCAADCOOXrdUIAAHwU5ut1QgAANvDm63VCAADwy+frdUIAAKqn6Ot1QgAAnL4q7HVCAABWmivsdUIAAD4JL+x1QgAA+OQv7HVCAABsnDHsdUIAAA7nNex1QgAAyMI27HVCAAA8ejjsdUIAALAxOux1QgAAag077HVCAAAk6TvsdUIAAN7EPOx1QgAAxjNA7HVCAABwl4zsdUIAAJ4qj+x1QgAARCrK7XVCAAD+BcvtdUIAADIjH+51QgAATCCA7nVCAAAG/IDudUIAADyoy+51QgAAXFIQ73VCAABYNCPvdUIAAIbHJe91QgAAxvgc8HVCAAAWxVrwdUIAAHh1sfB1QgAA8rYE8XVCAADcS0jydUIAAJYnSfJ1QgAAUANK8nVCAAA4ck3ydUIAAGYFUPJ1QgAAEGmc8nVCAAAma6LydUIAADxtqPJ1QgAAxiaw8nVCAABcF+3ydUIAAP5h8fJ1QgAAhowC83VCAAB2FE7zdUIAANzikfN1QgAAIHia83VCAADwVaHzdUIAAEqni/R1QgAA3Hnb9HVCAADCWej0dUIAAGSk7PR1QgAA2Fvu9HVCAACSN+/0dUIAAEwT8PR1QgAABu/w9HVCAADObYv1dUIAALbcjvV1QgAAEgOU9XVCAADM3pT1dUIAAIa6lfV1QgAA1obT9XVCAABKPtX1dUIAAHjR1/V1QgAAMq3Y9XVCAADsiNn1dUIAAKZk2vV1QgAAYEDb9XVCAAAaHNz1dUIAANT33PV1QgAAjtPd9XVCAAACi9/1dUIAALxm4PV1QgAAdkLh9XVCAADq+eL1dUIAAKTV4/V1QgAAGI3l9XVCAABGIOj1dUIAABa4yvZ1QgAA0JPL9nVCAACKb8z2dUIAAERLzfZ1QgAA/ibO9nVCAABy3s/2dUIAACy60PZ1QgAAoHHS9nVCAABaTdP2dUIAABQp1PZ1QgAAzgTV9nVCAACI4NX2dUIAAEK81vZ1QgAA/JfX9nVCAAC2c9j2dUIAAHBP2fZ1QgAAKiva9nVCAADkBtv2dUIAAJ7i2/Z1QgAAWL7c9nVCAACGUd/2dUIAAL6MIPd1QgAAjmon93VCAABIRij3dUIAAAIiKfd1QgAAvP0p93VCAADcp273dUIAAH7ycvd1QgAAOM5z93VCAACshXX3dUIAAAYdhPd1QgAAnA3B93VCAACKBhb4dUIAAHDmIvh1QgAAzAwo+HVCAABWgAv5dUIAAMo3Dfl1QgAAsqYQ+XVCAAAmXhL5dUIAAJoVFPl1QgAAVPEU+XVCAACChBf5dUIAAPY7Gfl1QgAAavMa+XVCAAAkzxv5dUIAAAw+H/l1QgAA0MFe+XVCAACKnV/5dUIAAObDZPl1QgAAcH1s+XVCAABY7G/5dUIAAIZ/cvl1QgAA3NUB+nVCAAAKaQT6dUIAAGQAE/p1QgAAhKpX+nVCAADcbEv7dUIAAJZITPt1QgAAxNtO+3VCAABssKT7dUIAAFQfqPt1QgAAxkez+3VCAAAWFPH7dUIAAIrL8vt1QgAARKfz+3VCAADm8ff7dUIAAM5g+/t1QgAAQhj9+3VCAAC2z/77dUIAAHCr//t1QgAA5GIB/HVCAACePgL8dUIAAFgaA/x1QgAAEvYD/HVCAADM0QT8dUIAAIatBfx1QgAASjFF/HVCAAAYgFX8dUIAABw1jP11QgAA1hCN/XVCAABKyI79dUIAAASkj/11QgAAMjeS/XVCAACMzqD9dUIAAEaqof11QgAATDTz/XVCAAD4Jjb+dUIAAGpPQf51QgAAxnVG/nVCAAAczNX+dUIAANan1v51QgAAFtnN/3VCAAAs29P/dUIAAIgB2f91QgAAQt3Z/3VCAABY39//dUIAABK74P91QgAAHGMfAHZCAABK9iEAdkIAAF5pMQB2QgAAfhN2AHZCAADaOXsAdkIAAB7PgwB2QgAA+FTJAHZCAACyMMoAdkIAACboywB2QgAA4MPMAHZCAACan80AdkIAAFR7zgB2QgAADlfPAHZCAAA86tEAdkIAALCh0wB2QgAAan3UAHZCAAAkWdUAdkIAAN401gB2QgAAmBDXAHZCAABS7NcAdkIAAFyUFgF2QgAAiJgiAXZCAACcxQ0CdkIAAIQ0EQJ2QgAAPhASAnZCAAD46xICdkIAAGyjFAJ2QgAAJn8VAnZCAADgWhYCdkIAAJo2FwJ2QgAAVBIYAnZCAAAO7hgCdkIAAIKlGgJ2QgAA9lwcAnZCAAD+dWQCdkIAAObkZwJ2QgAAnjFyAnZCAAAyk7gCdkIAAI65vQJ2QgAAvEzAAnZCAAB2KMECdkIAADAEwgJ2QgAAGHPFAnZCAADSTsYCdkIAANz2BAN2QgAA2mcOA3ZCAAA2jhMDdkIAANjYFwN2QgAABmwaA3ZCAACcXFcDdkIAAFY4WAN2QgAAEBRZA3ZCAADK71kDdkIAAITLWgN2QgAAPqdbA3ZCAAD4glwDdkIAALJeXQN2QgAAbDpeA3ZCAAAmFl8DdkIAAODxXwN2QgAAms1gA3ZCAABUqWEDdkIAAMhgYwN2QgAAgjxkA3ZCAAA8GGUDdkIAAGqrZwN2QgAAxtFsA3ZCAACWaU8EdkIAAFBFUAR2QgAACiFRBHZCAACU2lgEdkIAAMJtWwR2QgAA/qP3BHZCAABKUkgFdkIAAAQuSQV2QgAAvglKBXZCAABIw1EFdkIAAKTpVgV2QgAAHiuqBXZCAABMvqwFdkIAAErpkQZ2QgAABMWSBnZCAAC+oJMGdkIAAHh8lAZ2QgAAMliVBnZCAADsM5YGdkIAAKYPlwZ2QgAAYOuXBnZCAAAax5gGdkIAAEhamwZ2QgAAAjacBnZCAAC8EZ0GdkIAAOqknwZ2QgAATFX2BnZCAABch4YHdkIAAOzK3wd2QgAA0qrsB3ZCAADsYSkJdkIAABhmNQl2QgAAxFh4CXZCAADy63oJdkIAAKzHewl2QgAAZqN8CXZCAAAgf30JdkIAAJxPxwl2QgAAUg3bCXZCAAAM6dsJdkIAAPxwJwp2QgAA0ANlC3ZCAACK32ULdkIAAES7Zgt2QgAA/pZnC3ZCAAByTmkLdkIAACwqagt2QgAAoOFrC3ZCAABavWwLdkIAAIhQbwt2QgAAcL9yC3ZCAAAqm3MLdkIAABIKdwt2QgAAHLK1C3ZCAADWjbYLdkIAAEYnywt2QgAA3BcIDHZCAACW8wgMdkIAAFDPCQx2QgAAfmIMDHZCAAA4Pg0MdkIAAKz1Dgx2QgAAIK0QDHZCAADaiBEMdkIAAPCKFwx2QgAAHh4aDHZCAACcfVoMdkIAAFZZWwx2QgAAhOxdDHZCAAA+yF4MdkIAALJ/YAx2QgAAbFthDHZCAAAmN2IMdkIAAJruYwx2QgAAVMpkDHZCAAAOpmUMdkIAAMiBZgx2QgAAgl1nDHZCAAA8OWgMdkIAAPYUaQx2QgAAsPBpDHZCAABqzGoMdkIAACSoawx2QgAA3oNsDHZCAADcrlENdkIAAPKwVw12QgAACLNdDXZCAADwIWENdkIAAExIZg12QgAA+DqpDXZCAACyFqoNdkIAAGzyqg12QgAAJs6rDXZCAAAOPa8NdkIAADzQsQ12QgAA9quyDXZCAACwh7MNdkIAAGpjtA12QgAADK64DXZCAADGibkNdkIAABZW9w12QgAAKskGDnZCAABYXAkOdkIAAIbvCw52QgAAHOBIDnZCAADWu0kOdkIAAEZVXg52QgAArCOiDnZCAAAg26MOdkIAANq2pA52QgAANt2pDnZCAACWuOUPdkIAAApw5w92QgAAxEvoD3ZCAAB+J+kPdkIAAKy66w92QgAA2k3uD3ZCAACUKe8PdkIAAHyY8g92QgAANnTzD3ZCAACqK/UPdkIAAAZS+g92QgAAJvw+EHZCAADeSEkQdkIAAJgkShB2QgAAFoSKEHZCAAC4zo4QdkIAAOZhkRB2QgAAoD2SEHZCAACIrJUQdkIAALY/mBB2QgAApDjtEHZCAAAY8O4QdkIAAIrS1RF2QgAAttbhEXZCAABYIeYRdkIAADKnKxJ2QgAA7IIsEnZCAAC8YDMSdkIAAF6rNxJ2QgAARho7EnZCAAA4MX0SdkIAAHzGhRJ2QgAAksiLEnZCAACccMoSdkIAAD67zhJ2QgAA+JbPEnZCAACyctASdkIAAGxO0RJ2QgAA4AXTEnZCAAAQvxUUdkIAAMgLIBR2QgAA3g0mFHZCAACY6SYUdkIAAFxtZhR2QgAA0CRoFHZCAABE3GkUdkIAAP63ahR2QgAAuJNrFHZCAAByb2wUdkIAACxLbRR2QgAA5iZuFHZCAABa3m8UdkIAAM6VcRR2QgAAQk1zFHZCAAD8KHQUdkIAALYEdRR2QgAAcOB1FHZCAAAqvHYUdkIAAOSXdxR2QgAAnnN4FHZCAABYT3kUdkIAABIrehR2QgAAzAZ7FHZCAACG4nsUdkIAABzTuBR2QgAA1q65FHZCAACQiroUdkIAAEpmuxR2QgAABEK8FHZCAAB4+b0UdkIAADLVvhR2QgAA7LC/FHZCAACmjMAUdkIAAGBowRR2QgAA1B/DFHZCAAC8jsYUdkIAAEZIzhR2QgAAlhQMFXZCAAA4XxAVdkIAAGbyEhV2QgAAIM4TFXZCAAAePx0VdkIAAFJccRV2QgAA3M9UFnZCAABQh1YWdkIAAApjVxZ2QgAAxD5YFnZCAAB+GlkWdkIAAPLRWhZ2QgAAlBxfFnZCAADCr2EWdkIAANixZxZ2QgAABkVqFnZCAAAQ7agWdkIAAMrIqRZ2QgAAJu+uFnZCAADgyq8WdkIAAJqmsBZ2QgAADl6yFnZCAADIObMWdkIAAIIVtBZ2QgAAPPG0FnZCAAD2zLUWdkIAALCothZ2QgAAJGC4FnZCAABS87oWdkIAAAzPuxZ2QgAAxqq8FnZCAABcm/kWdkIAABZ3+hZ2QgAAdphaF3ZCAABeB14XdkIAANK+Xxd2QgAAjJpgF3ZCAADcZp4XdkIAAB5tsBd2QgAA1nOWGHZCAACQT5cYdkIAAEYNqxh2QgAAULXpGHZCAAB8ufUYdkIAADwfSBl2QgAAxthPGXZCAABcyYwZdkIAABaljRl2QgAA0ICOGXZCAACKXI8ZdkIAAEQ4kBl2QgAA/hORGXZCAAByy5IZdkIAAM7xlxl2QgAAhj6iGXZCAAAaoOgZdkIAAEak9Bl2QgAAHMYoG3ZCAADWoSkbdkIAAJB9Kht2QgAASlkrG3ZCAAC+EC0bdkIAAHjsLRt2QgAAMsguG3ZCAADsoy8bdkIAAKZ/MBt2QgAAYFsxG3ZCAAAaNzIbdkIAANQSMxt2QgAAju4zG3ZCAADwnoobdkIAAAahkBt2QgAAspPTG3ZCAADgJtYbdkIAAJoC1xt2QgAADCviG3ZCAADGBuMbdkIAALgdJRx2QgAAWmgpHHZCAAAStTMcdkIAABDgGB12QgAAyrsZHXZCAAA+cxsddkIAAEZp0R12QgAACu0QHnZCAABmExYedkIAAAheGh52QgAANvEcHnZCAACqqB4edkIAAFabYR52QgAAsDJwHnZCAAAk6nEedkIAAJihcx52QgAAxjR2HnZCAABOGWMfdkIAAN5cvB92QgAAHCJPIHZCAADW/U8gdkIAAEq1USB2QgAABJFSIHZCAAB4SFQgdkIAAOz/VSB2QgAApttWIHZCAAAak1ggdkIAAI5KWiB2QgAAdrldIHZCAAAwlV4gdkIAAKRMYCB2QgAAGARiIHZCAADS32IgdkIAAIy7YyB2QgAARpdkIHZCAAAKG6QgdkIAAH7SpSB2QgAArGWoIHZCAAAYm6shdkIAAH5p7yF2QgAA8JH6IXZCAACchD0idkIAAFZgPiJ2QgAASnouJHZCAAAEVi8kdkIAAHgNMSR2QgAA7MQyJHZCAACmoDMkdkIAABpYNSR2QgAA1DM2JHZCAACODzckdkIAAKQRPSR2QgAA0qQ/JHZCAABGXEEkdkIAAJYofyR2QgAAbJDXJHZCAACCkt0kdkIAAAxM5SR2QgAAxifmJHZCAACgrSsldkIAAJ4eNSV2QgAAWPo1JXZCAACcSRomdkIAAMrcHCZ2QgAAhLgdJnZCAAA+lB4mdkIAAGwnISZ2QgAAJgMiJnZCAADg3iImdkIAAJq6IyZ2QgAAVJYkJnZCAAAOciUmdkIAAMhNJiZ2QgAAgiknJnZCAAA8BSgmdkIAAPbgKCZ2QgAAsLwpJnZCAABqmComdkIAACR0KyZ2QgAA3k8sJnZCAACYKy0mdkIAAFIHLiZ2QgAADOMuJnZCAADGvi8mdkIAAOZodCZ2QgAAEm2AJnZCAADMSIEmdkIAAIYkgiZ2QgAASqjBJnZCAAAEhMImdkIAALzQzCZ2QgAAXhvRJnZCAAAY99EmdkIAAIyu0yZ2QgAARorUJnZCAADcehEndkIAAJZWEid2QgAAfsUVJ3ZCAAA4oRYndkIAAKrJISd2QgAAZKUiJ3ZCAADEgF4odkIAAHzNaCh2QgAAEC+vKHZCAABCvQwpdkIAACosECl2QgAAEpsTKXZCAACGUhUpdkIAAI5rXSl2QgAAjgKnKnZCAACMc7AqdkIAAJylQCt2QgAAyjhDK3ZCAAA+8EQrdkIAAPjLRSt2QgAAsqdGK3ZCAABsg0crdkIAAA7OSyt2QgAAgoVNK3ZCAAAMP1UrdkIAAMYaVit2QgAAXAuTK3ZCAADQwpQrdkIAAIqelSt2QgAA5DWkK3ZCAADUve8rdkIAAIwK+it2QgAARub6K3ZCAAAWft0sdkIAAHAV7Cx2QgAA7OU1LXZCAACOMDotdkIAALzDPC12QgAAMHs+LXZCAADE3IQtdkIAAJIrlS12QgAAmLXmLXZCAAC4XysudkIAAHI7LC52QgAAWqovLnZCAABwrDUudkIAAIauOy52QgAAPrUhL3ZCAADQh3EvdkIAAIpjci92QgAARD9zL3ZCAAD+GnQvdkIAACyudi92QgAAFB16L3ZCAABCsHwvdkIAAJ7WgS92QgAAWLKCL3ZCAAASjoMvdkIAAIZFhS92QgAAvoDGL3ZCAABQUxYwdkIAAAovFzB2QgAAxAoYMHZCAAB+5hgwdkIAAPAOJDB2QgAAquokMHZCAACyA20wdkIAAGpQdzB2QgAA3gd5MHZCAAAKxmAxdkIAAMShYTF2QgAAHjlwMXZCAAAGqHMxdkIAAIQHtDF2QgAAJlK4MXZCAACaCboxdkIAAPYvvzF2QgAAXP4CMnZCAACKkQUydkIAAERtBjJ2QgAAuCQIMnZCAACgkwsydkIAAJ4EFTJ2QgAAhnMYMnZCAADWP1YydkIAAJAbVzJ2QgAASvdXMnZCAAB4iloydkIAADJmWzJ2QgAA7EFcMnZCAACmHV0ydkIAAGD5XTJ2QgAA1LBfMnZCAAC8H2MydkIAAHb7YzJ2QgAA6rJlMnZCAADSIWkydkIAAFCBqTJ2QgAA2jqxMnZCAACQsqAzdkIAAEqOoTN2QgAABGqiM3ZCAAB4IaQzdkIAAOzYpTN2QgAAprSmM3ZCAABgkKczdkIAABpsqDN2QgAA1EepM3ZCAACOI6ozdkIAABjdsTN2QgAARnC0M3ZCAADYQgQ0dkIAAJIeBTR2QgAAXCyWNHZCAAAWCJc0dkIAANDjlzR2QgAA/OejNHZCAADU3vI0dkIAAAJy9TR2QgAAHCkyNnZCAACQ4DM2dkIAAEq8NDZ2QgAA7AY5NnZCAAC85D82dkIAAJjW6TZ2QgAAFKczN3ZCAACIXjU3dkIAAFZnITh2QgAAyh4jOHZCAACE+iM4dkIAAPixJTh2QgAAJkUoOHZCAABSSTQ4dkIAAFjThTh2QgAAhmaIOHZCAADWMsY4dkIAAJAOxzh2QgAASurHOHZCAAB4fco4dkIAAOw0zDh2QgAAGsjOOHZCAADqpdU4dkIAADZUJjl2QgAAbABxOXZCAACcubM6dkIAABBxtTp2QgAAUnfHOnZCAAAMU8g6dkIAAJbGqzt2QgAACn6tO3ZCAABmpLI7dkIAAEyEvzt2QgAAxPD3PHZCAAA4qPk8dkIAAPKD+jx2QgAACIYAPXZCAAA2GQM9dkIAAGSsBT12QgAADhBSPXZCAADe7Vg9dkIAAFxNmT12QgAASLf3PXZCAAAyTDs/dkIAALwFQz92QgAApHRGP3ZCAACWi4g/dkIAAFBniT92QgAAVGLkP3ZCAACC9eY/dkIAAAyv7j92QgAAmh0tQXZCAABcEnZBdkIAANDJd0F2QgAAiqV4QXZCAABEgXlBdkIAAP5cekF2QgAAuDh7QXZCAAByFHxBdkIAAKCnfkF2QgAA/M2DQXZCAAC2qYRBdkIAABLQiUF2QgAAzKuKQXZCAACGh4tBdkIAAPLfIEJ2QgAAlColQnZCAACqLCtCdkIAALC2fEJ2QgAAxriCQnZCAABWtrdDdkIAAMptuUN2QgAAPiW7Q3ZCAAAUjRNEdkIAAM5oFER2QgAA/PsWRHZCAAAS/hxEdkIAAIa1HkR2QgAAlueuRHZCAADEerFEdkIAAPINtER2QgAA2O3ARHZCAAAGgcNEdkIAAErQp0V2QgAAdtSzRXZCAADcovdFdkIAAAo2+kV2QgAAlO8BRnZCAAAUu6ZGdkIAAM6Wp0Z2QgAAhuOxRnZCAADssfVGdkIAABpF+EZ2QgAAWOf4R3ZCAADMnvpHdkIAAFYS3kh2QgAAyDrpSHZCAACCFupIdkIAAGqF7Uh2QgAAKus/SXZCAABYfkJJdkIAAMw1REl2QgAA+PMrSnZCAADI0TJKdkIAAAxnO0p2QgAAxkI8SnZCAAAWD3pKdkIAAEIThkp2QgAAKoKJSnZCAACGqI5KdkIAAByZy0p2QgAA1nTMSnZCAACQUM1KdkIAAEoszkp2QgAAvFTZSnZCAAB2MNpKdkIAANz+HUt2QgAA2OAwS3ZCAACSvDFLdkIAAEyYMkt2QgAABnQzS3ZCAAD4inVLdkIAAMbZhUt2QgAAlnFoTHZCAADEBGtMdkIAAHxRdUx2QgAATC98THZCAAAGC31MdkIAAFbXukx2QgAAELO7THZCAADKjrxMdkIAAD5Gvkx2QgAA+CG/THZCAACy/b9MdkIAACa1wUx2QgAA4JDCTHZCAACabMNMdkIAAFRIxEx2QgAADiTFTHZCAABcYQxNdkIAANAYDk12QgAAivQOTXZCAAC4hxFNdkIAAHjtY012QgAARjx0TXZCAACOhrNOdkIAAPLFAE92QgAArKEBT3ZCAADKvE9PdkIAAIoiok92QgAALG2mT3ZCAABaAKlPdkIAAI4d/U92QgAApB8DUHZCAABGagdQdkIAAOxpQlF2QgAARCw2UnZCAAC44zdSdkIAAEKdP1J2QgAAnO4pU3ZCAAA+OS5TdkIAALLwL1N2QgAAml8zU3ZCAADGYz9TdkIAABYwfVN2QgAA0At+U3ZCAABEw39TdkIAALh6gVN2QgAAtuuKU3ZCAAASEpBTdkIAAIbJkVN2QgAAXsDgU3ZCAADEjiRUdkIAANqQKlR2QgAA2AE0VHZCAACS3TRUdkIAABA9dVR2QgAAVNJ9VHZCAADG+ohUdkIAANy2alV2QgAA8rhwVXZCAABk4XtVdkIAAAYsgFV2QgAAamvNVXZCAABcgg9WdkIAABZeEFZ2QgAA0DkRVnZCAABE8RJWdkIAABJAI1Z2QgAAhvckVnZCAACQNq1XdkIAAATurld2QgAA7FyyV3ZCAACmOLNXdkIAAGAUtFd2QgAA1Mu1V3ZCAACOp7ZXdkIAAEiDt1d2QgAAAl+4V3ZCAAC8OrlXdkIAAHYWuld2QgAAMPK6V3ZCAADqzbtXdkIAAKSpvFd2QgAAXoW9V3ZCAAAYYb5XdkIAANI8v1d2QgAAjBjAV3ZCAABG9MBXdkIAABACUlh2QgAAyt1SWHZCAACEuVNYdkIAAD6VVFh2QgAA+HBVWHZCAACyTFZYdkIAAODfWFh2QgAAmrtZWHZCAAAOc1tYdkIAAPbhXlh2QgAAsL1fWHZCAAAkdWFYdkIAAMa/ZVh2QgAAHK0+WnZCAACQZEBadkIAAEpAQVp2QgAAvvdCWnZCAACO1UladkIAAAKNS1p2QgAA6vtOWnZCAABGIlRadkIAAAqmk1p2QgAAxIGUWnZCAAB+XZVadkIAADg5llp2QgAA8hSXWnZCAACE5+ZadkIAACYy61p2QgAAVMXtWnZCAABqx/NadkIAAAwS+Fp2QgAAxu34WnZCAAAsvDxbdkIAAM4GQVt2QgAAQr5CW3ZCAABYwEhbdkIAAIZTS1t2QgAAhH4wXHZCAAD4NTJcdkIAAOCkNVx2QgAAgu85XHZCAAA8yzpcdkIAACQ6Plx2QgAA3hU/XHZCAACWHCVddkIAAFD4JV12QgAAxK8nXXZCAABkazVddkIAANgiN112QgAACmtwXnZCAAA2b3xedkIAAGQCf152QgAAhKzDXnZCAADGstVedkIAAIo2FV92QgAARBIWX3ZCAAC4yRdfdkIAAHKlGF92QgAALIEZX3ZCAADOyx1fdkIAACryIl92QgAAWIUlX3ZCAACGGChfdkIAAAR4aF92QgAAvlNpX3ZCAAAyC2tfdkIAAOzma192QgAA0sZ4X3ZCAAAKArpfdkIAADiVvF92QgAA2t/AX3ZCAADw4cZfdkIAANhQyl92QgAATAjMX3ZCAADcBQFhdkIAAJbhAWF2QgAAUL0CYXZCAAAKmQNhdkIAANjnE2F2QgAABnsWYXZCAAD2AmJhdkIAAAwFaGF2QgAA1hL5YXZCAAAEpvthdkIAABqoAWJ2QgAASDsEYnZCAAACFwVidkIAAHbOBmJ2QgAAXj0KYnZCAADS9AtidkIAAIzQDGJ2QgAARqwNYnZCAAC4jvRidkIAAFhKAmN2QgAABqmpY3ZCAACECOpjdkIAAD7k6mN2QgAAJlPuY3ZCAACaCvBjdkIAAN6f+GN2QgAAhJ8zZXZCAACYEkNldkIAAHKYiGV2QgAAzr6NZXZCAABYeJVldkIAAIYLmGV2QgAA0rnoZXZCAABGcepldkIAAAbXPGZ2QgAAVqN6ZnZCAAAQf3tmdkIAAD4SfmZ2QgAA3s2LZnZCAABShY1mdkIAAMY8j2Z2QgAA3PhwZ3ZCAAAKjHNndkIAAAZuhmd2QgAAEBbFZ3ZCAADK8cVndkIAAAz412d2QgAAuOoaaHZCAABaNR9odkIAAIY5K2h2QgAAHCpoaHZCAAAEmWtodkIAAHbBdmh2QgAA6nh4aHZCAADUDbxpdkIAALKOXGp2QgAADCZranZCAAAEx/5qdkIAAKYRA2t2QgAA1KQFa3ZCAADSFQ9rdkIAAIzxD2t2QgAARs0Qa3ZCAABE+PVrdkIAAOZC+mt2QgAAoB77a3ZCAABCaf9rdkIAAJ6PBGx2QgAA1spFbHZCAAACz1FsdkIAAHaGU2x2QgAAGNFXbHZCAABGZFpsdkIAAH6fm2x2QgAA2DaqbHZCAAAQcutsdkIAAIQp7Wx2QgAAJnTxbHZCAABcIDxtdkIAABb8PG12QgAA0Nc9bXZCAABEjz9tdkIAAP5qQG12QgAAzkhHbXZCAAAqb0xtdkIAAIaVUW12QgAAmsI8bnZCAABSD0dudkIAAAzrR252QgAAtk6UbnZCAADk4ZZudkIAAJ69l252QgAAhiybbnZCAADW+NhudkIAAKbW3252QgAAdrTmbnZCAAAKFi1vdkIAAGY8Mm92QgAAqtE6b3ZCAADYZD1vdkIAALLqgm92QgAAbMaDb3ZCAACwW4xvdkIAAMZdkm92QgAArPd6cHZCAABOQn9wdkIAADaxgnB2QgAAZESFcHZCAABMs4hwdkIAAJrwz3B2QgAADqjRcHZCAACCX9NwdkIAAGrO1nB2QgAADBnbcHZCAADG9NtwdkIAAHLnHnF2QgAAkAJtcXZCAAB++8FxdkIAAMKQynF2QgAAHrfPcXZCAACSbtFxdkIAAFaJWnN2QgAAEGVbc3ZCAACEHF1zdkIAABx5/nN2QgAAkDAAdHZCAACGHwt1dkIAAJDHSXV2QgAAAvBUdXZCAABUKPd1dkIAABYdQHZ2QgAA0PhAdnZCAACK1EF2dkIAAESwQnZ2QgAA/otDdnZCAADKBTl3dkIAAFzYiHd2QgAA0I+Kd3ZCAABy2o53dkIAAMxxnXd2QgAAhk2ed3ZCAABQWy94dkIAAMQSMXh2QgAAfu4xeHZCAABmXTV4dkIAACA5Nnh2QgAA2hQ3eHZCAADYhUB4dkIAAMqcgnh2QgAAJsOHeHZCAACaeol4dkIAAMgNjHh2QgAAsHyPeHZCAADcOnd5dkIAAFDyeHl2QgAABrCMeXZCAACyos95dkIAAGx+0Hl2QgAAJlrReXZCAACaEdN5dkIAAFTt03l2QgAAUl7deXZCAAD8wSl6dkIAACpVLHp2QgAA5DAtenZCAAASxC96dkIAAEhwenp2QgAACNbMenZCAADwRNB6dkIAAKog0Xp2QgAAZPzRenZCAAB4Kb17dkIAAGCYwHt2QgAAvL7Fe3ZCAAAwdsd7dkIAAEZ4zXt2QgAAlkQLfHZCAABQIAx8dkIAAKxGEXx2QgAAlLUUfHZCAABOkRV8dkIAAGSTG3x2QgAABt4ffHZCAABEo7J8dkIAAObttnx2QgAAFIG5fHZCAABCFLx8dkIAACqDv3x2QgAAkFEDfXZCAAAECQV9dkIAAL7kBX12QgAAMpwHfXZCAADsdwh9dkIAAKZTCX12QgAASJ4NfXZCAAACeg59dkIAAOroEX12QgAApMQSfXZCAAAYfBR9dkIAANJXFX12QgAAjDMWfXZCAABcy/h9dkIAALjx/X12QgAA5oQAfnZCAACgYAF+dkIAAFo8An52QgAAzvMDfnZCAACWcp5+dkIAAJTjp352QgAACJupfnZCAAAena9+dkIAABC08X52QgAAyo/yfnZCAACabfl+dkIAALBv/352QgAAaksAf3ZCAABE0UV/dkIAAKD3Sn92QgAAWtNLf3ZCAAAUr0x/dkIAAM6KTX92QgAAWERVf3ZCAAASIFZ/dkIAAIQCPYB2QgAAJL5KgHZCAADGCE+AdkIAAATO4YB2QgAAeIXjgHZCAADsPOWAdkIAABrQ54B2QgAA1KvogHZCAAAw0u2AdkIAAOqt7oB2QgAApInvgHZCAAAYQfGAdkIAAIz48oB2QgAAlqAxgXZCAAAgWjmBdkIAAB7LQoF2QgAATF5FgXZCAAAGOkaBdkIAAIIKkIF2QgAA9sGRgXZCAACwnZKBdkIAAN4wlYF2QgAAOIJ/gnZCAADyXYCCdkIAAKw5gYJ2QgAAfBeIgnZCAACqqoqCdkIAAMpUz4J2QgAAxjbignZCAABwmi6DdkIAACp2L4N2QgAAdiSAg3ZCAACMJoaDdkIAAHyu0YN2QgAANorSg3ZCAADwZdODdkIAAKpB1IN2QgAAZB3Vg3ZCAAAe+dWDdkIAAAZo2YN2QgAA7AHChHZCAACm3cKEdkIAAI5MxoR2QgAASCjHhHZCAAACBMiEdkIAALzfyIR2QgAAGAbOhHZCAABmQxWFdkIAADYhHIV2QgAA2GsghXZCAACSRyGFdkIAAAb/IoV2QgAAsvFlhXZCAABszWaFdkIAAA4Ya4V2QgAAsGJvhXZCAADGZHWFdkIAAHDIwYV2QgAA5H/DhXZCAACeW8SFdkIAAFg3xYV2QgAAhsrHhXZCAACmdAyGdkIAAGBQDYZ2QgAASL8QhnZCAAC8dhKGdkIAAEYwGoZ2QgAA1J5Yh3ZCAAACMluHdkIAANIPYod2QgAAjOtih3ZCAABGx2OHdkIAAMi4SIl2QgAAJN9NiXZCAAByHJWJdkIAAObTlol2QgAAWPyhiXZCAAAS2KKJdkIAAMyzo4l2QgAAUJ01inZCAAB8oUGKdkIAAAZbSYp2QgAAUgmainZCAADGwJuKdkIAAFA0f4t2QgAAxOuAi3ZCAAB+x4GLdkIAAPJ+g4t2QgAABvKSi3ZCAABcSCKMdkIAALhuJ4x2QgAALCYpjHZCAACITC6MdkIAAEIoL4x2QgAAvGmCjHZCAADY9dmMdkIAAEyt24x2QgAAkPy/jXZCAADYjCOOdkIAAJwQY452QgAAshJpjnZCAADQLbeOdkIAACrFxY52QgAAao0GkXZCAAAkaQeRdkIAAFoVUpF2QgAAEmJckXZCAADMPV2RdkIAAJzVP5J2QgAAJABRknZCAAD+hZaSdkIAAByh5JJ2QgAA1nzlknZCAACQWOaSdkIAAAQQ6JJ2QgAAvuvoknZCAACmWuySdkIAAAZ8TJN2QgAA3J2AlHZCAACWeYGUdkIAAFBVgpR2QgAACjGDlHZCAAB+6ISUdkIAADjEhZR2QgAArHuHlHZCAAAgM4mUdkIAAJTqipR2QgAATsaLlHZCAAAIooyUdkIAAMJ9jZR2QgAAfFmOlHZCAAA2NY+UdkIAAPAQkJR2QgAAquyQlHZCAABkyJGUdkIAAB6kkpR2QgAA2H+TlHZCAACSW5SUdkIAAEw3lZR2QgAABhOWlHZCAAC4jyqVdkIAABS2L5V2QgAAWEs4lXZCAADMAjqVdkIAAIbeOpV2QgAAkIZ5lXZCAADsrH6VdkIAAGBkgJV2QgAA1BuClXZCAAB2ZoaVdkIAAJYQy5V2QgAAZu7RlXZCAAAgytKVdkIAAEzO3pV2QgAAkB3DlnZCAADsQ8iWdkIAAOZQwJd2QgAAhgzOl3ZCAADW2AuYdkIAAKa2Eph2QgAASAEXmHZCAAAwcBqYdkIAAEZyIJh2QgAAXC4CmXZCAACKwQSZdkIAAJ40FJl2QgAAhqMXmXZCAACW1aeZdkIAAH5Eq5l2QgAAZCS4mXZCAACSt7qZdkIAABahTJp2QgAA/IBZmnZCAACGOmGadkIAABBFjpx2QgAAbGuTnHZCAABq3JycdkIAAET5K552QgAA/tQsnnZCAAC4sC2edkIAAHKMLp52QgAA5kMwnnZCAACG/z2edkIAAEqDfZ52QgAASPSGnnZCAAAC0IeedkIAALyriJ52QgAAMGOKnnZCAAAY0o2edkIAADKJyp92QgAA6tXUn3ZCAAB8qCSgdkIAAEyGK6B2QgAAXE8FonZCAABYMRiidkIAABy1V6J2QgAA6gNoonZCAADScmuidkIAAIxObKJ2QgAA+D1LpHZCAAD2rlSkdkIAAARS7qR2QgAAvi3vpHZCAAAy5fCkdkIAAF7p/KR2QgAADteapXZCAACCjpyldkIAADxqnaV2QgAAav2fpXZCAAAk2aCldkIAAN60oaV2QgAAxiOlpXZCAAA+kN2mdkIAAPhr3qZ2QgAAskffpnZCAACatuKmdkIAAFSS46Z2QgAAPAHnpnZCAAD23OemdkIAAGqU6aZ2QgAA3kvrpnZCAACYJ+ymdkIAAAzf7aZ2QgAAxrrupnZCAABaHDWndkIAACr6O6d2QgAA5NU8p3ZCAAAC8YqndkIAADCEjad2QgAAHKjHqHZCAACQX8modkIAAEo7yqh2QgAAGhnRqHZCAAACiNSodkIAALxj1ah2QgAAXq7ZqHZCAAAYitqodkIAAEYd3ah2QgAAwu0mqXZCAABMpy6pdkIAAAaDL6l2QgAA9gp7qXZCAABK0hOqdkIAADJBF6p2QgAA1IsbqnZCAABE3wurdkIAAHJyDqt2QgAALE4Pq3ZCAAD8KxardkIAALYHF6t2QgAAKr8Yq3ZCAACedhqrdkIAABIuHKt2QgAAhuUdq3ZCAAAc1lqrdkIAAF7cbKt2QgAARktwq3ZCAAAKz6+rdkIAADhisqt2QgAArBm0q3ZCAADYHcCrdkIAAAaxwqt2QgAAhBADrHZCAADgNgisdkIAAJoSCax2QgAAVO4JrHZCAAAOygqsdkIAAMilC6x2QgAAgoEMrHZCAACwFA+sdkIAAGrwD6x2QgAAJMwQrHZCAADepxGsdkIAAJiDEqx2QgAAUl8TrHZCAABEdlWsdkIAAA5hVK12QgAAFnqcrXZCAABGeQOudkIAANhLU652QgAAVquTrnZCAAD49ZeudkIAAD6x4K92QgAAJJHtr3ZCAACGQUSwdkIAABwygbB2QgAA1g2CsHZCAABKxYOwdkIAAGboJLJ2QgAACDMpsnZCAAAeNS+ydkIAAJyUb7J2QgAAEExxsnZCAADKJ3KydkIAAIQDc7J2QgAAPt9zsnZCAAD4unSydkIAALKWdbJ2QgAAbHJ2snZCAADgKXiydkIAAJoFebJ2QgAAVOF5snZCAADImHuydkIAAIJ0fLJ2QgAAPFB9snZCAAD2K36ydkIAALAHf7J2QgAAauN/snZCAAAkv4CydkIAAN6agbJ2QgAAmHaCsnZCAABSUoOydkIAAAwuhLJ2QgAAxgmFsnZCAADQscOydkIAAH6ntLR2QgAAOIO1tHZCAAAg8ri0dkIAAGSHwbR2QgAA9lkRtXZCAABamV61dkIAAORSZrV2QgAALJ2ltnZCAABaMKi2dkIAAIjDqrZ2QgAAZLVUt3ZCAADYA6C4dkIAAJLfoLh2QgAA3o3xuHZCAABMUuu5dkIAAHaB3Lp2QgAAbJN5u3ZCAADgSnu7dkIAAKSrKLx2QgAAXocpvHZCAACMsXW9dkIAAEaNdr12QgAAZje7vXZCAADgeA6+dkIAAN7pF752QgAAUqEZvnZCAADgD1i/dkIAACSlYL92QgAAzgitv3ZCAACkcAXAdkIAAPg3nsB2QgAAPM2mwHZCAAAMq63AdkIAAMaGrsB2QgAAlh6RwXZCAADEsZPBdkIAAKwgl8F2QgAAZvyXwXZCAABkbaHBdkIAAPjO58F2QgAAsqrowXZCAADgPevBdkIAAJa12sJ2QgAAUCglxHZCAADw4zLEdkIAAKq/M8R2QgAATAo4xHZCAADGS4vEdkIAAFw8yMR2QgAAQhzVxHZCAACGsd3EdkIAALj5FsZ2QgAActUXxnZCAABIPXDGdkIAAOqHdMZ2QgAAXj92xnZCAABGrnnGdkIAACA0v8Z2QgAA2g/AxnZCAACU68DGdkIAAHxaxMZ2QgAAHqXIxnZCAABSwhzHdkIAABS3Zcd2QgAAht9wx3ZCAADGEGjIdkIAAATW+sh2QgAAMmn9yHZCAAACRwTJdkIAAJaoSsl2QgAA3jiuyXZCAADCQ6DKdkIAAKqyo8p2QgAA3s/3ynZCAABEnjvLdkIAANThlMt2QgAAvFCYy3ZCAABem5zLdkIAABh3nct2QgAA0lKey3ZCAAB4UtnMdkIAAEgw4Mx2QgAAvOfhzHZCAACq4DbNdkIAAMZsjs12QgAA8DLJz3ZCAADYoczPdkIAAAY1z892QgAAVgEN0HZCAABWmFbRdkIAAPjiWtF2QgAAmi1f0XZCAACIJrTRdkIAAHYfCdJ2QgAATIdh0nZCAABSEbPSdkIAAMbItNJ2QgAAEg5P1HZCAACeGyrYdkIAAEbwf9h2QgAAIHbF2HZCAABkC87YdkIAAEKMbtl2QgAA4HJh2nZCAABUKmPadkIAAAx3bdp2QgAAHhVi23ZCAABqw7LbdkIAAJhWtdt2QgAAuJdD3XZCAAAsT0XddkIAALYITd12QgAAcORN3XZCAAAwSqDddkIAAEZMpt12QgAAqovz3XZCAABkZ/TddkIAAAay+N12QgAAUveS33ZCAACGFOffdkIAANRRLuB2QgAASAkw4HZCAAB2nDLgdkIAAOpTNOB2QgAAXgs24HZCAABGEYPhdkIAAPB0z+F2QgAA/Ihy4nZCAABqTWzjdkIAAMz9wuN2QgAAAqoN5HZCAADYqK/ldkIAAJKEsOV2QgAABjyy5XZCAABsCvbldkIAACbm9uV2QgAAFN9L5nZCAAB4HpnmdkIAABppneZ2QgAA6kak5nZCAACMkajmdkIAAEZtqeZ2QgAApLnu53ZCAAAYcfDndkIAAEYE8+d2QgAAWva67HZCAABw+MDsdkIAAFhnxOx2QgAAzB7G7HZCAABQKVv2dkIAAGYrYfZ2QgAAlL5j9nZCAACERq/2dkIAAOBstPZ2QgAAaia89nZCAADe3b32dkIAAPIKqfd2QgAAZsKq93ZCAAAGfrj3dkIAABAm9/d2QgAAygH493ZCAAAOlwD4dkIAAN50B/h2QgAALLJO+HZCAAAEqZ34dkIAANL3rfh2QgAAOMbx+HZCAABmWfT4dkIAAPAS/Ph2QgAA2IH/+HZCAAAEQOf5dkIAAGBm7Pl2QgAA0o73+XZCAACWEjf6dkIAAH6BOvp2QgAATl9B+nZCAACyno76dkIAACZWkPp2QgAA4DGR+nZCAACaDZL6dkIAAFTpkvp2QgAAPFiW+nZCAACwD5j6dkIAAGrrmPp2QgAAJMeZ+nZCAADeopr6dkIAAJh+m/p2QgAADDad+nZCAADGEZ76dkIAACzg4fp2QgAAtpnp+nZCAADqtj37dkIAAGCUf/x2QgAAjieC/HZCAABeBYn8dkIAANK8ivx2QgAAjJiL/HZCAABGdIz8dkIAANhG3Px2QgAAkiLd/HZCAABM/t38dkIAAAba3vx2QgAAnMob/XZCAAAmhCP9dkIAAA7zJv12QgAA3tAt/XZCAADGPzH9dkIAAIalg/12QgAA9vhz/nZCAABqsHX+dkIAAFzHt/52QgAA0H65/nZCAAC47bz+dkIAAMxgzP52QgAAHC0K/3ZCAABKwAz/dkIAAF4zHP92QgAARqIf/3ZCAAAKJl//dkIAAPKUYv92QgAA2gNm/3ZCAABOu2f/dkIAAAYIcv92QgAA9o+9/3ZCAABqR7//dkIAAFK2wv92QgAAwgmzAHdCAAA2wbQAd0IAAEzDugB3QgAABp+7AHdCAAASs14Bd0IAAIZqYAF3QgAAqg8AAndCAABk6wACd0IAANiiAgJ3QgAATFoEAndCAAAwZfYCd0IAABjU+QJ3QgAAqqZJA3dCAADq10AEd0IAADCTiQV3QgAA6m6KBXdCAACkSosFd0IAAF4mjAV3QgAAGAKNBXdCAADS3Y0Fd0IAAIy5jgV3QgAARpWPBXdCAACK5HMGd0IAAIhVfQZ3QgAADqtzB3dCAACCYnUHd0IAAMb3fQd3QgAAXOi6B3dCAADQn7wHd0IAALgOwAd3QgAAcurAB3dCAAAsxsEHd0IAAOahwgd3QgAAoH3DB3dCAAAUNcUHd0IAAELIxwd3QgAA/KPIB3dCAAC2f8kHd0IAAHBbygd3QgAAKjfLB3dCAADkEswHd0IAAJ7uzAd3QgAAEqbOB3dCAADMgc8Hd0IAAIZd0Ad3QgAAvAkbCHdCAAB25RsId0IAADDBHAh3QgAA6pwdCHdCAACkeB4Id0IAAF5UHwh3QgAAGDAgCHdCAADSCyEId0IAAHxvbQh3QgAANktuCHdCAADwJm8Id0IAAKoCcAh3QgAAliaqCXdCAABU/QUKd0IAADxsCQp3QgAAJNsMCndCAABcFk4Kd0IAACz0VAp3QgAApjWoCndCAACOpKsKd0IAADDvrwp3QgAA6sqwCndCAACMFbUKd0IAAOzw8At3QgAA1F/0C3dCAAB2qvgLd0IAAEaI/wt3QgAAfsNADHdCAADw60sMd0IAAA4Hmgx3QgAAyOKaDHdCAACCvpsMd0IAAPZ1nQx3QgAADHijDHdCAACK1+MMd0IAAP6O5Qx3QgAAckbnDHdCAABYJvQMd0IAANaFNA13QgAASj02DXdCAAC+9DcNd0IAAOyHOg13QgAAYD88DXdCAAAaGz0Nd0IAANT2PQ13QgAAvGVBDXdCAABGH0kNd0IAAHLdMA53QgAALLkxDndCAACgcDMOd0IAAFpMNA53QgAAFCg1DndCAADOAzYOd0IAAIjfNg53QgAAQrs3DndCAAD8ljgOd0IAALZyOQ53QgAAcE46DndCAAAqKjsOd0IAAOQFPA53QgAAnuE8DndCAABYvT0Od0IAABKZPg53QgAAzHQ/DndCAACGUEAOd0IAAErUfw53QgAA3KbPDndCAADwGd8Od0IAAAYc5Q53QgAAVugiD3dCAADGgTcPd0IAAFxydA93QgAAFk51D3dCAABYVIcPd0IAABIwiA93QgAAhueJD3dCAACco2sQd0IAABBbbRB3QgAAyjZuEHdCAACEEm8Qd0IAAPjJcBB3QgAAsqVxEHdCAAAmXXMQd0IAAA7MdhB3QgAAgoN4EHdCAAA8X3kQd0IAALAWexB3QgAAavJ7EHdCAACYhX4Qd0IAAFJhfxB3QgAADD2AEHdCAADGGIEQd0IAAObCxRB3QgAAWOvQEHdCAAASx9EQd0IAAJAmEhF3QgAAXnUiEXdCAABG5CURd0IAAPLWaBF3QgAACNluEXdCAACcOrURd0IAAE7a2xF3QgAA3GusEndCAAAecr4Sd0IAAAbhwRJ3QgAA3tcQE3dCAADOX1wTd0IAABL1ZBN3QgAAhqxmE3dCAAAaDq0Td0IAAHY0shN3QgAApMe0E3dCAAA4KfsTd0IAAGa8/RN3QgAAIJj+E3dCAACUTwAUd0IAAAgHAhR3QgAAwuICFHdCAAB8vgMUd0IAAPB1BRR3QgAAqlEGFHdCAADY5AgUd0IAAEycChR3QgAABngLFHdCAAAyNvMUd0IAABql9hR3QgAA1ID3FHdCAACOXPgUd0IAAAIU+hR3QgAApF7+FHdCAADS8QAVd0IAAEapAhV3QgAAxAhDFXdCAAAGD1UVd0IAAJjhpBV3QgAAUr2lFXdCAACG2vkVd0IAAELcOhd3QgAAngJAF3dCAAAw1Y8Xd0IAAOqwkBd3QgAAXmiSF3dCAAAYRJMXd0IAAIz7lBd3QgAAlqPTF3dCAADENtYXd0IAAJQU3Rd3QgAAJucsGHdCAADeMzcYd0IAAMaiOhh3QgAAmjV4GXdCAACkuiQad0IAAF6WJRp3QgAAGHImGndCAADSTScad0IAAIwpKBp3QgAARgUpGndCAADK7road0IAAODwwBp3QgAAOLO0G3dCAADGZxccd0IAAMzxaBx3QgAAhs1pHHdCAAACNf0dd0IAALCTpB53QgAAJEumHndCAADeJqced0IAAJgCqB53QgAAUt6oHndCAAAMuqked0IAAMaVqh53QgAAjIVOH3dCAABGYU8fd0IAAP5nNSB3QgAA/Ng+IHdCAACQOoUgd0IAAOxgiiB3QgAA6tGTIHdCAACkrZQgd0IAABhlliB3QgAAjByYIHdCAABG+Jggd0IAADgP2yB3QgAAfKTjIHdCAADGwz0hd0IAAFKjhSJ3QgAAxlqHIndCAAByTcoid0IAAIbA2SJ3QgAApNsnI3dCAADSbiojd0IAAEYmLCN3QgAABox+I3dCAAAOpcYjd0IAAMiAxyN3QgAAglzII3dCAACw78ojd0IAAFI6zyN3QgAAxvHQI3dCAABqYhUld0IAAOYyXyV3QgAAWupgJXdCAAAUxmEld0IAAM6hYiV3QgAAiH1jJXdCAABCWWQld0IAABI3ayV3QgAAzBJsJXdCAACG7mwld0IAADLhryV3QgAAAlYAJ3dCAADc20Und0IAAJa3Rid3QgAANnNUJ3dCAABMdVond0IAAAZRWyd3QgAAytSaJ3dCAAA8/aUnd0IAALC0pyd3QgAAxratJ3dCAACONUgod0IAAKQ3Tih3QgAAksfsKXdCAADMbpIqd0IAACq71yt3QgAA5JbYK3dCAADMBdwrd0IAAIbh3Ct3QgAABEEdLHdCAACO+iQsd0IAAEZHLyx3QgAAlIR2LHdCAAAGrYEsd0IAABBVwCx3QgAAfIrDLXdCAAA2ZsQtd0IAAExoyi13QgAARAleLndCAAASWG4ud0IAAEZ1wi53QgAAfCENL3dCAACSIxMvd0IAABKGATF3QgAACC/oMndCAACckC4zd0IAAFjYkzN3QgAAUuWLNHdCAAAc8xw1d0IAAHaKKzV3QgAAAP4ONndCAAC62Q82d0IAAHS1EDZ3QgAALpERNndCAADobBI2d0IAAKJIEzZ3QgAAXCQUNndCAAAWABU2d0IAANDbFTZ3QgAAircWNndCAABEkxc2d0IAAP5uGDZ3QgAAuEoZNndCAAByJho2d0IAACwCGzZ3QgAA5t0bNndCAACguRw2d0IAAFqVHTZ3QgAAFHEeNndCAADOTB82d0IAAPLxvjZ3QgAAws/FNndCAADwYsg2d0IAADwRGTd3QgAA3lsdN3dCAABEKmE3d0IAAOTlbjd3QgAAkkQWOHdCAAD6oVA4d0IAALR9UTh3QgAAbllSOHdCAAAoNVM4d0IAAOIQVDh3QgAAnOxUOHdCAABWyFU4d0IAABCkVjh3QgAAyn9XOHdCAABKS/w4d0IAAOyVADl3QgAAYE0COXdCAAAaKQM5d0IAANQEBDl3QgAAjuAEOXdCAABIvAU5d0IAALxzBzl3QgAACCJYOXdCAADC/Vg5d0IAAHzZWTl3QgAANrVaOXdCAADwkFs5d0IAAKpsXDl3QgAAZEhdOXdCAAAeJF45d0IAANj/Xjl3QgAAJK6vOXdCAABYywM6d0IAAHh1SDp3QgAA6p1TOndCAAAYMVY6d0IAAHKCQDt3QgAAXuyeO3dCAADCK+w7d0IAAMYmRzx3QgAA3k6NPXdCAACaUM4+d0IAAOQGckB3QgAAWL5zQHdCAAB22cFAd0IAAFaAokJ3QgAAEFyjQndCAABG5VtDd0IAAHKjQ0R3QgAAcBRNRHdCAACGFlNEd0IAAF4NokR3QgAAGOmiRHdCAABGfKVEd0IAAObxjkV3QgAAEo3kRndCAADUgS1Hd0IAAAwxJkl3QgAAkBq4SXdCAABK9rhJd0IAAATSuUl3QgAAvq26SXdCAAB4ibtJd0IAADJlvEl3QgAAYPi+SXdCAAAa1L9Jd0IAANSvwEl3QgAASGfCSXdCAAACQ8NJd0IAALwexEl3QgAAdvrESXdCAAAw1sVJd0IAAKSNx0l3QgAAXmnISXdCAAAYRclJd0IAANIgykl3QgAAjPzKSXdCAABG2MtJd0IAAAY+Hkp3QgAApLtaTHdCAABQRedNd0IAAMT86E13QgAAOLTqTXdCAAB8SfNNd0IAAGS49k13QgAAgtNETndCAAD2ikZOd0IAACQeSU53QgAAxmhNTndCAAAWNYtOd0IAALbwmE53QgAATFWNUHdCAAAkTNxQd0IAANyAVVR3QgAAllxWVHdCAABQOFdUd0IAAAoUWFR3QgAAxO9YVHdCAAB+y1lUd0IAADinWlR3QgAA8oJbVHdCAAB8PGNUd0IAAJzmp1R3QgAAVsKoVHdCAAAQnqlUd0IAAIRVq1R3QgAAsuitVHdCAABsxK5Ud0IAAFQzslR3QgAADg+zVHdCAACCxrRUd0IAADyitVR3QgAAsFm3VHdCAABqNbhUd0IAAN7suVR3QgAAUqS7VHdCAAASCg5Vd0IAAEpFT1V3QgAAHEmWVndCAADWJJdWd0IAAAiz9FZ3QgAAfGr2VndCAAAetfpWd0IAANiQ+1Z3QgAAQlqaV3dCAACcq4RYd0IAAFaHhVh3QgAAFu3XWHdCAAD8zORYd0IAAHCE5lh3QgAAHHcpWXdCAADSND1Zd0IAAGwg1Vl3QgAA3HPFWndCAACc2Rdbd0IAAMpsGlt3QgAAcLJ5W3dCAABKOL9bd0IAAHjLwVt3QgAAMqfCW3dCAADsgsNbd0IAAKZexFt3QgAAYDrFW3dCAAAaFsZbd0IAAI7Nx1t3QgAASKnIW3dCAAAChclbd0IAALxgylt3QgAAdjzLW3dCAAAwGMxbd0IAAOrzzFt3QgAAGIfPW3dCAADSYtBbd0IAAIw+0Vt3QgAARhrSW3dCAABOMxpcd0IAAErPCF13QgAA3KFYXXdCAACyCbFdd0IAAGzlsV13QgAAVFS1XXdCAAA8w7hdd0IAAPaeuV13QgAAala7XXdCAAAkMrxdd0IAAFLFvl13QgAAxnzAXXdCAAAy1VVed0IAAKaMV153QgAAYGhYXndCAAAaRFled0IAALyOXV53QgAAMEZfXndCAADqIWBed0IAANKQY153QgAAjGxkXndCAABcBEdfd0IAALabVV93QgAAnMyHYXdCAACWcMljd0IAAJJS3GN3QgAAxm8wZHdCAABGO9Vkd0IAAI6FFGZ3QgAAfg1gZndCAACsoGJmd0IAAAY4cWZ3QgAAXI4AZ3dCAAAWagFnd0IAAIYDFmd3QgAAQgVXaHdCAAAci5xod0IAANZmnWh3QgAAkEKeaHdCAABKHp9od0IAAAT6n2h3QgAAvtWgaHdCAAB4saFod0IAADKNomh3QgAAqj//aHdCAABkGwBpd0IAAB73AGl3QgAA2NIBaXdCAABMigNpd0IAAAZmBGl3QgAAnO2KandCAABWyYtqd0IAALLvkGp3QgAADhaWandCAADGYqBqd0IAABYv3mp3QgAA0ArfandCAAD+neFqd0IAAHJV42p3QgAALDHkandCAADOe+hqd0IAAFg18Gp3QgAAEhHxandCAAAcuS9rd0IAAFBtzWx3QgAAwpXYbHdCAACqBNxsd0IAABDTH213QgAAPmYibXdCAAAq0IBtd0IAABznwm13QgAAShEPb3dCAAB2FRtvd0IAANzjXm93QgAAfi5jb3dCAAA4CmRvd0IAAHyfbG93QgAABll0b3dCAACcSbFvd0IAAIIpvm93QgAAhiQZcHdCAAAcrJ9xd0IAADKupXF3QgAA1PipcXdCAACW7fJxd0IAAFzdlnJ3QgAALLudcndCAAC2dKVyd0IAAOQHqHJ3QgAAhlKscndC\",\"dtype\":\"float64\",\"order\":\"little\",\"shape\":[3273]},\"value\":{\"__ndarray__\":\"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\",\"dtype\":\"float64\",\"order\":\"little\",\"shape\":[3273]}},\"selected\":{\"id\":\"8575\"},\"selection_policy\":{\"id\":\"8601\"}},\"id\":\"8574\",\"type\":\"ColumnDataSource\"},{\"attributes\":{\"months\":[0,4,8]},\"id\":\"8566\",\"type\":\"MonthsTicker\"},{\"attributes\":{\"line_color\":\"#fc4f30\",\"line_width\":2,\"x\":{\"field\":\"date\"},\"y\":{\"field\":\"value\"}},\"id\":\"8577\",\"type\":\"Line\"},{\"attributes\":{\"click_policy\":\"mute\",\"items\":[{\"id\":\"8573\"},{\"id\":\"8604\"}],\"location\":[0,0],\"title\":\"Variable\"},\"id\":\"8572\",\"type\":\"Legend\"},{\"attributes\":{},\"id\":\"8527\",\"type\":\"SaveTool\"},{\"attributes\":{\"months\":[0,6]},\"id\":\"8567\",\"type\":\"MonthsTicker\"},{\"attributes\":{\"line_color\":\"#30a2da\",\"line_width\":2,\"x\":{\"field\":\"date\"},\"y\":{\"field\":\"value\"}},\"id\":\"8547\",\"type\":\"Line\"},{\"attributes\":{},\"id\":\"8528\",\"type\":\"PanTool\"},{\"attributes\":{},\"id\":\"8568\",\"type\":\"YearsTicker\"},{\"attributes\":{\"mantissas\":[1,2,5],\"max_interval\":500.0,\"num_minor_ticks\":0},\"id\":\"8557\",\"type\":\"AdaptiveTicker\"},{\"attributes\":{},\"id\":\"8529\",\"type\":\"WheelZoomTool\"},{\"attributes\":{},\"id\":\"8569\",\"type\":\"UnionRenderers\"},{\"attributes\":{\"text\":\"Actual Returns vs Strategy Returns - SVM\",\"text_color\":{\"value\":\"black\"},\"text_font_size\":{\"value\":\"12pt\"}},\"id\":\"8511\",\"type\":\"Title\"},{\"attributes\":{},\"id\":\"8515\",\"type\":\"LinearScale\"},{\"attributes\":{\"line_alpha\":0.2,\"line_color\":\"#30a2da\",\"line_width\":2,\"x\":{\"field\":\"date\"},\"y\":{\"field\":\"value\"}},\"id\":\"8549\",\"type\":\"Line\"},{\"attributes\":{\"callback\":null,\"formatters\":{\"@{date}\":\"datetime\"},\"renderers\":[{\"id\":\"8550\"},{\"id\":\"8580\"}],\"tags\":[\"hv_created\"],\"tooltips\":[[\"Variable\",\"@{Variable}\"],[\"date\",\"@{date}{%F %T}\"],[\"value\",\"@{value}\"]]},\"id\":\"8508\",\"type\":\"HoverTool\"},{\"attributes\":{\"overlay\":{\"id\":\"8532\"}},\"id\":\"8530\",\"type\":\"BoxZoomTool\"},{\"attributes\":{},\"id\":\"8543\",\"type\":\"BasicTickFormatter\"},{\"attributes\":{\"source\":{\"id\":\"8544\"}},\"id\":\"8551\",\"type\":\"CDSView\"}],\"root_ids\":[\"8504\"]},\"title\":\"Bokeh Application\",\"version\":\"2.2.3\"}};\n",
       "    var render_items = [{\"docid\":\"8ae01875-6155-4e45-b334-b86f29b732ab\",\"root_ids\":[\"8504\"],\"roots\":{\"8504\":\"d241b8ea-bb9f-47fb-b6e9-3d2ec11ffd2d\"}}];\n",
       "    root.Bokeh.embed.embed_items_notebook(docs_json, render_items);\n",
       "  }\n",
       "  if (root.Bokeh !== undefined && root.Bokeh.Panel !== undefined) {\n",
       "    embed_document(root);\n",
       "  } else {\n",
       "    var attempts = 0;\n",
       "    var timer = setInterval(function(root) {\n",
       "      if (root.Bokeh !== undefined && root.Bokeh.Panel !== undefined) {\n",
       "        clearInterval(timer);\n",
       "        embed_document(root);\n",
       "      } else if (document.readyState == \"complete\") {\n",
       "        attempts++;\n",
       "        if (attempts > 100) {\n",
       "          clearInterval(timer);\n",
       "          console.log(\"Bokeh: ERROR: Unable to run BokehJS code because BokehJS library is missing\");\n",
       "        }\n",
       "      }\n",
       "    }, 10, root)\n",
       "  }\n",
       "})(window);</script>"
      ],
      "text/plain": [
       ":NdOverlay   [Variable]\n",
       "   :Curve   [date]   (value)"
      ]
     },
     "execution_count": 117,
     "metadata": {
      "application/vnd.holoviews_exec.v0+json": {
       "id": "8504"
      }
     },
     "output_type": "execute_result"
    }
   ],
   "source": [
    "# Plot the actual returns versus the strategy returns\n",
    "plot_1 = (1 + predictions_df[[\"Actual Returns\", \"Strategy Returns\"]]).cumprod().hvplot(\n",
    "    title=\"Actual Returns vs Strategy Returns - SVM\",\n",
    "    xlabel = \"Date\",\n",
    "    ylabel = \"Returns\"\n",
    "    ).opts(height=450, width=900)\n",
    "plot_1"
   ]
  },
  {
   "cell_type": "markdown",
   "metadata": {},
   "source": [
    "---\n",
    "\n",
    "## Tune the Baseline Trading Algorithm"
   ]
  },
  {
   "cell_type": "markdown",
   "metadata": {},
   "source": [
    "## Step 6: Use an Alternative ML Model and Evaluate Strategy Returns"
   ]
  },
  {
   "cell_type": "markdown",
   "metadata": {},
   "source": [
    "In this section, you’ll tune, or adjust, the model’s input features to find the parameters that result in the best trading outcomes. You’ll choose the best by comparing the cumulative products of the strategy returns."
   ]
  },
  {
   "cell_type": "markdown",
   "metadata": {},
   "source": [
    "### Step 1: Tune the training algorithm by adjusting the size of the training dataset. \n",
    "\n",
    "To do so, slice your data into different periods. Rerun the notebook with the updated parameters, and record the results in your `README.md` file. \n",
    "\n",
    "Answer the following question: What impact resulted from increasing or decreasing the training window?"
   ]
  },
  {
   "cell_type": "markdown",
   "metadata": {},
   "source": [
    "### Step 2: Tune the trading algorithm by adjusting the SMA input features. \n",
    "\n",
    "Adjust one or both of the windows for the algorithm. Rerun the notebook with the updated parameters, and record the results in your `README.md` file. \n",
    "\n",
    "Answer the following question: What impact resulted from increasing or decreasing either or both of the SMA windows?"
   ]
  },
  {
   "cell_type": "markdown",
   "metadata": {},
   "source": [
    "### Step 3: Choose the set of parameters that best improved the trading algorithm returns. \n",
    "\n",
    "Save a PNG image of the cumulative product of the actual returns vs. the strategy returns, and document your conclusion in your `README.md` file."
   ]
  },
  {
   "cell_type": "markdown",
   "metadata": {},
   "source": [
    "---\n",
    "\n",
    "## Evaluate a New Machine Learning Classifier\n",
    "\n",
    "In this section, you’ll use the original parameters that the starter code provided. But, you’ll apply them to the performance of a second machine learning model. "
   ]
  },
  {
   "cell_type": "markdown",
   "metadata": {},
   "source": [
    "### Step 1:  Import a new classifier, such as `AdaBoost`, `DecisionTreeClassifier`, or `LogisticRegression`. (For the full list of classifiers, refer to the [Supervised learning page](https://scikit-learn.org/stable/supervised_learning.html) in the scikit-learn documentation.)"
   ]
  },
  {
   "cell_type": "code",
   "execution_count": null,
   "metadata": {},
   "outputs": [],
   "source": [
    "# Import a new classifier from SKLearn\n",
    "# YOUR CODE HERE\n",
    "\n",
    "# Initiate the model instance\n",
    "# YOUR CODE HERE\n"
   ]
  },
  {
   "cell_type": "markdown",
   "metadata": {},
   "source": [
    "### Step 2: Using the original training data as the baseline model, fit another model with the new classifier."
   ]
  },
  {
   "cell_type": "code",
   "execution_count": null,
   "metadata": {},
   "outputs": [],
   "source": [
    "# Fit the model using the training data\n",
    "model = # YOUR CODE HERE\n",
    "\n",
    "# Use the testing dataset to generate the predictions for the new model\n",
    "pred = # YOUR CODE HERE\n",
    "\n",
    "# Review the model's predicted values\n",
    "# YOUR CODE HERE\n"
   ]
  },
  {
   "cell_type": "markdown",
   "metadata": {},
   "source": [
    "### Step 3: Backtest the new model to evaluate its performance. \n",
    "\n",
    "Save a PNG image of the cumulative product of the actual returns vs. the strategy returns for this updated trading algorithm, and write your conclusions in your `README.md` file. \n",
    "\n",
    "Answer the following questions: \n",
    "Did this new model perform better or worse than the provided baseline model? \n",
    "Did this new model perform better or worse than your tuned trading algorithm?"
   ]
  },
  {
   "cell_type": "code",
   "execution_count": null,
   "metadata": {},
   "outputs": [],
   "source": [
    "# Use a classification report to evaluate the model using the predictions and testing data\n",
    "# YOUR CODE HERE\n",
    "\n",
    "# Print the classification report\n",
    "# YOUR CODE HERE\n"
   ]
  },
  {
   "cell_type": "code",
   "execution_count": null,
   "metadata": {},
   "outputs": [],
   "source": [
    "# Create a new empty predictions DataFrame.\n",
    "\n",
    "# Create a predictions DataFrame\n",
    "# YOUR CODE HERE\n",
    "\n",
    "# Add the SVM model predictions to the DataFrame\n",
    "# YOUR CODE HERE\n",
    "\n",
    "# Add the actual returns to the DataFrame\n",
    "# YOUR CODE HERE\n",
    "\n",
    "# Add the strategy returns to the DataFrame\n",
    "# YOUR CODE HERE\n",
    "\n",
    "# Review the DataFrame\n",
    "# YOUR CODE HERE\n"
   ]
  },
  {
   "cell_type": "code",
   "execution_count": null,
   "metadata": {},
   "outputs": [],
   "source": [
    "# Plot the actual returns versus the strategy returns\n",
    "# YOUR CODE HERE"
   ]
  },
  {
   "cell_type": "code",
   "execution_count": null,
   "metadata": {},
   "outputs": [],
   "source": []
  }
 ],
 "metadata": {
  "kernelspec": {
   "display_name": "dev",
   "language": "python",
   "name": "dev"
  },
  "language_info": {
   "codemirror_mode": {
    "name": "ipython",
    "version": 3
   },
   "file_extension": ".py",
   "mimetype": "text/x-python",
   "name": "python",
   "nbconvert_exporter": "python",
   "pygments_lexer": "ipython3",
   "version": "3.7.9"
  }
 },
 "nbformat": 4,
 "nbformat_minor": 4
}
